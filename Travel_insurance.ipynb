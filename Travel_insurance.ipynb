{
  "cells": [
    {
      "cell_type": "markdown",
      "metadata": {
        "id": "CzWEIEyALG_9"
      },
      "source": [
        "# **TRAVEL INSURANCE PREDICTION**"
      ]
    },
    {
      "cell_type": "markdown",
      "metadata": {
        "id": "SWx0cjQsLa-M"
      },
      "source": [
        "Importing the necessary Python libraries and the dataset:"
      ]
    },
    {
      "cell_type": "code",
      "execution_count": 127,
      "metadata": {
        "colab": {
          "base_uri": "https://localhost:8080/"
        },
        "id": "nu8zuh2iF1bH",
        "outputId": "632fcac7-aa12-4af2-a987-318c4a4d67fa"
      },
      "outputs": [],
      "source": [
        "import pandas as pd\n",
        "import plotly.express as px\n",
        "import numpy as np\n",
        "import matplotlib.pyplot as plt\n",
        "import seaborn as sns\n",
        "from sklearn.model_selection import train_test_split\n",
        "from sklearn.preprocessing import MinMaxScaler\n",
        "from sklearn.metrics import classification_report\n",
        "\n",
        "import pickle\n"
      ]
    },
    {
      "cell_type": "code",
      "execution_count": 128,
      "metadata": {
        "colab": {
          "base_uri": "https://localhost:8080/",
          "height": 597
        },
        "id": "B5lb11qosd-Q",
        "outputId": "e988dac0-b9a0-4c3f-b220-9a333522a139"
      },
      "outputs": [
        {
          "data": {
            "text/html": [
              "<div>\n",
              "<style scoped>\n",
              "    .dataframe tbody tr th:only-of-type {\n",
              "        vertical-align: middle;\n",
              "    }\n",
              "\n",
              "    .dataframe tbody tr th {\n",
              "        vertical-align: top;\n",
              "    }\n",
              "\n",
              "    .dataframe thead th {\n",
              "        text-align: right;\n",
              "    }\n",
              "</style>\n",
              "<table border=\"1\" class=\"dataframe\">\n",
              "  <thead>\n",
              "    <tr style=\"text-align: right;\">\n",
              "      <th></th>\n",
              "      <th>Unnamed: 0</th>\n",
              "      <th>Age</th>\n",
              "      <th>Employment Type</th>\n",
              "      <th>GraduateOrNot</th>\n",
              "      <th>AnnualIncome</th>\n",
              "      <th>FamilyMembers</th>\n",
              "      <th>ChronicDiseases</th>\n",
              "      <th>FrequentFlyer</th>\n",
              "      <th>EverTravelledAbroad</th>\n",
              "      <th>TravelInsurance</th>\n",
              "    </tr>\n",
              "  </thead>\n",
              "  <tbody>\n",
              "    <tr>\n",
              "      <th>0</th>\n",
              "      <td>0</td>\n",
              "      <td>31</td>\n",
              "      <td>Government Sector</td>\n",
              "      <td>Yes</td>\n",
              "      <td>400000</td>\n",
              "      <td>6</td>\n",
              "      <td>1</td>\n",
              "      <td>No</td>\n",
              "      <td>No</td>\n",
              "      <td>0</td>\n",
              "    </tr>\n",
              "    <tr>\n",
              "      <th>1</th>\n",
              "      <td>1</td>\n",
              "      <td>31</td>\n",
              "      <td>Private Sector/Self Employed</td>\n",
              "      <td>Yes</td>\n",
              "      <td>1250000</td>\n",
              "      <td>7</td>\n",
              "      <td>0</td>\n",
              "      <td>No</td>\n",
              "      <td>No</td>\n",
              "      <td>0</td>\n",
              "    </tr>\n",
              "    <tr>\n",
              "      <th>2</th>\n",
              "      <td>2</td>\n",
              "      <td>34</td>\n",
              "      <td>Private Sector/Self Employed</td>\n",
              "      <td>Yes</td>\n",
              "      <td>500000</td>\n",
              "      <td>4</td>\n",
              "      <td>1</td>\n",
              "      <td>No</td>\n",
              "      <td>No</td>\n",
              "      <td>1</td>\n",
              "    </tr>\n",
              "    <tr>\n",
              "      <th>3</th>\n",
              "      <td>3</td>\n",
              "      <td>28</td>\n",
              "      <td>Private Sector/Self Employed</td>\n",
              "      <td>Yes</td>\n",
              "      <td>700000</td>\n",
              "      <td>3</td>\n",
              "      <td>1</td>\n",
              "      <td>No</td>\n",
              "      <td>No</td>\n",
              "      <td>0</td>\n",
              "    </tr>\n",
              "    <tr>\n",
              "      <th>4</th>\n",
              "      <td>4</td>\n",
              "      <td>28</td>\n",
              "      <td>Private Sector/Self Employed</td>\n",
              "      <td>Yes</td>\n",
              "      <td>700000</td>\n",
              "      <td>8</td>\n",
              "      <td>1</td>\n",
              "      <td>Yes</td>\n",
              "      <td>No</td>\n",
              "      <td>0</td>\n",
              "    </tr>\n",
              "    <tr>\n",
              "      <th>...</th>\n",
              "      <td>...</td>\n",
              "      <td>...</td>\n",
              "      <td>...</td>\n",
              "      <td>...</td>\n",
              "      <td>...</td>\n",
              "      <td>...</td>\n",
              "      <td>...</td>\n",
              "      <td>...</td>\n",
              "      <td>...</td>\n",
              "      <td>...</td>\n",
              "    </tr>\n",
              "    <tr>\n",
              "      <th>1982</th>\n",
              "      <td>1982</td>\n",
              "      <td>33</td>\n",
              "      <td>Private Sector/Self Employed</td>\n",
              "      <td>Yes</td>\n",
              "      <td>1500000</td>\n",
              "      <td>4</td>\n",
              "      <td>0</td>\n",
              "      <td>Yes</td>\n",
              "      <td>Yes</td>\n",
              "      <td>1</td>\n",
              "    </tr>\n",
              "    <tr>\n",
              "      <th>1983</th>\n",
              "      <td>1983</td>\n",
              "      <td>28</td>\n",
              "      <td>Private Sector/Self Employed</td>\n",
              "      <td>Yes</td>\n",
              "      <td>1750000</td>\n",
              "      <td>5</td>\n",
              "      <td>1</td>\n",
              "      <td>No</td>\n",
              "      <td>Yes</td>\n",
              "      <td>0</td>\n",
              "    </tr>\n",
              "    <tr>\n",
              "      <th>1984</th>\n",
              "      <td>1984</td>\n",
              "      <td>28</td>\n",
              "      <td>Private Sector/Self Employed</td>\n",
              "      <td>Yes</td>\n",
              "      <td>1150000</td>\n",
              "      <td>6</td>\n",
              "      <td>1</td>\n",
              "      <td>No</td>\n",
              "      <td>No</td>\n",
              "      <td>0</td>\n",
              "    </tr>\n",
              "    <tr>\n",
              "      <th>1985</th>\n",
              "      <td>1985</td>\n",
              "      <td>34</td>\n",
              "      <td>Private Sector/Self Employed</td>\n",
              "      <td>Yes</td>\n",
              "      <td>1000000</td>\n",
              "      <td>6</td>\n",
              "      <td>0</td>\n",
              "      <td>Yes</td>\n",
              "      <td>Yes</td>\n",
              "      <td>1</td>\n",
              "    </tr>\n",
              "    <tr>\n",
              "      <th>1986</th>\n",
              "      <td>1986</td>\n",
              "      <td>34</td>\n",
              "      <td>Private Sector/Self Employed</td>\n",
              "      <td>Yes</td>\n",
              "      <td>500000</td>\n",
              "      <td>4</td>\n",
              "      <td>0</td>\n",
              "      <td>No</td>\n",
              "      <td>No</td>\n",
              "      <td>0</td>\n",
              "    </tr>\n",
              "  </tbody>\n",
              "</table>\n",
              "<p>1987 rows × 10 columns</p>\n",
              "</div>"
            ],
            "text/plain": [
              "      Unnamed: 0  Age               Employment Type GraduateOrNot  \\\n",
              "0              0   31             Government Sector           Yes   \n",
              "1              1   31  Private Sector/Self Employed           Yes   \n",
              "2              2   34  Private Sector/Self Employed           Yes   \n",
              "3              3   28  Private Sector/Self Employed           Yes   \n",
              "4              4   28  Private Sector/Self Employed           Yes   \n",
              "...          ...  ...                           ...           ...   \n",
              "1982        1982   33  Private Sector/Self Employed           Yes   \n",
              "1983        1983   28  Private Sector/Self Employed           Yes   \n",
              "1984        1984   28  Private Sector/Self Employed           Yes   \n",
              "1985        1985   34  Private Sector/Self Employed           Yes   \n",
              "1986        1986   34  Private Sector/Self Employed           Yes   \n",
              "\n",
              "      AnnualIncome  FamilyMembers  ChronicDiseases FrequentFlyer  \\\n",
              "0           400000              6                1            No   \n",
              "1          1250000              7                0            No   \n",
              "2           500000              4                1            No   \n",
              "3           700000              3                1            No   \n",
              "4           700000              8                1           Yes   \n",
              "...            ...            ...              ...           ...   \n",
              "1982       1500000              4                0           Yes   \n",
              "1983       1750000              5                1            No   \n",
              "1984       1150000              6                1            No   \n",
              "1985       1000000              6                0           Yes   \n",
              "1986        500000              4                0            No   \n",
              "\n",
              "     EverTravelledAbroad  TravelInsurance  \n",
              "0                     No                0  \n",
              "1                     No                0  \n",
              "2                     No                1  \n",
              "3                     No                0  \n",
              "4                     No                0  \n",
              "...                  ...              ...  \n",
              "1982                 Yes                1  \n",
              "1983                 Yes                0  \n",
              "1984                  No                0  \n",
              "1985                 Yes                1  \n",
              "1986                  No                0  \n",
              "\n",
              "[1987 rows x 10 columns]"
            ]
          },
          "execution_count": 128,
          "metadata": {},
          "output_type": "execute_result"
        }
      ],
      "source": [
        "df = pd.read_csv('TravelInsurancePrediction.csv')\n",
        "df"
      ]
    },
    {
      "cell_type": "code",
      "execution_count": 129,
      "metadata": {},
      "outputs": [
        {
          "data": {
            "text/html": [
              "<div>\n",
              "<style scoped>\n",
              "    .dataframe tbody tr th:only-of-type {\n",
              "        vertical-align: middle;\n",
              "    }\n",
              "\n",
              "    .dataframe tbody tr th {\n",
              "        vertical-align: top;\n",
              "    }\n",
              "\n",
              "    .dataframe thead th {\n",
              "        text-align: right;\n",
              "    }\n",
              "</style>\n",
              "<table border=\"1\" class=\"dataframe\">\n",
              "  <thead>\n",
              "    <tr style=\"text-align: right;\">\n",
              "      <th></th>\n",
              "      <th>Unnamed: 0</th>\n",
              "      <th>Age</th>\n",
              "      <th>Employment Type</th>\n",
              "      <th>GraduateOrNot</th>\n",
              "      <th>AnnualIncome</th>\n",
              "      <th>FamilyMembers</th>\n",
              "      <th>ChronicDiseases</th>\n",
              "      <th>FrequentFlyer</th>\n",
              "      <th>EverTravelledAbroad</th>\n",
              "      <th>TravelInsurance</th>\n",
              "    </tr>\n",
              "  </thead>\n",
              "  <tbody>\n",
              "    <tr>\n",
              "      <th>0</th>\n",
              "      <td>0</td>\n",
              "      <td>31</td>\n",
              "      <td>Government Sector</td>\n",
              "      <td>Yes</td>\n",
              "      <td>400000</td>\n",
              "      <td>6</td>\n",
              "      <td>1</td>\n",
              "      <td>No</td>\n",
              "      <td>No</td>\n",
              "      <td>0</td>\n",
              "    </tr>\n",
              "    <tr>\n",
              "      <th>1</th>\n",
              "      <td>1</td>\n",
              "      <td>31</td>\n",
              "      <td>Private Sector/Self Employed</td>\n",
              "      <td>Yes</td>\n",
              "      <td>1250000</td>\n",
              "      <td>7</td>\n",
              "      <td>0</td>\n",
              "      <td>No</td>\n",
              "      <td>No</td>\n",
              "      <td>0</td>\n",
              "    </tr>\n",
              "    <tr>\n",
              "      <th>2</th>\n",
              "      <td>2</td>\n",
              "      <td>34</td>\n",
              "      <td>Private Sector/Self Employed</td>\n",
              "      <td>Yes</td>\n",
              "      <td>500000</td>\n",
              "      <td>4</td>\n",
              "      <td>1</td>\n",
              "      <td>No</td>\n",
              "      <td>No</td>\n",
              "      <td>1</td>\n",
              "    </tr>\n",
              "    <tr>\n",
              "      <th>3</th>\n",
              "      <td>3</td>\n",
              "      <td>28</td>\n",
              "      <td>Private Sector/Self Employed</td>\n",
              "      <td>Yes</td>\n",
              "      <td>700000</td>\n",
              "      <td>3</td>\n",
              "      <td>1</td>\n",
              "      <td>No</td>\n",
              "      <td>No</td>\n",
              "      <td>0</td>\n",
              "    </tr>\n",
              "    <tr>\n",
              "      <th>4</th>\n",
              "      <td>4</td>\n",
              "      <td>28</td>\n",
              "      <td>Private Sector/Self Employed</td>\n",
              "      <td>Yes</td>\n",
              "      <td>700000</td>\n",
              "      <td>8</td>\n",
              "      <td>1</td>\n",
              "      <td>Yes</td>\n",
              "      <td>No</td>\n",
              "      <td>0</td>\n",
              "    </tr>\n",
              "  </tbody>\n",
              "</table>\n",
              "</div>"
            ],
            "text/plain": [
              "   Unnamed: 0  Age               Employment Type GraduateOrNot  AnnualIncome  \\\n",
              "0           0   31             Government Sector           Yes        400000   \n",
              "1           1   31  Private Sector/Self Employed           Yes       1250000   \n",
              "2           2   34  Private Sector/Self Employed           Yes        500000   \n",
              "3           3   28  Private Sector/Self Employed           Yes        700000   \n",
              "4           4   28  Private Sector/Self Employed           Yes        700000   \n",
              "\n",
              "   FamilyMembers  ChronicDiseases FrequentFlyer EverTravelledAbroad  \\\n",
              "0              6                1            No                  No   \n",
              "1              7                0            No                  No   \n",
              "2              4                1            No                  No   \n",
              "3              3                1            No                  No   \n",
              "4              8                1           Yes                  No   \n",
              "\n",
              "   TravelInsurance  \n",
              "0                0  \n",
              "1                0  \n",
              "2                1  \n",
              "3                0  \n",
              "4                0  "
            ]
          },
          "execution_count": 129,
          "metadata": {},
          "output_type": "execute_result"
        }
      ],
      "source": [
        "df.head()"
      ]
    },
    {
      "cell_type": "code",
      "execution_count": 130,
      "metadata": {},
      "outputs": [
        {
          "data": {
            "text/html": [
              "<div>\n",
              "<style scoped>\n",
              "    .dataframe tbody tr th:only-of-type {\n",
              "        vertical-align: middle;\n",
              "    }\n",
              "\n",
              "    .dataframe tbody tr th {\n",
              "        vertical-align: top;\n",
              "    }\n",
              "\n",
              "    .dataframe thead th {\n",
              "        text-align: right;\n",
              "    }\n",
              "</style>\n",
              "<table border=\"1\" class=\"dataframe\">\n",
              "  <thead>\n",
              "    <tr style=\"text-align: right;\">\n",
              "      <th></th>\n",
              "      <th>Unnamed: 0</th>\n",
              "      <th>Age</th>\n",
              "      <th>Employment Type</th>\n",
              "      <th>GraduateOrNot</th>\n",
              "      <th>AnnualIncome</th>\n",
              "      <th>FamilyMembers</th>\n",
              "      <th>ChronicDiseases</th>\n",
              "      <th>FrequentFlyer</th>\n",
              "      <th>EverTravelledAbroad</th>\n",
              "      <th>TravelInsurance</th>\n",
              "    </tr>\n",
              "  </thead>\n",
              "  <tbody>\n",
              "    <tr>\n",
              "      <th>1982</th>\n",
              "      <td>1982</td>\n",
              "      <td>33</td>\n",
              "      <td>Private Sector/Self Employed</td>\n",
              "      <td>Yes</td>\n",
              "      <td>1500000</td>\n",
              "      <td>4</td>\n",
              "      <td>0</td>\n",
              "      <td>Yes</td>\n",
              "      <td>Yes</td>\n",
              "      <td>1</td>\n",
              "    </tr>\n",
              "    <tr>\n",
              "      <th>1983</th>\n",
              "      <td>1983</td>\n",
              "      <td>28</td>\n",
              "      <td>Private Sector/Self Employed</td>\n",
              "      <td>Yes</td>\n",
              "      <td>1750000</td>\n",
              "      <td>5</td>\n",
              "      <td>1</td>\n",
              "      <td>No</td>\n",
              "      <td>Yes</td>\n",
              "      <td>0</td>\n",
              "    </tr>\n",
              "    <tr>\n",
              "      <th>1984</th>\n",
              "      <td>1984</td>\n",
              "      <td>28</td>\n",
              "      <td>Private Sector/Self Employed</td>\n",
              "      <td>Yes</td>\n",
              "      <td>1150000</td>\n",
              "      <td>6</td>\n",
              "      <td>1</td>\n",
              "      <td>No</td>\n",
              "      <td>No</td>\n",
              "      <td>0</td>\n",
              "    </tr>\n",
              "    <tr>\n",
              "      <th>1985</th>\n",
              "      <td>1985</td>\n",
              "      <td>34</td>\n",
              "      <td>Private Sector/Self Employed</td>\n",
              "      <td>Yes</td>\n",
              "      <td>1000000</td>\n",
              "      <td>6</td>\n",
              "      <td>0</td>\n",
              "      <td>Yes</td>\n",
              "      <td>Yes</td>\n",
              "      <td>1</td>\n",
              "    </tr>\n",
              "    <tr>\n",
              "      <th>1986</th>\n",
              "      <td>1986</td>\n",
              "      <td>34</td>\n",
              "      <td>Private Sector/Self Employed</td>\n",
              "      <td>Yes</td>\n",
              "      <td>500000</td>\n",
              "      <td>4</td>\n",
              "      <td>0</td>\n",
              "      <td>No</td>\n",
              "      <td>No</td>\n",
              "      <td>0</td>\n",
              "    </tr>\n",
              "  </tbody>\n",
              "</table>\n",
              "</div>"
            ],
            "text/plain": [
              "      Unnamed: 0  Age               Employment Type GraduateOrNot  \\\n",
              "1982        1982   33  Private Sector/Self Employed           Yes   \n",
              "1983        1983   28  Private Sector/Self Employed           Yes   \n",
              "1984        1984   28  Private Sector/Self Employed           Yes   \n",
              "1985        1985   34  Private Sector/Self Employed           Yes   \n",
              "1986        1986   34  Private Sector/Self Employed           Yes   \n",
              "\n",
              "      AnnualIncome  FamilyMembers  ChronicDiseases FrequentFlyer  \\\n",
              "1982       1500000              4                0           Yes   \n",
              "1983       1750000              5                1            No   \n",
              "1984       1150000              6                1            No   \n",
              "1985       1000000              6                0           Yes   \n",
              "1986        500000              4                0            No   \n",
              "\n",
              "     EverTravelledAbroad  TravelInsurance  \n",
              "1982                 Yes                1  \n",
              "1983                 Yes                0  \n",
              "1984                  No                0  \n",
              "1985                 Yes                1  \n",
              "1986                  No                0  "
            ]
          },
          "execution_count": 130,
          "metadata": {},
          "output_type": "execute_result"
        }
      ],
      "source": [
        "df.tail()"
      ]
    },
    {
      "cell_type": "code",
      "execution_count": 131,
      "metadata": {},
      "outputs": [
        {
          "data": {
            "text/plain": [
              "Unnamed: 0             0\n",
              "Age                    0\n",
              "Employment Type        0\n",
              "GraduateOrNot          0\n",
              "AnnualIncome           0\n",
              "FamilyMembers          0\n",
              "ChronicDiseases        0\n",
              "FrequentFlyer          0\n",
              "EverTravelledAbroad    0\n",
              "TravelInsurance        0\n",
              "dtype: int64"
            ]
          },
          "execution_count": 131,
          "metadata": {},
          "output_type": "execute_result"
        }
      ],
      "source": [
        "df.isna().sum()"
      ]
    },
    {
      "cell_type": "code",
      "execution_count": 132,
      "metadata": {},
      "outputs": [
        {
          "data": {
            "text/plain": [
              "Unnamed: 0              int64\n",
              "Age                     int64\n",
              "Employment Type        object\n",
              "GraduateOrNot          object\n",
              "AnnualIncome            int64\n",
              "FamilyMembers           int64\n",
              "ChronicDiseases         int64\n",
              "FrequentFlyer          object\n",
              "EverTravelledAbroad    object\n",
              "TravelInsurance         int64\n",
              "dtype: object"
            ]
          },
          "execution_count": 132,
          "metadata": {},
          "output_type": "execute_result"
        }
      ],
      "source": [
        "df.dtypes"
      ]
    },
    {
      "cell_type": "code",
      "execution_count": 133,
      "metadata": {},
      "outputs": [
        {
          "data": {
            "text/plain": [
              "Index(['Unnamed: 0', 'Age', 'Employment Type', 'GraduateOrNot', 'AnnualIncome',\n",
              "       'FamilyMembers', 'ChronicDiseases', 'FrequentFlyer',\n",
              "       'EverTravelledAbroad', 'TravelInsurance'],\n",
              "      dtype='object')"
            ]
          },
          "execution_count": 133,
          "metadata": {},
          "output_type": "execute_result"
        }
      ],
      "source": [
        "df.columns"
      ]
    },
    {
      "cell_type": "markdown",
      "metadata": {
        "id": "gIwQDQpWL1O4"
      },
      "source": [
        "The Unnamed column in this dataset is not useful, so I will remove it from the data"
      ]
    },
    {
      "cell_type": "code",
      "execution_count": 134,
      "metadata": {
        "colab": {
          "base_uri": "https://localhost:8080/",
          "height": 424
        },
        "id": "Q2f3iRgoEI7u",
        "outputId": "f225d660-afd8-402f-ac13-bb431a9c2531"
      },
      "outputs": [
        {
          "data": {
            "text/html": [
              "<div>\n",
              "<style scoped>\n",
              "    .dataframe tbody tr th:only-of-type {\n",
              "        vertical-align: middle;\n",
              "    }\n",
              "\n",
              "    .dataframe tbody tr th {\n",
              "        vertical-align: top;\n",
              "    }\n",
              "\n",
              "    .dataframe thead th {\n",
              "        text-align: right;\n",
              "    }\n",
              "</style>\n",
              "<table border=\"1\" class=\"dataframe\">\n",
              "  <thead>\n",
              "    <tr style=\"text-align: right;\">\n",
              "      <th></th>\n",
              "      <th>Age</th>\n",
              "      <th>Employment Type</th>\n",
              "      <th>GraduateOrNot</th>\n",
              "      <th>AnnualIncome</th>\n",
              "      <th>FamilyMembers</th>\n",
              "      <th>ChronicDiseases</th>\n",
              "      <th>FrequentFlyer</th>\n",
              "      <th>EverTravelledAbroad</th>\n",
              "      <th>TravelInsurance</th>\n",
              "    </tr>\n",
              "  </thead>\n",
              "  <tbody>\n",
              "    <tr>\n",
              "      <th>0</th>\n",
              "      <td>31</td>\n",
              "      <td>Government Sector</td>\n",
              "      <td>Yes</td>\n",
              "      <td>400000</td>\n",
              "      <td>6</td>\n",
              "      <td>1</td>\n",
              "      <td>No</td>\n",
              "      <td>No</td>\n",
              "      <td>0</td>\n",
              "    </tr>\n",
              "    <tr>\n",
              "      <th>1</th>\n",
              "      <td>31</td>\n",
              "      <td>Private Sector/Self Employed</td>\n",
              "      <td>Yes</td>\n",
              "      <td>1250000</td>\n",
              "      <td>7</td>\n",
              "      <td>0</td>\n",
              "      <td>No</td>\n",
              "      <td>No</td>\n",
              "      <td>0</td>\n",
              "    </tr>\n",
              "    <tr>\n",
              "      <th>2</th>\n",
              "      <td>34</td>\n",
              "      <td>Private Sector/Self Employed</td>\n",
              "      <td>Yes</td>\n",
              "      <td>500000</td>\n",
              "      <td>4</td>\n",
              "      <td>1</td>\n",
              "      <td>No</td>\n",
              "      <td>No</td>\n",
              "      <td>1</td>\n",
              "    </tr>\n",
              "    <tr>\n",
              "      <th>3</th>\n",
              "      <td>28</td>\n",
              "      <td>Private Sector/Self Employed</td>\n",
              "      <td>Yes</td>\n",
              "      <td>700000</td>\n",
              "      <td>3</td>\n",
              "      <td>1</td>\n",
              "      <td>No</td>\n",
              "      <td>No</td>\n",
              "      <td>0</td>\n",
              "    </tr>\n",
              "    <tr>\n",
              "      <th>4</th>\n",
              "      <td>28</td>\n",
              "      <td>Private Sector/Self Employed</td>\n",
              "      <td>Yes</td>\n",
              "      <td>700000</td>\n",
              "      <td>8</td>\n",
              "      <td>1</td>\n",
              "      <td>Yes</td>\n",
              "      <td>No</td>\n",
              "      <td>0</td>\n",
              "    </tr>\n",
              "    <tr>\n",
              "      <th>...</th>\n",
              "      <td>...</td>\n",
              "      <td>...</td>\n",
              "      <td>...</td>\n",
              "      <td>...</td>\n",
              "      <td>...</td>\n",
              "      <td>...</td>\n",
              "      <td>...</td>\n",
              "      <td>...</td>\n",
              "      <td>...</td>\n",
              "    </tr>\n",
              "    <tr>\n",
              "      <th>1982</th>\n",
              "      <td>33</td>\n",
              "      <td>Private Sector/Self Employed</td>\n",
              "      <td>Yes</td>\n",
              "      <td>1500000</td>\n",
              "      <td>4</td>\n",
              "      <td>0</td>\n",
              "      <td>Yes</td>\n",
              "      <td>Yes</td>\n",
              "      <td>1</td>\n",
              "    </tr>\n",
              "    <tr>\n",
              "      <th>1983</th>\n",
              "      <td>28</td>\n",
              "      <td>Private Sector/Self Employed</td>\n",
              "      <td>Yes</td>\n",
              "      <td>1750000</td>\n",
              "      <td>5</td>\n",
              "      <td>1</td>\n",
              "      <td>No</td>\n",
              "      <td>Yes</td>\n",
              "      <td>0</td>\n",
              "    </tr>\n",
              "    <tr>\n",
              "      <th>1984</th>\n",
              "      <td>28</td>\n",
              "      <td>Private Sector/Self Employed</td>\n",
              "      <td>Yes</td>\n",
              "      <td>1150000</td>\n",
              "      <td>6</td>\n",
              "      <td>1</td>\n",
              "      <td>No</td>\n",
              "      <td>No</td>\n",
              "      <td>0</td>\n",
              "    </tr>\n",
              "    <tr>\n",
              "      <th>1985</th>\n",
              "      <td>34</td>\n",
              "      <td>Private Sector/Self Employed</td>\n",
              "      <td>Yes</td>\n",
              "      <td>1000000</td>\n",
              "      <td>6</td>\n",
              "      <td>0</td>\n",
              "      <td>Yes</td>\n",
              "      <td>Yes</td>\n",
              "      <td>1</td>\n",
              "    </tr>\n",
              "    <tr>\n",
              "      <th>1986</th>\n",
              "      <td>34</td>\n",
              "      <td>Private Sector/Self Employed</td>\n",
              "      <td>Yes</td>\n",
              "      <td>500000</td>\n",
              "      <td>4</td>\n",
              "      <td>0</td>\n",
              "      <td>No</td>\n",
              "      <td>No</td>\n",
              "      <td>0</td>\n",
              "    </tr>\n",
              "  </tbody>\n",
              "</table>\n",
              "<p>1987 rows × 9 columns</p>\n",
              "</div>"
            ],
            "text/plain": [
              "      Age               Employment Type GraduateOrNot  AnnualIncome  \\\n",
              "0      31             Government Sector           Yes        400000   \n",
              "1      31  Private Sector/Self Employed           Yes       1250000   \n",
              "2      34  Private Sector/Self Employed           Yes        500000   \n",
              "3      28  Private Sector/Self Employed           Yes        700000   \n",
              "4      28  Private Sector/Self Employed           Yes        700000   \n",
              "...   ...                           ...           ...           ...   \n",
              "1982   33  Private Sector/Self Employed           Yes       1500000   \n",
              "1983   28  Private Sector/Self Employed           Yes       1750000   \n",
              "1984   28  Private Sector/Self Employed           Yes       1150000   \n",
              "1985   34  Private Sector/Self Employed           Yes       1000000   \n",
              "1986   34  Private Sector/Self Employed           Yes        500000   \n",
              "\n",
              "      FamilyMembers  ChronicDiseases FrequentFlyer EverTravelledAbroad  \\\n",
              "0                 6                1            No                  No   \n",
              "1                 7                0            No                  No   \n",
              "2                 4                1            No                  No   \n",
              "3                 3                1            No                  No   \n",
              "4                 8                1           Yes                  No   \n",
              "...             ...              ...           ...                 ...   \n",
              "1982              4                0           Yes                 Yes   \n",
              "1983              5                1            No                 Yes   \n",
              "1984              6                1            No                  No   \n",
              "1985              6                0           Yes                 Yes   \n",
              "1986              4                0            No                  No   \n",
              "\n",
              "      TravelInsurance  \n",
              "0                   0  \n",
              "1                   0  \n",
              "2                   1  \n",
              "3                   0  \n",
              "4                   0  \n",
              "...               ...  \n",
              "1982                1  \n",
              "1983                0  \n",
              "1984                0  \n",
              "1985                1  \n",
              "1986                0  \n",
              "\n",
              "[1987 rows x 9 columns]"
            ]
          },
          "execution_count": 134,
          "metadata": {},
          "output_type": "execute_result"
        }
      ],
      "source": [
        "df.drop(['Unnamed: 0'],axis=1,inplace=True)\n",
        "df"
      ]
    },
    {
      "cell_type": "markdown",
      "metadata": {
        "id": "v1metYROMqN-"
      },
      "source": [
        "In this dataset, the labels we want to predict are in the “TravelInsurance” column. The values in this column are mentioned as 0 and 1 where 0 means not bought and 1 means bought. For a better understanding when analyzing this data, I will convert 1 and 0 to purchased and not purchased:"
      ]
    },
    {
      "cell_type": "code",
      "execution_count": 135,
      "metadata": {
        "id": "LdwoBb-2Ffw4"
      },
      "outputs": [
        {
          "data": {
            "text/html": [
              "<div>\n",
              "<style scoped>\n",
              "    .dataframe tbody tr th:only-of-type {\n",
              "        vertical-align: middle;\n",
              "    }\n",
              "\n",
              "    .dataframe tbody tr th {\n",
              "        vertical-align: top;\n",
              "    }\n",
              "\n",
              "    .dataframe thead th {\n",
              "        text-align: right;\n",
              "    }\n",
              "</style>\n",
              "<table border=\"1\" class=\"dataframe\">\n",
              "  <thead>\n",
              "    <tr style=\"text-align: right;\">\n",
              "      <th></th>\n",
              "      <th>Age</th>\n",
              "      <th>Employment Type</th>\n",
              "      <th>GraduateOrNot</th>\n",
              "      <th>AnnualIncome</th>\n",
              "      <th>FamilyMembers</th>\n",
              "      <th>ChronicDiseases</th>\n",
              "      <th>FrequentFlyer</th>\n",
              "      <th>EverTravelledAbroad</th>\n",
              "      <th>TravelInsurance</th>\n",
              "    </tr>\n",
              "  </thead>\n",
              "  <tbody>\n",
              "    <tr>\n",
              "      <th>0</th>\n",
              "      <td>31</td>\n",
              "      <td>Government Sector</td>\n",
              "      <td>Yes</td>\n",
              "      <td>400000</td>\n",
              "      <td>6</td>\n",
              "      <td>1</td>\n",
              "      <td>No</td>\n",
              "      <td>No</td>\n",
              "      <td>Not Purchased</td>\n",
              "    </tr>\n",
              "    <tr>\n",
              "      <th>1</th>\n",
              "      <td>31</td>\n",
              "      <td>Private Sector/Self Employed</td>\n",
              "      <td>Yes</td>\n",
              "      <td>1250000</td>\n",
              "      <td>7</td>\n",
              "      <td>0</td>\n",
              "      <td>No</td>\n",
              "      <td>No</td>\n",
              "      <td>Not Purchased</td>\n",
              "    </tr>\n",
              "    <tr>\n",
              "      <th>2</th>\n",
              "      <td>34</td>\n",
              "      <td>Private Sector/Self Employed</td>\n",
              "      <td>Yes</td>\n",
              "      <td>500000</td>\n",
              "      <td>4</td>\n",
              "      <td>1</td>\n",
              "      <td>No</td>\n",
              "      <td>No</td>\n",
              "      <td>Purchased</td>\n",
              "    </tr>\n",
              "    <tr>\n",
              "      <th>3</th>\n",
              "      <td>28</td>\n",
              "      <td>Private Sector/Self Employed</td>\n",
              "      <td>Yes</td>\n",
              "      <td>700000</td>\n",
              "      <td>3</td>\n",
              "      <td>1</td>\n",
              "      <td>No</td>\n",
              "      <td>No</td>\n",
              "      <td>Not Purchased</td>\n",
              "    </tr>\n",
              "    <tr>\n",
              "      <th>4</th>\n",
              "      <td>28</td>\n",
              "      <td>Private Sector/Self Employed</td>\n",
              "      <td>Yes</td>\n",
              "      <td>700000</td>\n",
              "      <td>8</td>\n",
              "      <td>1</td>\n",
              "      <td>Yes</td>\n",
              "      <td>No</td>\n",
              "      <td>Not Purchased</td>\n",
              "    </tr>\n",
              "    <tr>\n",
              "      <th>...</th>\n",
              "      <td>...</td>\n",
              "      <td>...</td>\n",
              "      <td>...</td>\n",
              "      <td>...</td>\n",
              "      <td>...</td>\n",
              "      <td>...</td>\n",
              "      <td>...</td>\n",
              "      <td>...</td>\n",
              "      <td>...</td>\n",
              "    </tr>\n",
              "    <tr>\n",
              "      <th>1982</th>\n",
              "      <td>33</td>\n",
              "      <td>Private Sector/Self Employed</td>\n",
              "      <td>Yes</td>\n",
              "      <td>1500000</td>\n",
              "      <td>4</td>\n",
              "      <td>0</td>\n",
              "      <td>Yes</td>\n",
              "      <td>Yes</td>\n",
              "      <td>Purchased</td>\n",
              "    </tr>\n",
              "    <tr>\n",
              "      <th>1983</th>\n",
              "      <td>28</td>\n",
              "      <td>Private Sector/Self Employed</td>\n",
              "      <td>Yes</td>\n",
              "      <td>1750000</td>\n",
              "      <td>5</td>\n",
              "      <td>1</td>\n",
              "      <td>No</td>\n",
              "      <td>Yes</td>\n",
              "      <td>Not Purchased</td>\n",
              "    </tr>\n",
              "    <tr>\n",
              "      <th>1984</th>\n",
              "      <td>28</td>\n",
              "      <td>Private Sector/Self Employed</td>\n",
              "      <td>Yes</td>\n",
              "      <td>1150000</td>\n",
              "      <td>6</td>\n",
              "      <td>1</td>\n",
              "      <td>No</td>\n",
              "      <td>No</td>\n",
              "      <td>Not Purchased</td>\n",
              "    </tr>\n",
              "    <tr>\n",
              "      <th>1985</th>\n",
              "      <td>34</td>\n",
              "      <td>Private Sector/Self Employed</td>\n",
              "      <td>Yes</td>\n",
              "      <td>1000000</td>\n",
              "      <td>6</td>\n",
              "      <td>0</td>\n",
              "      <td>Yes</td>\n",
              "      <td>Yes</td>\n",
              "      <td>Purchased</td>\n",
              "    </tr>\n",
              "    <tr>\n",
              "      <th>1986</th>\n",
              "      <td>34</td>\n",
              "      <td>Private Sector/Self Employed</td>\n",
              "      <td>Yes</td>\n",
              "      <td>500000</td>\n",
              "      <td>4</td>\n",
              "      <td>0</td>\n",
              "      <td>No</td>\n",
              "      <td>No</td>\n",
              "      <td>Not Purchased</td>\n",
              "    </tr>\n",
              "  </tbody>\n",
              "</table>\n",
              "<p>1987 rows × 9 columns</p>\n",
              "</div>"
            ],
            "text/plain": [
              "      Age               Employment Type GraduateOrNot  AnnualIncome  \\\n",
              "0      31             Government Sector           Yes        400000   \n",
              "1      31  Private Sector/Self Employed           Yes       1250000   \n",
              "2      34  Private Sector/Self Employed           Yes        500000   \n",
              "3      28  Private Sector/Self Employed           Yes        700000   \n",
              "4      28  Private Sector/Self Employed           Yes        700000   \n",
              "...   ...                           ...           ...           ...   \n",
              "1982   33  Private Sector/Self Employed           Yes       1500000   \n",
              "1983   28  Private Sector/Self Employed           Yes       1750000   \n",
              "1984   28  Private Sector/Self Employed           Yes       1150000   \n",
              "1985   34  Private Sector/Self Employed           Yes       1000000   \n",
              "1986   34  Private Sector/Self Employed           Yes        500000   \n",
              "\n",
              "      FamilyMembers  ChronicDiseases FrequentFlyer EverTravelledAbroad  \\\n",
              "0                 6                1            No                  No   \n",
              "1                 7                0            No                  No   \n",
              "2                 4                1            No                  No   \n",
              "3                 3                1            No                  No   \n",
              "4                 8                1           Yes                  No   \n",
              "...             ...              ...           ...                 ...   \n",
              "1982              4                0           Yes                 Yes   \n",
              "1983              5                1            No                 Yes   \n",
              "1984              6                1            No                  No   \n",
              "1985              6                0           Yes                 Yes   \n",
              "1986              4                0            No                  No   \n",
              "\n",
              "     TravelInsurance  \n",
              "0      Not Purchased  \n",
              "1      Not Purchased  \n",
              "2          Purchased  \n",
              "3      Not Purchased  \n",
              "4      Not Purchased  \n",
              "...              ...  \n",
              "1982       Purchased  \n",
              "1983   Not Purchased  \n",
              "1984   Not Purchased  \n",
              "1985       Purchased  \n",
              "1986   Not Purchased  \n",
              "\n",
              "[1987 rows x 9 columns]"
            ]
          },
          "execution_count": 135,
          "metadata": {},
          "output_type": "execute_result"
        }
      ],
      "source": [
        "df[\"TravelInsurance\"] = df[\"TravelInsurance\"].map({0: \"Not Purchased\", 1: \"Purchased\"})\n",
        "df"
      ]
    },
    {
      "cell_type": "code",
      "execution_count": 136,
      "metadata": {},
      "outputs": [
        {
          "data": {
            "text/plain": [
              "TravelInsurance\n",
              "Not Purchased    1277\n",
              "Purchased         710\n",
              "Name: count, dtype: int64"
            ]
          },
          "execution_count": 136,
          "metadata": {},
          "output_type": "execute_result"
        }
      ],
      "source": [
        "# Count the values in the 'TravelInsurance' column\n",
        "df['TravelInsurance'].value_counts()"
      ]
    },
    {
      "cell_type": "code",
      "execution_count": 137,
      "metadata": {},
      "outputs": [
        {
          "data": {
            "image/png": "[encoded data removed]",
            "text/plain": [
              "<Figure size 600x600 with 1 Axes>"
            ]
          },
          "metadata": {},
          "output_type": "display_data"
        }
      ],
      "source": [
        "# Create pie chart\n",
        "plt.figure(figsize=(6,6))\n",
        "plt.pie(df['TravelInsurance'].value_counts(), autopct='%1.1f%%', startangle=90, colors=['lightcoral', 'lightgreen'])\n",
        "plt.title('Insurance Purchase Distribution')\n",
        "plt.axis('equal')  # Equal aspect ratio ensures the pie chart is circular\n",
        "plt.show()"
      ]
    },
    {
      "cell_type": "markdown",
      "metadata": {},
      "source": [
        "The given data is unbalanced, so we need to convert it into a balanced dataset using SMOTE. \n",
        "This should be done after splitting the data into training and testing sets, and SMOTE should only be applied to the training data."
      ]
    },
    {
      "cell_type": "markdown",
      "metadata": {
        "id": "P1FwO7NgMvHk"
      },
      "source": [
        "Now let’s start by looking at the age column to see how age affects the purchase of an insurance policy:"
      ]
    },
    {
      "cell_type": "code",
      "execution_count": 138,
      "metadata": {
        "colab": {
          "base_uri": "https://localhost:8080/",
          "height": 542
        },
        "id": "rlksAinfGVSp",
        "outputId": "2a0891d6-75d3-4379-caf8-3cfb1e3d928b"
      },
      "outputs": [
        {
          "data": {
            "application/vnd.plotly.v1+json": {
              "config": {
                "plotlyServerURL": "https://plot.ly"
              },
              "data": [
                {
                  "bingroup": "x",
                  "hovertemplate": "TravelInsurance=Not Purchased<br>Age=%{x}<br>count=%{y}<extra></extra>",
                  "legendgroup": "Not Purchased",
                  "marker": {
                    "color": "#636efa",
                    "pattern": {
                      "shape": ""
                    }
                  },
                  "name": "Not Purchased",
                  "orientation": "v",
                  "showlegend": true,
                  "type": "histogram",
                  "x": {
                    "bdata": "Hx8cHBkfIR8fIhwcHx8jHBofHh8gIR8iIiEjHB8dHxwdGh8cGxoeHR8iHBwcHCIfHxoZHCAgHCIcGxwcIhwdHR0dHBwiIh8cHh0dHR8fHCAbICAbHRwcHBwdHBwZIBofHB8cHBkcHBwbIBwhHB8bGRwbHhwgGhwaGRkcGhseHCIhHRwgHR8ZHBscGyEcGh8jHBweHx8iIiIdHxwfIh4eHRobIRobHB8cHBwdGiMdGx8bIxwdHyAgGhohHB0dGiAiGx0cIBsbHyIaHCIeIBwfIxwcHB8cIhwjHyAeHB0bHBwgHSIfHB8dHyIiIhkcHCIfHB8gGx0cHBwfHB0dISIcHB0gGRwjHSIfHCAfHBwcHBwiGSIcHRkcIBwiHBwbIRwdGxwdHxwfHCMZGhohHBocHBocHx0iHSAcGyEcHh0iHSIfGh0gHx8dHBwgHx8dGxsfIxwhIBofHBkcHRwdHhwhHRsiHxocGxwiGyEgGiEbIh0hHRwbIxsZIBwbHSIhHxwdHRwcGRwhGSIiIiAcHB8cHB8iHBsdHCAcIh8cGxwZHCIcIhwiHxsiGhwgHBwcHBsgHB8iHBwaHBwaIRocHRsbGx0bGhwcGRwhGyEfHxscICAcGxsiHCIcHBwbIhsiHRkcGxweGxweHB0dHBscIyEgHRwbGxwcGx0iHB4cIx8cIBsbHxwdHR0iIhwaIBwcHx8dGx0eHRohHh0ZIhwZHRwgHBobIx0dHR0hHBwjIiAbHyAaGxwiHB0aIRwjGRscHRwaHB0aIBwcIx0dHyEfHyEcHBwiIiIbIBwcICEdHB8eHBwcIRwiGR0hHCMdHB0iHBsfHCEZHR8fGxwaIB4cGxscHxwiHBscHB0fHxscGx0ZHRwfGRscGRkfIh0fIhwcGh8eHCEZHSEZHR8fHBsgIx8gHB0cHCEbHxwiIBsfIhwdGR0cHB8cGh0iHBwiHSIiIh0iIyEhIhwhHB8dHB0eIRwfIxwaHCEbGx8cHRwcHCIiHx0dIiIcIh8eISIiGxocHB0jIR8dGiIfGSIfHCEcHBwhGh8iHx8cHBwdIR8dHx8bIhwcHxwcGRoaHBwcIhwcHhwfIh8fHSIdHRwhGhwiHBwhHBwdHBwfHBwcHB8iHRkaHyIiHBwhHRwZHBwiHB0cIRwfIR4eIhwdIh8iHBwcGyIjIhscGyAfIR4jIBwZHRwaHCEfHBwiGiMbIRwhHxwaIh8gIh8aHxwfIB0ZHhscHB8cHB8jHSAfHCEcHRwcIhwbIRwcIiAgHBkbIBwhHBwcHSIbHBscGhocICIcHxsdHhwaGxwaHyIcHCAdHhscHBwfICAiHBwfHhwdGxwZIRweHBscHB8cHBwfHhwaIh8fIBscHBwdGiEbIRweHBwZGx8aHSIhIBkiHxwaHB8cGSIcHBwaHCMdHBwcGR8cHRwiHBwfHR4cHBwfHxsdHyMcHR0cHxsfGhwhIxwcHBscHx0gHBwaHx8dHyIiGx0dGhwcHCIfHCEcHBoiGRoZHhwdIBocHSIcHCAdIhwfHSIZHyIaHBwcGxwcGR0fHB0aHBwbHRwiGhwjHB0dHB8dHR8fISIcIBwgIhwbHCAfHBwcIhobIBwiHCIcHSIdHBsbIyAfGh8cHCAcGhkfGxwhHBkcHBwiIR4cHBwgHyIaISEfIiMcGSEiIhsZHB0gHBseIR8fHBoZHCIiHB8fHBwgHBkcHCI=",
                    "dtype": "i1"
                  },
                  "xaxis": "x",
                  "yaxis": "y"
                },
                {
                  "bingroup": "x",
                  "hovertemplate": "TravelInsurance=Purchased<br>Age=%{x}<br>count=%{y}<extra></extra>",
                  "legendgroup": "Purchased",
                  "marker": {
                    "color": "#EF553B",
                    "pattern": {
                      "shape": ""
                    }
                  },
                  "name": "Purchased",
                  "orientation": "v",
                  "showlegend": true,
                  "type": "histogram",
                  "x": {
                    "bdata": "Ih8cGiAfHB0iHRwiGRwhGRocGSIZHxwiISEgHiIdHyIZIRocIRoaGRwfGh0fGRwdIx4ZHB0iHx8iIh8aIiIjHBwaGSIZHhsfHBkdGiIiGiMbIiIdHCIiISEaHCEiIiIgGiAaHB8jGSAiISEiGRogIhkhIiEfHRwcGR8ZHB0ZIx8bGRsfHB8hHB8cISEcGRkhHx8iGR0ZGiIiIiIZHCEfIhoiGSMiGhkZIiEiIiEiHBwaHBwcHB8dGSMfGx8dGhoZHRohIx0fGx0iHSMaGR8jIiIhHBwcHh8jIRkaIhohIRweICIeGR0aIiEiGSEcHSEhGiIcHB0hHhkiHyIcISIiIiIiHBwhIhoiHRkZGx8cICMcIh8eGyIeGxwiHSAiIiIfIRwaHCIdHCIcHh8fISAaHRwjHyEeHBkdIhoaHx8aIRoiIRoaIhsbHB8ZGR0iHCIZHBohGSIaGh4iIxkZISEdHh8aIhoiGiIjGhobHBkgHyAZHR4gGR8iGR0iGx8aIh8aIh4jGxoaIxkcIiIZGiIjHxwbGhkcIhwcHBwiHxwZHCAcIR8ZGh8cHSIeGRkZGyIhIiEfIiIiISEaHBkiHCIhIRshHyEZIR8iHh0ZHx8iIxscIh0hHBwfHxkfHyIhHiEfGRwiHBkaGRohGh4aIBocGx0cIRwaHBkcGR4ZGx8cIiEcHRofHh8ZIiAZGRwfIh4hHR0iHyEZGSIjIRkiHRoZHSEZGRwiGh8cHR4fHyEhIR0hIiIcHBoeHSIhIhwhGRwZGRkcHRoaHyIbIiEZHB0fIx0ZHBwZIiIaGR0iGiIdHCEbHxojGh8cGh8cIiIZHiIcIiMhIyEhHh0iIiMaIRkdIiIiHBkaIRodHCEdGRkZIB8ZHBwiGx4fGiMZHxkiGiIcGyIfHBwfIyEcHBsiIRkiIhwhGyIcICMiHyIgHCEeHR8aGSIbISI=",
                    "dtype": "i1"
                  },
                  "xaxis": "x",
                  "yaxis": "y"
                }
              ],
              "layout": {
                "barmode": "relative",
                "legend": {
                  "title": {
                    "text": "TravelInsurance"
                  },
                  "tracegroupgap": 0
                },
                "template": {
                  "data": {
                    "bar": [
                      {
                        "error_x": {
                          "color": "#2a3f5f"
                        },
                        "error_y": {
                          "color": "#2a3f5f"
                        },
                        "marker": {
                          "line": {
                            "color": "#E5ECF6",
                            "width": 0.5
                          },
                          "pattern": {
                            "fillmode": "overlay",
                            "size": 10,
                            "solidity": 0.2
                          }
                        },
                        "type": "bar"
                      }
                    ],
                    "barpolar": [
                      {
                        "marker": {
                          "line": {
                            "color": "#E5ECF6",
                            "width": 0.5
                          },
                          "pattern": {
                            "fillmode": "overlay",
                            "size": 10,
                            "solidity": 0.2
                          }
                        },
                        "type": "barpolar"
                      }
                    ],
                    "carpet": [
                      {
                        "aaxis": {
                          "endlinecolor": "#2a3f5f",
                          "gridcolor": "white",
                          "linecolor": "white",
                          "minorgridcolor": "white",
                          "startlinecolor": "#2a3f5f"
                        },
                        "baxis": {
                          "endlinecolor": "#2a3f5f",
                          "gridcolor": "white",
                          "linecolor": "white",
                          "minorgridcolor": "white",
                          "startlinecolor": "#2a3f5f"
                        },
                        "type": "carpet"
                      }
                    ],
                    "choropleth": [
                      {
                        "colorbar": {
                          "outlinewidth": 0,
                          "ticks": ""
                        },
                        "type": "choropleth"
                      }
                    ],
                    "contour": [
                      {
                        "colorbar": {
                          "outlinewidth": 0,
                          "ticks": ""
                        },
                        "colorscale": [
                          [
                            0,
                            "#0d0887"
                          ],
                          [
                            0.1111111111111111,
                            "#46039f"
                          ],
                          [
                            0.2222222222222222,
                            "#7201a8"
                          ],
                          [
                            0.3333333333333333,
                            "#9c179e"
                          ],
                          [
                            0.4444444444444444,
                            "#bd3786"
                          ],
                          [
                            0.5555555555555556,
                            "#d8576b"
                          ],
                          [
                            0.6666666666666666,
                            "#ed7953"
                          ],
                          [
                            0.7777777777777778,
                            "#fb9f3a"
                          ],
                          [
                            0.8888888888888888,
                            "#fdca26"
                          ],
                          [
                            1,
                            "#f0f921"
                          ]
                        ],
                        "type": "contour"
                      }
                    ],
                    "contourcarpet": [
                      {
                        "colorbar": {
                          "outlinewidth": 0,
                          "ticks": ""
                        },
                        "type": "contourcarpet"
                      }
                    ],
                    "heatmap": [
                      {
                        "colorbar": {
                          "outlinewidth": 0,
                          "ticks": ""
                        },
                        "colorscale": [
                          [
                            0,
                            "#0d0887"
                          ],
                          [
                            0.1111111111111111,
                            "#46039f"
                          ],
                          [
                            0.2222222222222222,
                            "#7201a8"
                          ],
                          [
                            0.3333333333333333,
                            "#9c179e"
                          ],
                          [
                            0.4444444444444444,
                            "#bd3786"
                          ],
                          [
                            0.5555555555555556,
                            "#d8576b"
                          ],
                          [
                            0.6666666666666666,
                            "#ed7953"
                          ],
                          [
                            0.7777777777777778,
                            "#fb9f3a"
                          ],
                          [
                            0.8888888888888888,
                            "#fdca26"
                          ],
                          [
                            1,
                            "#f0f921"
                          ]
                        ],
                        "type": "heatmap"
                      }
                    ],
                    "histogram": [
                      {
                        "marker": {
                          "pattern": {
                            "fillmode": "overlay",
                            "size": 10,
                            "solidity": 0.2
                          }
                        },
                        "type": "histogram"
                      }
                    ],
                    "histogram2d": [
                      {
                        "colorbar": {
                          "outlinewidth": 0,
                          "ticks": ""
                        },
                        "colorscale": [
                          [
                            0,
                            "#0d0887"
                          ],
                          [
                            0.1111111111111111,
                            "#46039f"
                          ],
                          [
                            0.2222222222222222,
                            "#7201a8"
                          ],
                          [
                            0.3333333333333333,
                            "#9c179e"
                          ],
                          [
                            0.4444444444444444,
                            "#bd3786"
                          ],
                          [
                            0.5555555555555556,
                            "#d8576b"
                          ],
                          [
                            0.6666666666666666,
                            "#ed7953"
                          ],
                          [
                            0.7777777777777778,
                            "#fb9f3a"
                          ],
                          [
                            0.8888888888888888,
                            "#fdca26"
                          ],
                          [
                            1,
                            "#f0f921"
                          ]
                        ],
                        "type": "histogram2d"
                      }
                    ],
                    "histogram2dcontour": [
                      {
                        "colorbar": {
                          "outlinewidth": 0,
                          "ticks": ""
                        },
                        "colorscale": [
                          [
                            0,
                            "#0d0887"
                          ],
                          [
                            0.1111111111111111,
                            "#46039f"
                          ],
                          [
                            0.2222222222222222,
                            "#7201a8"
                          ],
                          [
                            0.3333333333333333,
                            "#9c179e"
                          ],
                          [
                            0.4444444444444444,
                            "#bd3786"
                          ],
                          [
                            0.5555555555555556,
                            "#d8576b"
                          ],
                          [
                            0.6666666666666666,
                            "#ed7953"
                          ],
                          [
                            0.7777777777777778,
                            "#fb9f3a"
                          ],
                          [
                            0.8888888888888888,
                            "#fdca26"
                          ],
                          [
                            1,
                            "#f0f921"
                          ]
                        ],
                        "type": "histogram2dcontour"
                      }
                    ],
                    "mesh3d": [
                      {
                        "colorbar": {
                          "outlinewidth": 0,
                          "ticks": ""
                        },
                        "type": "mesh3d"
                      }
                    ],
                    "parcoords": [
                      {
                        "line": {
                          "colorbar": {
                            "outlinewidth": 0,
                            "ticks": ""
                          }
                        },
                        "type": "parcoords"
                      }
                    ],
                    "pie": [
                      {
                        "automargin": true,
                        "type": "pie"
                      }
                    ],
                    "scatter": [
                      {
                        "fillpattern": {
                          "fillmode": "overlay",
                          "size": 10,
                          "solidity": 0.2
                        },
                        "type": "scatter"
                      }
                    ],
                    "scatter3d": [
                      {
                        "line": {
                          "colorbar": {
                            "outlinewidth": 0,
                            "ticks": ""
                          }
                        },
                        "marker": {
                          "colorbar": {
                            "outlinewidth": 0,
                            "ticks": ""
                          }
                        },
                        "type": "scatter3d"
                      }
                    ],
                    "scattercarpet": [
                      {
                        "marker": {
                          "colorbar": {
                            "outlinewidth": 0,
                            "ticks": ""
                          }
                        },
                        "type": "scattercarpet"
                      }
                    ],
                    "scattergeo": [
                      {
                        "marker": {
                          "colorbar": {
                            "outlinewidth": 0,
                            "ticks": ""
                          }
                        },
                        "type": "scattergeo"
                      }
                    ],
                    "scattergl": [
                      {
                        "marker": {
                          "colorbar": {
                            "outlinewidth": 0,
                            "ticks": ""
                          }
                        },
                        "type": "scattergl"
                      }
                    ],
                    "scattermap": [
                      {
                        "marker": {
                          "colorbar": {
                            "outlinewidth": 0,
                            "ticks": ""
                          }
                        },
                        "type": "scattermap"
                      }
                    ],
                    "scattermapbox": [
                      {
                        "marker": {
                          "colorbar": {
                            "outlinewidth": 0,
                            "ticks": ""
                          }
                        },
                        "type": "scattermapbox"
                      }
                    ],
                    "scatterpolar": [
                      {
                        "marker": {
                          "colorbar": {
                            "outlinewidth": 0,
                            "ticks": ""
                          }
                        },
                        "type": "scatterpolar"
                      }
                    ],
                    "scatterpolargl": [
                      {
                        "marker": {
                          "colorbar": {
                            "outlinewidth": 0,
                            "ticks": ""
                          }
                        },
                        "type": "scatterpolargl"
                      }
                    ],
                    "scatterternary": [
                      {
                        "marker": {
                          "colorbar": {
                            "outlinewidth": 0,
                            "ticks": ""
                          }
                        },
                        "type": "scatterternary"
                      }
                    ],
                    "surface": [
                      {
                        "colorbar": {
                          "outlinewidth": 0,
                          "ticks": ""
                        },
                        "colorscale": [
                          [
                            0,
                            "#0d0887"
                          ],
                          [
                            0.1111111111111111,
                            "#46039f"
                          ],
                          [
                            0.2222222222222222,
                            "#7201a8"
                          ],
                          [
                            0.3333333333333333,
                            "#9c179e"
                          ],
                          [
                            0.4444444444444444,
                            "#bd3786"
                          ],
                          [
                            0.5555555555555556,
                            "#d8576b"
                          ],
                          [
                            0.6666666666666666,
                            "#ed7953"
                          ],
                          [
                            0.7777777777777778,
                            "#fb9f3a"
                          ],
                          [
                            0.8888888888888888,
                            "#fdca26"
                          ],
                          [
                            1,
                            "#f0f921"
                          ]
                        ],
                        "type": "surface"
                      }
                    ],
                    "table": [
                      {
                        "cells": {
                          "fill": {
                            "color": "#EBF0F8"
                          },
                          "line": {
                            "color": "white"
                          }
                        },
                        "header": {
                          "fill": {
                            "color": "#C8D4E3"
                          },
                          "line": {
                            "color": "white"
                          }
                        },
                        "type": "table"
                      }
                    ]
                  },
                  "layout": {
                    "annotationdefaults": {
                      "arrowcolor": "#2a3f5f",
                      "arrowhead": 0,
                      "arrowwidth": 1
                    },
                    "autotypenumbers": "strict",
                    "coloraxis": {
                      "colorbar": {
                        "outlinewidth": 0,
                        "ticks": ""
                      }
                    },
                    "colorscale": {
                      "diverging": [
                        [
                          0,
                          "#8e0152"
                        ],
                        [
                          0.1,
                          "#c51b7d"
                        ],
                        [
                          0.2,
                          "#de77ae"
                        ],
                        [
                          0.3,
                          "#f1b6da"
                        ],
                        [
                          0.4,
                          "#fde0ef"
                        ],
                        [
                          0.5,
                          "#f7f7f7"
                        ],
                        [
                          0.6,
                          "#e6f5d0"
                        ],
                        [
                          0.7,
                          "#b8e186"
                        ],
                        [
                          0.8,
                          "#7fbc41"
                        ],
                        [
                          0.9,
                          "#4d9221"
                        ],
                        [
                          1,
                          "#276419"
                        ]
                      ],
                      "sequential": [
                        [
                          0,
                          "#0d0887"
                        ],
                        [
                          0.1111111111111111,
                          "#46039f"
                        ],
                        [
                          0.2222222222222222,
                          "#7201a8"
                        ],
                        [
                          0.3333333333333333,
                          "#9c179e"
                        ],
                        [
                          0.4444444444444444,
                          "#bd3786"
                        ],
                        [
                          0.5555555555555556,
                          "#d8576b"
                        ],
                        [
                          0.6666666666666666,
                          "#ed7953"
                        ],
                        [
                          0.7777777777777778,
                          "#fb9f3a"
                        ],
                        [
                          0.8888888888888888,
                          "#fdca26"
                        ],
                        [
                          1,
                          "#f0f921"
                        ]
                      ],
                      "sequentialminus": [
                        [
                          0,
                          "#0d0887"
                        ],
                        [
                          0.1111111111111111,
                          "#46039f"
                        ],
                        [
                          0.2222222222222222,
                          "#7201a8"
                        ],
                        [
                          0.3333333333333333,
                          "#9c179e"
                        ],
                        [
                          0.4444444444444444,
                          "#bd3786"
                        ],
                        [
                          0.5555555555555556,
                          "#d8576b"
                        ],
                        [
                          0.6666666666666666,
                          "#ed7953"
                        ],
                        [
                          0.7777777777777778,
                          "#fb9f3a"
                        ],
                        [
                          0.8888888888888888,
                          "#fdca26"
                        ],
                        [
                          1,
                          "#f0f921"
                        ]
                      ]
                    },
                    "colorway": [
                      "#636efa",
                      "#EF553B",
                      "#00cc96",
                      "#ab63fa",
                      "#FFA15A",
                      "#19d3f3",
                      "#FF6692",
                      "#B6E880",
                      "#FF97FF",
                      "#FECB52"
                    ],
                    "font": {
                      "color": "#2a3f5f"
                    },
                    "geo": {
                      "bgcolor": "white",
                      "lakecolor": "white",
                      "landcolor": "#E5ECF6",
                      "showlakes": true,
                      "showland": true,
                      "subunitcolor": "white"
                    },
                    "hoverlabel": {
                      "align": "left"
                    },
                    "hovermode": "closest",
                    "mapbox": {
                      "style": "light"
                    },
                    "paper_bgcolor": "white",
                    "plot_bgcolor": "#E5ECF6",
                    "polar": {
                      "angularaxis": {
                        "gridcolor": "white",
                        "linecolor": "white",
                        "ticks": ""
                      },
                      "bgcolor": "#E5ECF6",
                      "radialaxis": {
                        "gridcolor": "white",
                        "linecolor": "white",
                        "ticks": ""
                      }
                    },
                    "scene": {
                      "xaxis": {
                        "backgroundcolor": "#E5ECF6",
                        "gridcolor": "white",
                        "gridwidth": 2,
                        "linecolor": "white",
                        "showbackground": true,
                        "ticks": "",
                        "zerolinecolor": "white"
                      },
                      "yaxis": {
                        "backgroundcolor": "#E5ECF6",
                        "gridcolor": "white",
                        "gridwidth": 2,
                        "linecolor": "white",
                        "showbackground": true,
                        "ticks": "",
                        "zerolinecolor": "white"
                      },
                      "zaxis": {
                        "backgroundcolor": "#E5ECF6",
                        "gridcolor": "white",
                        "gridwidth": 2,
                        "linecolor": "white",
                        "showbackground": true,
                        "ticks": "",
                        "zerolinecolor": "white"
                      }
                    },
                    "shapedefaults": {
                      "line": {
                        "color": "#2a3f5f"
                      }
                    },
                    "ternary": {
                      "aaxis": {
                        "gridcolor": "white",
                        "linecolor": "white",
                        "ticks": ""
                      },
                      "baxis": {
                        "gridcolor": "white",
                        "linecolor": "white",
                        "ticks": ""
                      },
                      "bgcolor": "#E5ECF6",
                      "caxis": {
                        "gridcolor": "white",
                        "linecolor": "white",
                        "ticks": ""
                      }
                    },
                    "title": {
                      "x": 0.05
                    },
                    "xaxis": {
                      "automargin": true,
                      "gridcolor": "white",
                      "linecolor": "white",
                      "ticks": "",
                      "title": {
                        "standoff": 15
                      },
                      "zerolinecolor": "white",
                      "zerolinewidth": 2
                    },
                    "yaxis": {
                      "automargin": true,
                      "gridcolor": "white",
                      "linecolor": "white",
                      "ticks": "",
                      "title": {
                        "standoff": 15
                      },
                      "zerolinecolor": "white",
                      "zerolinewidth": 2
                    }
                  }
                },
                "title": {
                  "text": "Factors Affecting Purchase of Travel Insurance: Age"
                },
                "xaxis": {
                  "anchor": "y",
                  "domain": [
                    0,
                    1
                  ],
                  "title": {
                    "text": "Age"
                  }
                },
                "yaxis": {
                  "anchor": "x",
                  "domain": [
                    0,
                    1
                  ],
                  "title": {
                    "text": "count"
                  }
                }
              }
            }
          },
          "metadata": {},
          "output_type": "display_data"
        }
      ],
      "source": [
        "figure = px.histogram(df, x = \"Age\",color = \"TravelInsurance\",title = \"Factors Affecting Purchase of Travel Insurance: Age\")\n",
        "figure.show()"
      ]
    },
    {
      "cell_type": "markdown",
      "metadata": {
        "id": "YTJSMkzSM4l_"
      },
      "source": [
        "According to the visualization above, individuals around the age of 34 are more likely to purchase an insurance policy, while those around 28 are much less likely to do so. \n",
        "\n",
        "Now, let's examine how a person's type of employment influences their likelihood of purchasing an insurance policy."
      ]
    },
    {
      "cell_type": "code",
      "execution_count": 139,
      "metadata": {
        "colab": {
          "base_uri": "https://localhost:8080/",
          "height": 542
        },
        "id": "vMZpihv6HE-t",
        "outputId": "74bf39ff-6ce7-4ece-f181-d160a450db35"
      },
      "outputs": [
        {
          "data": {
            "application/vnd.plotly.v1+json": {
              "config": {
                "plotlyServerURL": "https://plot.ly"
              },
              "data": [
                {
                  "bingroup": "x",
                  "hovertemplate": "TravelInsurance=Not Purchased<br>Employment Type=%{x}<br>count=%{y}<extra></extra>",
                  "legendgroup": "Not Purchased",
                  "marker": {
                    "color": "#636efa",
                    "pattern": {
                      "shape": ""
                    }
                  },
                  "name": "Not Purchased",
                  "orientation": "v",
                  "showlegend": true,
                  "type": "histogram",
                  "x": [
                    "Government Sector",
                    "Private Sector/Self Employed",
                    "Private Sector/Self Employed",
                    "Private Sector/Self Employed",
                    "Private Sector/Self Employed",
                    "Government Sector",
                    "Government Sector",
                    "Government Sector",
                    "Government Sector",
                    "Private Sector/Self Employed",
                    "Private Sector/Self Employed",
                    "Private Sector/Self Employed",
                    "Private Sector/Self Employed",
                    "Government Sector",
                    "Private Sector/Self Employed",
                    "Private Sector/Self Employed",
                    "Private Sector/Self Employed",
                    "Private Sector/Self Employed",
                    "Private Sector/Self Employed",
                    "Government Sector",
                    "Government Sector",
                    "Private Sector/Self Employed",
                    "Government Sector",
                    "Private Sector/Self Employed",
                    "Government Sector",
                    "Private Sector/Self Employed",
                    "Government Sector",
                    "Private Sector/Self Employed",
                    "Private Sector/Self Employed",
                    "Private Sector/Self Employed",
                    "Private Sector/Self Employed",
                    "Government Sector",
                    "Private Sector/Self Employed",
                    "Private Sector/Self Employed",
                    "Private Sector/Self Employed",
                    "Private Sector/Self Employed",
                    "Government Sector",
                    "Private Sector/Self Employed",
                    "Private Sector/Self Employed",
                    "Private Sector/Self Employed",
                    "Government Sector",
                    "Government Sector",
                    "Private Sector/Self Employed",
                    "Private Sector/Self Employed",
                    "Private Sector/Self Employed",
                    "Private Sector/Self Employed",
                    "Private Sector/Self Employed",
                    "Government Sector",
                    "Government Sector",
                    "Private Sector/Self Employed",
                    "Private Sector/Self Employed",
                    "Private Sector/Self Employed",
                    "Government Sector",
                    "Government Sector",
                    "Government Sector",
                    "Private Sector/Self Employed",
                    "Government Sector",
                    "Government Sector",
                    "Government Sector",
                    "Private Sector/Self Employed",
                    "Private Sector/Self Employed",
                    "Private Sector/Self Employed",
                    "Private Sector/Self Employed",
                    "Private Sector/Self Employed",
                    "Government Sector",
                    "Private Sector/Self Employed",
                    "Private Sector/Self Employed",
                    "Private Sector/Self Employed",
                    "Private Sector/Self Employed",
                    "Private Sector/Self Employed",
                    "Government Sector",
                    "Private Sector/Self Employed",
                    "Private Sector/Self Employed",
                    "Private Sector/Self Employed",
                    "Private Sector/Self Employed",
                    "Private Sector/Self Employed",
                    "Government Sector",
                    "Private Sector/Self Employed",
                    "Private Sector/Self Employed",
                    "Government Sector",
                    "Government Sector",
                    "Government Sector",
                    "Government Sector",
                    "Government Sector",
                    "Private Sector/Self Employed",
                    "Private Sector/Self Employed",
                    "Private Sector/Self Employed",
                    "Private Sector/Self Employed",
                    "Private Sector/Self Employed",
                    "Private Sector/Self Employed",
                    "Private Sector/Self Employed",
                    "Private Sector/Self Employed",
                    "Private Sector/Self Employed",
                    "Government Sector",
                    "Private Sector/Self Employed",
                    "Private Sector/Self Employed",
                    "Private Sector/Self Employed",
                    "Government Sector",
                    "Private Sector/Self Employed",
                    "Private Sector/Self Employed",
                    "Private Sector/Self Employed",
                    "Private Sector/Self Employed",
                    "Private Sector/Self Employed",
                    "Private Sector/Self Employed",
                    "Government Sector",
                    "Government Sector",
                    "Government Sector",
                    "Government Sector",
                    "Private Sector/Self Employed",
                    "Government Sector",
                    "Government Sector",
                    "Private Sector/Self Employed",
                    "Private Sector/Self Employed",
                    "Private Sector/Self Employed",
                    "Private Sector/Self Employed",
                    "Private Sector/Self Employed",
                    "Government Sector",
                    "Private Sector/Self Employed",
                    "Private Sector/Self Employed",
                    "Private Sector/Self Employed",
                    "Private Sector/Self Employed",
                    "Government Sector",
                    "Private Sector/Self Employed",
                    "Government Sector",
                    "Government Sector",
                    "Private Sector/Self Employed",
                    "Private Sector/Self Employed",
                    "Private Sector/Self Employed",
                    "Government Sector",
                    "Private Sector/Self Employed",
                    "Private Sector/Self Employed",
                    "Government Sector",
                    "Private Sector/Self Employed",
                    "Government Sector",
                    "Private Sector/Self Employed",
                    "Private Sector/Self Employed",
                    "Private Sector/Self Employed",
                    "Private Sector/Self Employed",
                    "Government Sector",
                    "Government Sector",
                    "Private Sector/Self Employed",
                    "Private Sector/Self Employed",
                    "Private Sector/Self Employed",
                    "Private Sector/Self Employed",
                    "Private Sector/Self Employed",
                    "Private Sector/Self Employed",
                    "Private Sector/Self Employed",
                    "Private Sector/Self Employed",
                    "Private Sector/Self Employed",
                    "Private Sector/Self Employed",
                    "Private Sector/Self Employed",
                    "Private Sector/Self Employed",
                    "Private Sector/Self Employed",
                    "Government Sector",
                    "Private Sector/Self Employed",
                    "Government Sector",
                    "Private Sector/Self Employed",
                    "Private Sector/Self Employed",
                    "Private Sector/Self Employed",
                    "Private Sector/Self Employed",
                    "Private Sector/Self Employed",
                    "Private Sector/Self Employed",
                    "Government Sector",
                    "Private Sector/Self Employed",
                    "Government Sector",
                    "Private Sector/Self Employed",
                    "Government Sector",
                    "Private Sector/Self Employed",
                    "Government Sector",
                    "Government Sector",
                    "Private Sector/Self Employed",
                    "Private Sector/Self Employed",
                    "Private Sector/Self Employed",
                    "Private Sector/Self Employed",
                    "Government Sector",
                    "Government Sector",
                    "Private Sector/Self Employed",
                    "Government Sector",
                    "Private Sector/Self Employed",
                    "Private Sector/Self Employed",
                    "Private Sector/Self Employed",
                    "Government Sector",
                    "Government Sector",
                    "Private Sector/Self Employed",
                    "Private Sector/Self Employed",
                    "Private Sector/Self Employed",
                    "Private Sector/Self Employed",
                    "Private Sector/Self Employed",
                    "Private Sector/Self Employed",
                    "Private Sector/Self Employed",
                    "Government Sector",
                    "Private Sector/Self Employed",
                    "Government Sector",
                    "Private Sector/Self Employed",
                    "Private Sector/Self Employed",
                    "Government Sector",
                    "Private Sector/Self Employed",
                    "Government Sector",
                    "Government Sector",
                    "Private Sector/Self Employed",
                    "Private Sector/Self Employed",
                    "Private Sector/Self Employed",
                    "Private Sector/Self Employed",
                    "Private Sector/Self Employed",
                    "Government Sector",
                    "Government Sector",
                    "Private Sector/Self Employed",
                    "Private Sector/Self Employed",
                    "Private Sector/Self Employed",
                    "Private Sector/Self Employed",
                    "Government Sector",
                    "Private Sector/Self Employed",
                    "Private Sector/Self Employed",
                    "Government Sector",
                    "Private Sector/Self Employed",
                    "Private Sector/Self Employed",
                    "Private Sector/Self Employed",
                    "Government Sector",
                    "Private Sector/Self Employed",
                    "Private Sector/Self Employed",
                    "Private Sector/Self Employed",
                    "Private Sector/Self Employed",
                    "Private Sector/Self Employed",
                    "Private Sector/Self Employed",
                    "Government Sector",
                    "Private Sector/Self Employed",
                    "Private Sector/Self Employed",
                    "Private Sector/Self Employed",
                    "Private Sector/Self Employed",
                    "Private Sector/Self Employed",
                    "Private Sector/Self Employed",
                    "Government Sector",
                    "Private Sector/Self Employed",
                    "Private Sector/Self Employed",
                    "Private Sector/Self Employed",
                    "Private Sector/Self Employed",
                    "Private Sector/Self Employed",
                    "Private Sector/Self Employed",
                    "Government Sector",
                    "Government Sector",
                    "Government Sector",
                    "Government Sector",
                    "Government Sector",
                    "Government Sector",
                    "Private Sector/Self Employed",
                    "Private Sector/Self Employed",
                    "Government Sector",
                    "Private Sector/Self Employed",
                    "Government Sector",
                    "Private Sector/Self Employed",
                    "Private Sector/Self Employed",
                    "Private Sector/Self Employed",
                    "Government Sector",
                    "Private Sector/Self Employed",
                    "Government Sector",
                    "Private Sector/Self Employed",
                    "Private Sector/Self Employed",
                    "Government Sector",
                    "Government Sector",
                    "Private Sector/Self Employed",
                    "Private Sector/Self Employed",
                    "Private Sector/Self Employed",
                    "Private Sector/Self Employed",
                    "Private Sector/Self Employed",
                    "Private Sector/Self Employed",
                    "Government Sector",
                    "Government Sector",
                    "Private Sector/Self Employed",
                    "Private Sector/Self Employed",
                    "Government Sector",
                    "Government Sector",
                    "Government Sector",
                    "Private Sector/Self Employed",
                    "Private Sector/Self Employed",
                    "Private Sector/Self Employed",
                    "Government Sector",
                    "Private Sector/Self Employed",
                    "Private Sector/Self Employed",
                    "Private Sector/Self Employed",
                    "Government Sector",
                    "Private Sector/Self Employed",
                    "Private Sector/Self Employed",
                    "Private Sector/Self Employed",
                    "Private Sector/Self Employed",
                    "Private Sector/Self Employed",
                    "Government Sector",
                    "Private Sector/Self Employed",
                    "Private Sector/Self Employed",
                    "Government Sector",
                    "Private Sector/Self Employed",
                    "Private Sector/Self Employed",
                    "Private Sector/Self Employed",
                    "Private Sector/Self Employed",
                    "Private Sector/Self Employed",
                    "Government Sector",
                    "Government Sector",
                    "Private Sector/Self Employed",
                    "Private Sector/Self Employed",
                    "Private Sector/Self Employed",
                    "Private Sector/Self Employed",
                    "Private Sector/Self Employed",
                    "Government Sector",
                    "Private Sector/Self Employed",
                    "Private Sector/Self Employed",
                    "Private Sector/Self Employed",
                    "Government Sector",
                    "Private Sector/Self Employed",
                    "Private Sector/Self Employed",
                    "Government Sector",
                    "Private Sector/Self Employed",
                    "Government Sector",
                    "Private Sector/Self Employed",
                    "Private Sector/Self Employed",
                    "Private Sector/Self Employed",
                    "Government Sector",
                    "Private Sector/Self Employed",
                    "Private Sector/Self Employed",
                    "Private Sector/Self Employed",
                    "Private Sector/Self Employed",
                    "Government Sector",
                    "Government Sector",
                    "Private Sector/Self Employed",
                    "Private Sector/Self Employed",
                    "Government Sector",
                    "Private Sector/Self Employed",
                    "Government Sector",
                    "Private Sector/Self Employed",
                    "Private Sector/Self Employed",
                    "Private Sector/Self Employed",
                    "Government Sector",
                    "Private Sector/Self Employed",
                    "Private Sector/Self Employed",
                    "Private Sector/Self Employed",
                    "Government Sector",
                    "Government Sector",
                    "Private Sector/Self Employed",
                    "Government Sector",
                    "Private Sector/Self Employed",
                    "Government Sector",
                    "Government Sector",
                    "Private Sector/Self Employed",
                    "Private Sector/Self Employed",
                    "Private Sector/Self Employed",
                    "Private Sector/Self Employed",
                    "Private Sector/Self Employed",
                    "Private Sector/Self Employed",
                    "Private Sector/Self Employed",
                    "Private Sector/Self Employed",
                    "Private Sector/Self Employed",
                    "Private Sector/Self Employed",
                    "Government Sector",
                    "Private Sector/Self Employed",
                    "Private Sector/Self Employed",
                    "Private Sector/Self Employed",
                    "Government Sector",
                    "Private Sector/Self Employed",
                    "Private Sector/Self Employed",
                    "Government Sector",
                    "Government Sector",
                    "Private Sector/Self Employed",
                    "Government Sector",
                    "Private Sector/Self Employed",
                    "Government Sector",
                    "Private Sector/Self Employed",
                    "Private Sector/Self Employed",
                    "Government Sector",
                    "Private Sector/Self Employed",
                    "Private Sector/Self Employed",
                    "Government Sector",
                    "Private Sector/Self Employed",
                    "Private Sector/Self Employed",
                    "Government Sector",
                    "Private Sector/Self Employed",
                    "Government Sector",
                    "Private Sector/Self Employed",
                    "Government Sector",
                    "Private Sector/Self Employed",
                    "Private Sector/Self Employed",
                    "Private Sector/Self Employed",
                    "Private Sector/Self Employed",
                    "Government Sector",
                    "Private Sector/Self Employed",
                    "Private Sector/Self Employed",
                    "Private Sector/Self Employed",
                    "Private Sector/Self Employed",
                    "Government Sector",
                    "Private Sector/Self Employed",
                    "Private Sector/Self Employed",
                    "Government Sector",
                    "Private Sector/Self Employed",
                    "Private Sector/Self Employed",
                    "Private Sector/Self Employed",
                    "Private Sector/Self Employed",
                    "Private Sector/Self Employed",
                    "Government Sector",
                    "Private Sector/Self Employed",
                    "Private Sector/Self Employed",
                    "Private Sector/Self Employed",
                    "Private Sector/Self Employed",
                    "Private Sector/Self Employed",
                    "Private Sector/Self Employed",
                    "Private Sector/Self Employed",
                    "Government Sector",
                    "Government Sector",
                    "Private Sector/Self Employed",
                    "Private Sector/Self Employed",
                    "Government Sector",
                    "Private Sector/Self Employed",
                    "Private Sector/Self Employed",
                    "Private Sector/Self Employed",
                    "Private Sector/Self Employed",
                    "Government Sector",
                    "Private Sector/Self Employed",
                    "Private Sector/Self Employed",
                    "Private Sector/Self Employed",
                    "Private Sector/Self Employed",
                    "Private Sector/Self Employed",
                    "Private Sector/Self Employed",
                    "Private Sector/Self Employed",
                    "Private Sector/Self Employed",
                    "Private Sector/Self Employed",
                    "Private Sector/Self Employed",
                    "Private Sector/Self Employed",
                    "Government Sector",
                    "Private Sector/Self Employed",
                    "Government Sector",
                    "Private Sector/Self Employed",
                    "Private Sector/Self Employed",
                    "Private Sector/Self Employed",
                    "Government Sector",
                    "Government Sector",
                    "Government Sector",
                    "Private Sector/Self Employed",
                    "Private Sector/Self Employed",
                    "Private Sector/Self Employed",
                    "Government Sector",
                    "Government Sector",
                    "Private Sector/Self Employed",
                    "Private Sector/Self Employed",
                    "Private Sector/Self Employed",
                    "Private Sector/Self Employed",
                    "Government Sector",
                    "Private Sector/Self Employed",
                    "Private Sector/Self Employed",
                    "Private Sector/Self Employed",
                    "Government Sector",
                    "Government Sector",
                    "Private Sector/Self Employed",
                    "Private Sector/Self Employed",
                    "Private Sector/Self Employed",
                    "Government Sector",
                    "Private Sector/Self Employed",
                    "Private Sector/Self Employed",
                    "Private Sector/Self Employed",
                    "Private Sector/Self Employed",
                    "Government Sector",
                    "Government Sector",
                    "Private Sector/Self Employed",
                    "Private Sector/Self Employed",
                    "Government Sector",
                    "Private Sector/Self Employed",
                    "Private Sector/Self Employed",
                    "Government Sector",
                    "Government Sector",
                    "Private Sector/Self Employed",
                    "Government Sector",
                    "Government Sector",
                    "Private Sector/Self Employed",
                    "Private Sector/Self Employed",
                    "Private Sector/Self Employed",
                    "Government Sector",
                    "Private Sector/Self Employed",
                    "Private Sector/Self Employed",
                    "Government Sector",
                    "Private Sector/Self Employed",
                    "Government Sector",
                    "Private Sector/Self Employed",
                    "Private Sector/Self Employed",
                    "Government Sector",
                    "Private Sector/Self Employed",
                    "Private Sector/Self Employed",
                    "Private Sector/Self Employed",
                    "Private Sector/Self Employed",
                    "Government Sector",
                    "Government Sector",
                    "Private Sector/Self Employed",
                    "Private Sector/Self Employed",
                    "Private Sector/Self Employed",
                    "Private Sector/Self Employed",
                    "Government Sector",
                    "Government Sector",
                    "Private Sector/Self Employed",
                    "Private Sector/Self Employed",
                    "Government Sector",
                    "Government Sector",
                    "Private Sector/Self Employed",
                    "Government Sector",
                    "Government Sector",
                    "Government Sector",
                    "Private Sector/Self Employed",
                    "Government Sector",
                    "Government Sector",
                    "Private Sector/Self Employed",
                    "Private Sector/Self Employed",
                    "Government Sector",
                    "Private Sector/Self Employed",
                    "Government Sector",
                    "Private Sector/Self Employed",
                    "Private Sector/Self Employed",
                    "Private Sector/Self Employed",
                    "Government Sector",
                    "Government Sector",
                    "Government Sector",
                    "Government Sector",
                    "Private Sector/Self Employed",
                    "Private Sector/Self Employed",
                    "Private Sector/Self Employed",
                    "Private Sector/Self Employed",
                    "Private Sector/Self Employed",
                    "Private Sector/Self Employed",
                    "Private Sector/Self Employed",
                    "Government Sector",
                    "Government Sector",
                    "Government Sector",
                    "Government Sector",
                    "Government Sector",
                    "Government Sector",
                    "Private Sector/Self Employed",
                    "Private Sector/Self Employed",
                    "Private Sector/Self Employed",
                    "Private Sector/Self Employed",
                    "Private Sector/Self Employed",
                    "Private Sector/Self Employed",
                    "Government Sector",
                    "Private Sector/Self Employed",
                    "Private Sector/Self Employed",
                    "Private Sector/Self Employed",
                    "Private Sector/Self Employed",
                    "Private Sector/Self Employed",
                    "Private Sector/Self Employed",
                    "Private Sector/Self Employed",
                    "Private Sector/Self Employed",
                    "Government Sector",
                    "Private Sector/Self Employed",
                    "Private Sector/Self Employed",
                    "Government Sector",
                    "Private Sector/Self Employed",
                    "Private Sector/Self Employed",
                    "Private Sector/Self Employed",
                    "Private Sector/Self Employed",
                    "Private Sector/Self Employed",
                    "Government Sector",
                    "Private Sector/Self Employed",
                    "Private Sector/Self Employed",
                    "Government Sector",
                    "Government Sector",
                    "Government Sector",
                    "Government Sector",
                    "Government Sector",
                    "Government Sector",
                    "Private Sector/Self Employed",
                    "Government Sector",
                    "Private Sector/Self Employed",
                    "Private Sector/Self Employed",
                    "Government Sector",
                    "Private Sector/Self Employed",
                    "Private Sector/Self Employed",
                    "Private Sector/Self Employed",
                    "Government Sector",
                    "Private Sector/Self Employed",
                    "Private Sector/Self Employed",
                    "Private Sector/Self Employed",
                    "Private Sector/Self Employed",
                    "Private Sector/Self Employed",
                    "Private Sector/Self Employed",
                    "Private Sector/Self Employed",
                    "Private Sector/Self Employed",
                    "Private Sector/Self Employed",
                    "Private Sector/Self Employed",
                    "Government Sector",
                    "Government Sector",
                    "Private Sector/Self Employed",
                    "Private Sector/Self Employed",
                    "Private Sector/Self Employed",
                    "Private Sector/Self Employed",
                    "Government Sector",
                    "Government Sector",
                    "Government Sector",
                    "Government Sector",
                    "Government Sector",
                    "Government Sector",
                    "Government Sector",
                    "Private Sector/Self Employed",
                    "Government Sector",
                    "Private Sector/Self Employed",
                    "Government Sector",
                    "Government Sector",
                    "Government Sector",
                    "Government Sector",
                    "Government Sector",
                    "Government Sector",
                    "Government Sector",
                    "Private Sector/Self Employed",
                    "Private Sector/Self Employed",
                    "Government Sector",
                    "Private Sector/Self Employed",
                    "Government Sector",
                    "Government Sector",
                    "Private Sector/Self Employed",
                    "Government Sector",
                    "Private Sector/Self Employed",
                    "Private Sector/Self Employed",
                    "Private Sector/Self Employed",
                    "Private Sector/Self Employed",
                    "Government Sector",
                    "Private Sector/Self Employed",
                    "Private Sector/Self Employed",
                    "Private Sector/Self Employed",
                    "Private Sector/Self Employed",
                    "Private Sector/Self Employed",
                    "Private Sector/Self Employed",
                    "Private Sector/Self Employed",
                    "Private Sector/Self Employed",
                    "Private Sector/Self Employed",
                    "Government Sector",
                    "Government Sector",
                    "Private Sector/Self Employed",
                    "Private Sector/Self Employed",
                    "Private Sector/Self Employed",
                    "Private Sector/Self Employed",
                    "Private Sector/Self Employed",
                    "Private Sector/Self Employed",
                    "Private Sector/Self Employed",
                    "Government Sector",
                    "Private Sector/Self Employed",
                    "Government Sector",
                    "Government Sector",
                    "Government Sector",
                    "Private Sector/Self Employed",
                    "Private Sector/Self Employed",
                    "Private Sector/Self Employed",
                    "Private Sector/Self Employed",
                    "Private Sector/Self Employed",
                    "Government Sector",
                    "Private Sector/Self Employed",
                    "Government Sector",
                    "Private Sector/Self Employed",
                    "Private Sector/Self Employed",
                    "Government Sector",
                    "Private Sector/Self Employed",
                    "Private Sector/Self Employed",
                    "Government Sector",
                    "Private Sector/Self Employed",
                    "Private Sector/Self Employed",
                    "Private Sector/Self Employed",
                    "Government Sector",
                    "Government Sector",
                    "Private Sector/Self Employed",
                    "Government Sector",
                    "Private Sector/Self Employed",
                    "Private Sector/Self Employed",
                    "Private Sector/Self Employed",
                    "Government Sector",
                    "Private Sector/Self Employed",
                    "Private Sector/Self Employed",
                    "Private Sector/Self Employed",
                    "Private Sector/Self Employed",
                    "Private Sector/Self Employed",
                    "Private Sector/Self Employed",
                    "Private Sector/Self Employed",
                    "Private Sector/Self Employed",
                    "Private Sector/Self Employed",
                    "Private Sector/Self Employed",
                    "Government Sector",
                    "Private Sector/Self Employed",
                    "Private Sector/Self Employed",
                    "Government Sector",
                    "Private Sector/Self Employed",
                    "Private Sector/Self Employed",
                    "Government Sector",
                    "Government Sector",
                    "Private Sector/Self Employed",
                    "Government Sector",
                    "Government Sector",
                    "Private Sector/Self Employed",
                    "Government Sector",
                    "Government Sector",
                    "Private Sector/Self Employed",
                    "Private Sector/Self Employed",
                    "Government Sector",
                    "Private Sector/Self Employed",
                    "Government Sector",
                    "Government Sector",
                    "Government Sector",
                    "Private Sector/Self Employed",
                    "Private Sector/Self Employed",
                    "Government Sector",
                    "Government Sector",
                    "Government Sector",
                    "Private Sector/Self Employed",
                    "Private Sector/Self Employed",
                    "Private Sector/Self Employed",
                    "Private Sector/Self Employed",
                    "Private Sector/Self Employed",
                    "Private Sector/Self Employed",
                    "Government Sector",
                    "Government Sector",
                    "Private Sector/Self Employed",
                    "Private Sector/Self Employed",
                    "Private Sector/Self Employed",
                    "Private Sector/Self Employed",
                    "Government Sector",
                    "Private Sector/Self Employed",
                    "Private Sector/Self Employed",
                    "Private Sector/Self Employed",
                    "Private Sector/Self Employed",
                    "Private Sector/Self Employed",
                    "Private Sector/Self Employed",
                    "Private Sector/Self Employed",
                    "Private Sector/Self Employed",
                    "Private Sector/Self Employed",
                    "Government Sector",
                    "Government Sector",
                    "Private Sector/Self Employed",
                    "Private Sector/Self Employed",
                    "Government Sector",
                    "Government Sector",
                    "Government Sector",
                    "Private Sector/Self Employed",
                    "Government Sector",
                    "Private Sector/Self Employed",
                    "Private Sector/Self Employed",
                    "Government Sector",
                    "Private Sector/Self Employed",
                    "Government Sector",
                    "Private Sector/Self Employed",
                    "Private Sector/Self Employed",
                    "Private Sector/Self Employed",
                    "Private Sector/Self Employed",
                    "Private Sector/Self Employed",
                    "Government Sector",
                    "Government Sector",
                    "Government Sector",
                    "Private Sector/Self Employed",
                    "Private Sector/Self Employed",
                    "Private Sector/Self Employed",
                    "Government Sector",
                    "Private Sector/Self Employed",
                    "Private Sector/Self Employed",
                    "Private Sector/Self Employed",
                    "Private Sector/Self Employed",
                    "Private Sector/Self Employed",
                    "Private Sector/Self Employed",
                    "Private Sector/Self Employed",
                    "Private Sector/Self Employed",
                    "Government Sector",
                    "Government Sector",
                    "Government Sector",
                    "Private Sector/Self Employed",
                    "Government Sector",
                    "Private Sector/Self Employed",
                    "Private Sector/Self Employed",
                    "Government Sector",
                    "Private Sector/Self Employed",
                    "Private Sector/Self Employed",
                    "Government Sector",
                    "Private Sector/Self Employed",
                    "Private Sector/Self Employed",
                    "Government Sector",
                    "Private Sector/Self Employed",
                    "Private Sector/Self Employed",
                    "Private Sector/Self Employed",
                    "Private Sector/Self Employed",
                    "Private Sector/Self Employed",
                    "Private Sector/Self Employed",
                    "Private Sector/Self Employed",
                    "Private Sector/Self Employed",
                    "Government Sector",
                    "Government Sector",
                    "Government Sector",
                    "Private Sector/Self Employed",
                    "Private Sector/Self Employed",
                    "Government Sector",
                    "Private Sector/Self Employed",
                    "Government Sector",
                    "Private Sector/Self Employed",
                    "Government Sector",
                    "Government Sector",
                    "Private Sector/Self Employed",
                    "Private Sector/Self Employed",
                    "Government Sector",
                    "Private Sector/Self Employed",
                    "Private Sector/Self Employed",
                    "Government Sector",
                    "Private Sector/Self Employed",
                    "Government Sector",
                    "Government Sector",
                    "Government Sector",
                    "Government Sector",
                    "Government Sector",
                    "Government Sector",
                    "Private Sector/Self Employed",
                    "Private Sector/Self Employed",
                    "Private Sector/Self Employed",
                    "Private Sector/Self Employed",
                    "Private Sector/Self Employed",
                    "Private Sector/Self Employed",
                    "Private Sector/Self Employed",
                    "Government Sector",
                    "Private Sector/Self Employed",
                    "Private Sector/Self Employed",
                    "Government Sector",
                    "Private Sector/Self Employed",
                    "Private Sector/Self Employed",
                    "Government Sector",
                    "Government Sector",
                    "Private Sector/Self Employed",
                    "Government Sector",
                    "Government Sector",
                    "Private Sector/Self Employed",
                    "Private Sector/Self Employed",
                    "Private Sector/Self Employed",
                    "Government Sector",
                    "Private Sector/Self Employed",
                    "Government Sector",
                    "Government Sector",
                    "Private Sector/Self Employed",
                    "Private Sector/Self Employed",
                    "Private Sector/Self Employed",
                    "Private Sector/Self Employed",
                    "Government Sector",
                    "Government Sector",
                    "Private Sector/Self Employed",
                    "Private Sector/Self Employed",
                    "Government Sector",
                    "Private Sector/Self Employed",
                    "Government Sector",
                    "Private Sector/Self Employed",
                    "Private Sector/Self Employed",
                    "Private Sector/Self Employed",
                    "Private Sector/Self Employed",
                    "Private Sector/Self Employed",
                    "Private Sector/Self Employed",
                    "Private Sector/Self Employed",
                    "Private Sector/Self Employed",
                    "Private Sector/Self Employed",
                    "Government Sector",
                    "Private Sector/Self Employed",
                    "Private Sector/Self Employed",
                    "Private Sector/Self Employed",
                    "Private Sector/Self Employed",
                    "Government Sector",
                    "Private Sector/Self Employed",
                    "Private Sector/Self Employed",
                    "Government Sector",
                    "Private Sector/Self Employed",
                    "Private Sector/Self Employed",
                    "Private Sector/Self Employed",
                    "Private Sector/Self Employed",
                    "Private Sector/Self Employed",
                    "Private Sector/Self Employed",
                    "Government Sector",
                    "Private Sector/Self Employed",
                    "Government Sector",
                    "Private Sector/Self Employed",
                    "Private Sector/Self Employed",
                    "Private Sector/Self Employed",
                    "Private Sector/Self Employed",
                    "Government Sector",
                    "Private Sector/Self Employed",
                    "Private Sector/Self Employed",
                    "Government Sector",
                    "Private Sector/Self Employed",
                    "Private Sector/Self Employed",
                    "Private Sector/Self Employed",
                    "Government Sector",
                    "Government Sector",
                    "Government Sector",
                    "Private Sector/Self Employed",
                    "Private Sector/Self Employed",
                    "Government Sector",
                    "Private Sector/Self Employed",
                    "Private Sector/Self Employed",
                    "Government Sector",
                    "Private Sector/Self Employed",
                    "Government Sector",
                    "Private Sector/Self Employed",
                    "Government Sector",
                    "Government Sector",
                    "Private Sector/Self Employed",
                    "Private Sector/Self Employed",
                    "Private Sector/Self Employed",
                    "Government Sector",
                    "Private Sector/Self Employed",
                    "Government Sector",
                    "Government Sector",
                    "Private Sector/Self Employed",
                    "Private Sector/Self Employed",
                    "Private Sector/Self Employed",
                    "Private Sector/Self Employed",
                    "Private Sector/Self Employed",
                    "Private Sector/Self Employed",
                    "Government Sector",
                    "Government Sector",
                    "Private Sector/Self Employed",
                    "Private Sector/Self Employed",
                    "Government Sector",
                    "Government Sector",
                    "Government Sector",
                    "Private Sector/Self Employed",
                    "Private Sector/Self Employed",
                    "Government Sector",
                    "Private Sector/Self Employed",
                    "Government Sector",
                    "Private Sector/Self Employed",
                    "Private Sector/Self Employed",
                    "Private Sector/Self Employed",
                    "Government Sector",
                    "Government Sector",
                    "Private Sector/Self Employed",
                    "Private Sector/Self Employed",
                    "Private Sector/Self Employed",
                    "Government Sector",
                    "Private Sector/Self Employed",
                    "Private Sector/Self Employed",
                    "Government Sector",
                    "Private Sector/Self Employed",
                    "Private Sector/Self Employed",
                    "Government Sector",
                    "Private Sector/Self Employed",
                    "Private Sector/Self Employed",
                    "Government Sector",
                    "Private Sector/Self Employed",
                    "Government Sector",
                    "Government Sector",
                    "Private Sector/Self Employed",
                    "Private Sector/Self Employed",
                    "Government Sector",
                    "Government Sector",
                    "Private Sector/Self Employed",
                    "Government Sector",
                    "Government Sector",
                    "Government Sector",
                    "Government Sector",
                    "Private Sector/Self Employed",
                    "Private Sector/Self Employed",
                    "Government Sector",
                    "Government Sector",
                    "Private Sector/Self Employed",
                    "Private Sector/Self Employed",
                    "Private Sector/Self Employed",
                    "Government Sector",
                    "Private Sector/Self Employed",
                    "Government Sector",
                    "Private Sector/Self Employed",
                    "Private Sector/Self Employed",
                    "Private Sector/Self Employed",
                    "Private Sector/Self Employed",
                    "Private Sector/Self Employed",
                    "Government Sector",
                    "Private Sector/Self Employed",
                    "Government Sector",
                    "Private Sector/Self Employed",
                    "Private Sector/Self Employed",
                    "Private Sector/Self Employed",
                    "Private Sector/Self Employed",
                    "Government Sector",
                    "Government Sector",
                    "Government Sector",
                    "Government Sector",
                    "Government Sector",
                    "Private Sector/Self Employed",
                    "Private Sector/Self Employed",
                    "Private Sector/Self Employed",
                    "Private Sector/Self Employed",
                    "Government Sector",
                    "Government Sector",
                    "Private Sector/Self Employed",
                    "Government Sector",
                    "Government Sector",
                    "Private Sector/Self Employed",
                    "Private Sector/Self Employed",
                    "Government Sector",
                    "Private Sector/Self Employed",
                    "Private Sector/Self Employed",
                    "Private Sector/Self Employed",
                    "Private Sector/Self Employed",
                    "Private Sector/Self Employed",
                    "Private Sector/Self Employed",
                    "Private Sector/Self Employed",
                    "Government Sector",
                    "Government Sector",
                    "Private Sector/Self Employed",
                    "Private Sector/Self Employed",
                    "Private Sector/Self Employed",
                    "Private Sector/Self Employed",
                    "Private Sector/Self Employed",
                    "Private Sector/Self Employed",
                    "Private Sector/Self Employed",
                    "Government Sector",
                    "Private Sector/Self Employed",
                    "Private Sector/Self Employed",
                    "Government Sector",
                    "Private Sector/Self Employed",
                    "Private Sector/Self Employed",
                    "Government Sector",
                    "Government Sector",
                    "Private Sector/Self Employed",
                    "Private Sector/Self Employed",
                    "Private Sector/Self Employed",
                    "Government Sector",
                    "Government Sector",
                    "Private Sector/Self Employed",
                    "Private Sector/Self Employed",
                    "Private Sector/Self Employed",
                    "Government Sector",
                    "Private Sector/Self Employed",
                    "Private Sector/Self Employed",
                    "Government Sector",
                    "Private Sector/Self Employed",
                    "Government Sector",
                    "Government Sector",
                    "Private Sector/Self Employed",
                    "Private Sector/Self Employed",
                    "Government Sector",
                    "Private Sector/Self Employed",
                    "Private Sector/Self Employed",
                    "Government Sector",
                    "Government Sector",
                    "Private Sector/Self Employed",
                    "Private Sector/Self Employed",
                    "Private Sector/Self Employed",
                    "Private Sector/Self Employed",
                    "Government Sector",
                    "Government Sector",
                    "Government Sector",
                    "Private Sector/Self Employed",
                    "Private Sector/Self Employed",
                    "Private Sector/Self Employed",
                    "Private Sector/Self Employed",
                    "Government Sector",
                    "Government Sector",
                    "Private Sector/Self Employed",
                    "Private Sector/Self Employed",
                    "Private Sector/Self Employed",
                    "Private Sector/Self Employed",
                    "Private Sector/Self Employed",
                    "Private Sector/Self Employed",
                    "Private Sector/Self Employed",
                    "Private Sector/Self Employed",
                    "Private Sector/Self Employed",
                    "Private Sector/Self Employed",
                    "Private Sector/Self Employed",
                    "Private Sector/Self Employed",
                    "Government Sector",
                    "Private Sector/Self Employed",
                    "Private Sector/Self Employed",
                    "Private Sector/Self Employed",
                    "Private Sector/Self Employed",
                    "Private Sector/Self Employed",
                    "Private Sector/Self Employed",
                    "Private Sector/Self Employed",
                    "Private Sector/Self Employed",
                    "Government Sector",
                    "Private Sector/Self Employed",
                    "Private Sector/Self Employed",
                    "Private Sector/Self Employed",
                    "Private Sector/Self Employed",
                    "Government Sector",
                    "Private Sector/Self Employed",
                    "Government Sector",
                    "Private Sector/Self Employed",
                    "Private Sector/Self Employed",
                    "Private Sector/Self Employed",
                    "Private Sector/Self Employed",
                    "Private Sector/Self Employed",
                    "Government Sector",
                    "Private Sector/Self Employed",
                    "Government Sector",
                    "Private Sector/Self Employed",
                    "Government Sector",
                    "Government Sector",
                    "Private Sector/Self Employed",
                    "Private Sector/Self Employed",
                    "Private Sector/Self Employed",
                    "Private Sector/Self Employed",
                    "Private Sector/Self Employed",
                    "Government Sector",
                    "Private Sector/Self Employed",
                    "Private Sector/Self Employed",
                    "Government Sector",
                    "Government Sector",
                    "Private Sector/Self Employed",
                    "Private Sector/Self Employed",
                    "Private Sector/Self Employed",
                    "Private Sector/Self Employed",
                    "Government Sector",
                    "Private Sector/Self Employed",
                    "Private Sector/Self Employed",
                    "Private Sector/Self Employed",
                    "Government Sector",
                    "Private Sector/Self Employed",
                    "Private Sector/Self Employed",
                    "Private Sector/Self Employed",
                    "Private Sector/Self Employed",
                    "Private Sector/Self Employed",
                    "Private Sector/Self Employed",
                    "Government Sector",
                    "Private Sector/Self Employed",
                    "Private Sector/Self Employed",
                    "Government Sector",
                    "Private Sector/Self Employed",
                    "Private Sector/Self Employed",
                    "Private Sector/Self Employed",
                    "Private Sector/Self Employed",
                    "Private Sector/Self Employed",
                    "Private Sector/Self Employed",
                    "Private Sector/Self Employed",
                    "Government Sector",
                    "Private Sector/Self Employed",
                    "Government Sector",
                    "Private Sector/Self Employed",
                    "Government Sector",
                    "Government Sector",
                    "Private Sector/Self Employed",
                    "Private Sector/Self Employed",
                    "Government Sector",
                    "Government Sector",
                    "Private Sector/Self Employed",
                    "Private Sector/Self Employed",
                    "Private Sector/Self Employed",
                    "Government Sector",
                    "Government Sector",
                    "Private Sector/Self Employed",
                    "Private Sector/Self Employed",
                    "Private Sector/Self Employed",
                    "Private Sector/Self Employed",
                    "Private Sector/Self Employed",
                    "Government Sector",
                    "Private Sector/Self Employed",
                    "Private Sector/Self Employed",
                    "Private Sector/Self Employed",
                    "Private Sector/Self Employed",
                    "Private Sector/Self Employed",
                    "Private Sector/Self Employed",
                    "Private Sector/Self Employed",
                    "Private Sector/Self Employed",
                    "Private Sector/Self Employed",
                    "Private Sector/Self Employed",
                    "Private Sector/Self Employed",
                    "Private Sector/Self Employed",
                    "Private Sector/Self Employed",
                    "Government Sector",
                    "Private Sector/Self Employed",
                    "Private Sector/Self Employed",
                    "Government Sector",
                    "Private Sector/Self Employed",
                    "Government Sector",
                    "Private Sector/Self Employed",
                    "Private Sector/Self Employed",
                    "Private Sector/Self Employed",
                    "Private Sector/Self Employed",
                    "Government Sector",
                    "Private Sector/Self Employed",
                    "Private Sector/Self Employed",
                    "Private Sector/Self Employed",
                    "Private Sector/Self Employed",
                    "Government Sector",
                    "Private Sector/Self Employed",
                    "Private Sector/Self Employed",
                    "Private Sector/Self Employed",
                    "Private Sector/Self Employed",
                    "Private Sector/Self Employed",
                    "Government Sector",
                    "Government Sector",
                    "Private Sector/Self Employed",
                    "Private Sector/Self Employed",
                    "Private Sector/Self Employed",
                    "Government Sector",
                    "Government Sector",
                    "Private Sector/Self Employed",
                    "Private Sector/Self Employed",
                    "Government Sector",
                    "Private Sector/Self Employed",
                    "Government Sector",
                    "Private Sector/Self Employed",
                    "Private Sector/Self Employed",
                    "Private Sector/Self Employed",
                    "Government Sector",
                    "Government Sector",
                    "Government Sector",
                    "Private Sector/Self Employed",
                    "Government Sector",
                    "Private Sector/Self Employed",
                    "Private Sector/Self Employed",
                    "Private Sector/Self Employed",
                    "Government Sector",
                    "Government Sector",
                    "Private Sector/Self Employed",
                    "Private Sector/Self Employed",
                    "Private Sector/Self Employed",
                    "Private Sector/Self Employed",
                    "Government Sector",
                    "Private Sector/Self Employed",
                    "Private Sector/Self Employed",
                    "Private Sector/Self Employed",
                    "Private Sector/Self Employed",
                    "Private Sector/Self Employed",
                    "Government Sector",
                    "Government Sector",
                    "Government Sector",
                    "Private Sector/Self Employed",
                    "Private Sector/Self Employed",
                    "Government Sector",
                    "Government Sector",
                    "Private Sector/Self Employed",
                    "Government Sector",
                    "Private Sector/Self Employed",
                    "Government Sector",
                    "Private Sector/Self Employed",
                    "Private Sector/Self Employed",
                    "Private Sector/Self Employed",
                    "Government Sector",
                    "Government Sector",
                    "Private Sector/Self Employed",
                    "Private Sector/Self Employed",
                    "Private Sector/Self Employed",
                    "Government Sector",
                    "Private Sector/Self Employed",
                    "Private Sector/Self Employed",
                    "Government Sector",
                    "Private Sector/Self Employed",
                    "Private Sector/Self Employed",
                    "Government Sector",
                    "Government Sector",
                    "Government Sector",
                    "Government Sector",
                    "Private Sector/Self Employed",
                    "Private Sector/Self Employed",
                    "Private Sector/Self Employed",
                    "Government Sector",
                    "Government Sector",
                    "Private Sector/Self Employed",
                    "Private Sector/Self Employed",
                    "Private Sector/Self Employed",
                    "Private Sector/Self Employed",
                    "Government Sector",
                    "Private Sector/Self Employed",
                    "Private Sector/Self Employed",
                    "Private Sector/Self Employed",
                    "Private Sector/Self Employed",
                    "Private Sector/Self Employed",
                    "Private Sector/Self Employed",
                    "Government Sector",
                    "Private Sector/Self Employed",
                    "Private Sector/Self Employed",
                    "Private Sector/Self Employed",
                    "Government Sector",
                    "Private Sector/Self Employed",
                    "Government Sector",
                    "Private Sector/Self Employed",
                    "Government Sector",
                    "Private Sector/Self Employed",
                    "Government Sector",
                    "Private Sector/Self Employed",
                    "Private Sector/Self Employed",
                    "Government Sector",
                    "Private Sector/Self Employed",
                    "Private Sector/Self Employed",
                    "Private Sector/Self Employed",
                    "Private Sector/Self Employed",
                    "Government Sector",
                    "Private Sector/Self Employed",
                    "Private Sector/Self Employed",
                    "Private Sector/Self Employed",
                    "Private Sector/Self Employed",
                    "Private Sector/Self Employed"
                  ],
                  "xaxis": "x",
                  "yaxis": "y"
                },
                {
                  "bingroup": "x",
                  "hovertemplate": "TravelInsurance=Purchased<br>Employment Type=%{x}<br>count=%{y}<extra></extra>",
                  "legendgroup": "Purchased",
                  "marker": {
                    "color": "#EF553B",
                    "pattern": {
                      "shape": ""
                    }
                  },
                  "name": "Purchased",
                  "orientation": "v",
                  "showlegend": true,
                  "type": "histogram",
                  "x": [
                    "Private Sector/Self Employed",
                    "Private Sector/Self Employed",
                    "Private Sector/Self Employed",
                    "Private Sector/Self Employed",
                    "Government Sector",
                    "Government Sector",
                    "Private Sector/Self Employed",
                    "Private Sector/Self Employed",
                    "Private Sector/Self Employed",
                    "Private Sector/Self Employed",
                    "Government Sector",
                    "Private Sector/Self Employed",
                    "Government Sector",
                    "Private Sector/Self Employed",
                    "Private Sector/Self Employed",
                    "Private Sector/Self Employed",
                    "Private Sector/Self Employed",
                    "Private Sector/Self Employed",
                    "Private Sector/Self Employed",
                    "Private Sector/Self Employed",
                    "Private Sector/Self Employed",
                    "Private Sector/Self Employed",
                    "Private Sector/Self Employed",
                    "Private Sector/Self Employed",
                    "Private Sector/Self Employed",
                    "Private Sector/Self Employed",
                    "Government Sector",
                    "Private Sector/Self Employed",
                    "Private Sector/Self Employed",
                    "Private Sector/Self Employed",
                    "Government Sector",
                    "Private Sector/Self Employed",
                    "Private Sector/Self Employed",
                    "Government Sector",
                    "Private Sector/Self Employed",
                    "Private Sector/Self Employed",
                    "Private Sector/Self Employed",
                    "Private Sector/Self Employed",
                    "Private Sector/Self Employed",
                    "Private Sector/Self Employed",
                    "Private Sector/Self Employed",
                    "Government Sector",
                    "Private Sector/Self Employed",
                    "Private Sector/Self Employed",
                    "Private Sector/Self Employed",
                    "Private Sector/Self Employed",
                    "Private Sector/Self Employed",
                    "Private Sector/Self Employed",
                    "Private Sector/Self Employed",
                    "Private Sector/Self Employed",
                    "Private Sector/Self Employed",
                    "Private Sector/Self Employed",
                    "Private Sector/Self Employed",
                    "Private Sector/Self Employed",
                    "Private Sector/Self Employed",
                    "Government Sector",
                    "Private Sector/Self Employed",
                    "Private Sector/Self Employed",
                    "Private Sector/Self Employed",
                    "Private Sector/Self Employed",
                    "Private Sector/Self Employed",
                    "Private Sector/Self Employed",
                    "Private Sector/Self Employed",
                    "Government Sector",
                    "Private Sector/Self Employed",
                    "Private Sector/Self Employed",
                    "Private Sector/Self Employed",
                    "Private Sector/Self Employed",
                    "Private Sector/Self Employed",
                    "Private Sector/Self Employed",
                    "Government Sector",
                    "Private Sector/Self Employed",
                    "Private Sector/Self Employed",
                    "Private Sector/Self Employed",
                    "Private Sector/Self Employed",
                    "Private Sector/Self Employed",
                    "Private Sector/Self Employed",
                    "Government Sector",
                    "Private Sector/Self Employed",
                    "Private Sector/Self Employed",
                    "Government Sector",
                    "Government Sector",
                    "Private Sector/Self Employed",
                    "Private Sector/Self Employed",
                    "Private Sector/Self Employed",
                    "Private Sector/Self Employed",
                    "Government Sector",
                    "Private Sector/Self Employed",
                    "Government Sector",
                    "Private Sector/Self Employed",
                    "Private Sector/Self Employed",
                    "Government Sector",
                    "Private Sector/Self Employed",
                    "Government Sector",
                    "Private Sector/Self Employed",
                    "Government Sector",
                    "Private Sector/Self Employed",
                    "Government Sector",
                    "Private Sector/Self Employed",
                    "Private Sector/Self Employed",
                    "Private Sector/Self Employed",
                    "Private Sector/Self Employed",
                    "Private Sector/Self Employed",
                    "Government Sector",
                    "Private Sector/Self Employed",
                    "Government Sector",
                    "Government Sector",
                    "Private Sector/Self Employed",
                    "Private Sector/Self Employed",
                    "Private Sector/Self Employed",
                    "Government Sector",
                    "Government Sector",
                    "Private Sector/Self Employed",
                    "Private Sector/Self Employed",
                    "Private Sector/Self Employed",
                    "Private Sector/Self Employed",
                    "Private Sector/Self Employed",
                    "Private Sector/Self Employed",
                    "Private Sector/Self Employed",
                    "Private Sector/Self Employed",
                    "Private Sector/Self Employed",
                    "Private Sector/Self Employed",
                    "Private Sector/Self Employed",
                    "Private Sector/Self Employed",
                    "Private Sector/Self Employed",
                    "Private Sector/Self Employed",
                    "Private Sector/Self Employed",
                    "Government Sector",
                    "Private Sector/Self Employed",
                    "Private Sector/Self Employed",
                    "Private Sector/Self Employed",
                    "Private Sector/Self Employed",
                    "Private Sector/Self Employed",
                    "Private Sector/Self Employed",
                    "Private Sector/Self Employed",
                    "Government Sector",
                    "Private Sector/Self Employed",
                    "Private Sector/Self Employed",
                    "Government Sector",
                    "Government Sector",
                    "Private Sector/Self Employed",
                    "Private Sector/Self Employed",
                    "Private Sector/Self Employed",
                    "Private Sector/Self Employed",
                    "Private Sector/Self Employed",
                    "Private Sector/Self Employed",
                    "Private Sector/Self Employed",
                    "Private Sector/Self Employed",
                    "Private Sector/Self Employed",
                    "Private Sector/Self Employed",
                    "Private Sector/Self Employed",
                    "Private Sector/Self Employed",
                    "Private Sector/Self Employed",
                    "Private Sector/Self Employed",
                    "Private Sector/Self Employed",
                    "Private Sector/Self Employed",
                    "Private Sector/Self Employed",
                    "Private Sector/Self Employed",
                    "Private Sector/Self Employed",
                    "Private Sector/Self Employed",
                    "Private Sector/Self Employed",
                    "Private Sector/Self Employed",
                    "Private Sector/Self Employed",
                    "Government Sector",
                    "Private Sector/Self Employed",
                    "Private Sector/Self Employed",
                    "Private Sector/Self Employed",
                    "Private Sector/Self Employed",
                    "Private Sector/Self Employed",
                    "Private Sector/Self Employed",
                    "Private Sector/Self Employed",
                    "Private Sector/Self Employed",
                    "Government Sector",
                    "Private Sector/Self Employed",
                    "Private Sector/Self Employed",
                    "Private Sector/Self Employed",
                    "Private Sector/Self Employed",
                    "Government Sector",
                    "Private Sector/Self Employed",
                    "Private Sector/Self Employed",
                    "Private Sector/Self Employed",
                    "Private Sector/Self Employed",
                    "Private Sector/Self Employed",
                    "Private Sector/Self Employed",
                    "Private Sector/Self Employed",
                    "Government Sector",
                    "Private Sector/Self Employed",
                    "Private Sector/Self Employed",
                    "Private Sector/Self Employed",
                    "Private Sector/Self Employed",
                    "Private Sector/Self Employed",
                    "Private Sector/Self Employed",
                    "Private Sector/Self Employed",
                    "Private Sector/Self Employed",
                    "Private Sector/Self Employed",
                    "Private Sector/Self Employed",
                    "Private Sector/Self Employed",
                    "Private Sector/Self Employed",
                    "Government Sector",
                    "Private Sector/Self Employed",
                    "Private Sector/Self Employed",
                    "Private Sector/Self Employed",
                    "Private Sector/Self Employed",
                    "Private Sector/Self Employed",
                    "Private Sector/Self Employed",
                    "Private Sector/Self Employed",
                    "Private Sector/Self Employed",
                    "Private Sector/Self Employed",
                    "Private Sector/Self Employed",
                    "Private Sector/Self Employed",
                    "Private Sector/Self Employed",
                    "Private Sector/Self Employed",
                    "Private Sector/Self Employed",
                    "Private Sector/Self Employed",
                    "Private Sector/Self Employed",
                    "Government Sector",
                    "Private Sector/Self Employed",
                    "Private Sector/Self Employed",
                    "Government Sector",
                    "Private Sector/Self Employed",
                    "Private Sector/Self Employed",
                    "Private Sector/Self Employed",
                    "Government Sector",
                    "Private Sector/Self Employed",
                    "Private Sector/Self Employed",
                    "Government Sector",
                    "Private Sector/Self Employed",
                    "Private Sector/Self Employed",
                    "Private Sector/Self Employed",
                    "Private Sector/Self Employed",
                    "Private Sector/Self Employed",
                    "Private Sector/Self Employed",
                    "Private Sector/Self Employed",
                    "Government Sector",
                    "Private Sector/Self Employed",
                    "Private Sector/Self Employed",
                    "Private Sector/Self Employed",
                    "Private Sector/Self Employed",
                    "Government Sector",
                    "Private Sector/Self Employed",
                    "Government Sector",
                    "Private Sector/Self Employed",
                    "Private Sector/Self Employed",
                    "Private Sector/Self Employed",
                    "Private Sector/Self Employed",
                    "Government Sector",
                    "Private Sector/Self Employed",
                    "Private Sector/Self Employed",
                    "Government Sector",
                    "Private Sector/Self Employed",
                    "Private Sector/Self Employed",
                    "Private Sector/Self Employed",
                    "Private Sector/Self Employed",
                    "Private Sector/Self Employed",
                    "Private Sector/Self Employed",
                    "Private Sector/Self Employed",
                    "Private Sector/Self Employed",
                    "Government Sector",
                    "Private Sector/Self Employed",
                    "Private Sector/Self Employed",
                    "Private Sector/Self Employed",
                    "Private Sector/Self Employed",
                    "Private Sector/Self Employed",
                    "Private Sector/Self Employed",
                    "Private Sector/Self Employed",
                    "Private Sector/Self Employed",
                    "Private Sector/Self Employed",
                    "Government Sector",
                    "Government Sector",
                    "Private Sector/Self Employed",
                    "Government Sector",
                    "Private Sector/Self Employed",
                    "Private Sector/Self Employed",
                    "Government Sector",
                    "Private Sector/Self Employed",
                    "Private Sector/Self Employed",
                    "Government Sector",
                    "Private Sector/Self Employed",
                    "Private Sector/Self Employed",
                    "Government Sector",
                    "Private Sector/Self Employed",
                    "Private Sector/Self Employed",
                    "Private Sector/Self Employed",
                    "Government Sector",
                    "Private Sector/Self Employed",
                    "Private Sector/Self Employed",
                    "Private Sector/Self Employed",
                    "Government Sector",
                    "Private Sector/Self Employed",
                    "Private Sector/Self Employed",
                    "Private Sector/Self Employed",
                    "Private Sector/Self Employed",
                    "Private Sector/Self Employed",
                    "Private Sector/Self Employed",
                    "Private Sector/Self Employed",
                    "Private Sector/Self Employed",
                    "Government Sector",
                    "Private Sector/Self Employed",
                    "Private Sector/Self Employed",
                    "Private Sector/Self Employed",
                    "Private Sector/Self Employed",
                    "Government Sector",
                    "Private Sector/Self Employed",
                    "Private Sector/Self Employed",
                    "Private Sector/Self Employed",
                    "Government Sector",
                    "Private Sector/Self Employed",
                    "Private Sector/Self Employed",
                    "Private Sector/Self Employed",
                    "Private Sector/Self Employed",
                    "Private Sector/Self Employed",
                    "Private Sector/Self Employed",
                    "Private Sector/Self Employed",
                    "Private Sector/Self Employed",
                    "Private Sector/Self Employed",
                    "Private Sector/Self Employed",
                    "Private Sector/Self Employed",
                    "Private Sector/Self Employed",
                    "Government Sector",
                    "Private Sector/Self Employed",
                    "Private Sector/Self Employed",
                    "Private Sector/Self Employed",
                    "Private Sector/Self Employed",
                    "Private Sector/Self Employed",
                    "Private Sector/Self Employed",
                    "Government Sector",
                    "Private Sector/Self Employed",
                    "Government Sector",
                    "Private Sector/Self Employed",
                    "Private Sector/Self Employed",
                    "Private Sector/Self Employed",
                    "Private Sector/Self Employed",
                    "Private Sector/Self Employed",
                    "Private Sector/Self Employed",
                    "Private Sector/Self Employed",
                    "Private Sector/Self Employed",
                    "Private Sector/Self Employed",
                    "Private Sector/Self Employed",
                    "Government Sector",
                    "Private Sector/Self Employed",
                    "Private Sector/Self Employed",
                    "Private Sector/Self Employed",
                    "Private Sector/Self Employed",
                    "Private Sector/Self Employed",
                    "Private Sector/Self Employed",
                    "Private Sector/Self Employed",
                    "Private Sector/Self Employed",
                    "Private Sector/Self Employed",
                    "Private Sector/Self Employed",
                    "Government Sector",
                    "Private Sector/Self Employed",
                    "Private Sector/Self Employed",
                    "Private Sector/Self Employed",
                    "Private Sector/Self Employed",
                    "Private Sector/Self Employed",
                    "Private Sector/Self Employed",
                    "Private Sector/Self Employed",
                    "Private Sector/Self Employed",
                    "Private Sector/Self Employed",
                    "Private Sector/Self Employed",
                    "Government Sector",
                    "Private Sector/Self Employed",
                    "Government Sector",
                    "Private Sector/Self Employed",
                    "Private Sector/Self Employed",
                    "Government Sector",
                    "Government Sector",
                    "Government Sector",
                    "Private Sector/Self Employed",
                    "Private Sector/Self Employed",
                    "Private Sector/Self Employed",
                    "Government Sector",
                    "Private Sector/Self Employed",
                    "Private Sector/Self Employed",
                    "Private Sector/Self Employed",
                    "Private Sector/Self Employed",
                    "Private Sector/Self Employed",
                    "Private Sector/Self Employed",
                    "Government Sector",
                    "Private Sector/Self Employed",
                    "Government Sector",
                    "Private Sector/Self Employed",
                    "Government Sector",
                    "Private Sector/Self Employed",
                    "Government Sector",
                    "Private Sector/Self Employed",
                    "Private Sector/Self Employed",
                    "Private Sector/Self Employed",
                    "Government Sector",
                    "Private Sector/Self Employed",
                    "Private Sector/Self Employed",
                    "Private Sector/Self Employed",
                    "Government Sector",
                    "Private Sector/Self Employed",
                    "Private Sector/Self Employed",
                    "Private Sector/Self Employed",
                    "Private Sector/Self Employed",
                    "Government Sector",
                    "Government Sector",
                    "Private Sector/Self Employed",
                    "Private Sector/Self Employed",
                    "Private Sector/Self Employed",
                    "Private Sector/Self Employed",
                    "Private Sector/Self Employed",
                    "Private Sector/Self Employed",
                    "Private Sector/Self Employed",
                    "Government Sector",
                    "Private Sector/Self Employed",
                    "Private Sector/Self Employed",
                    "Private Sector/Self Employed",
                    "Private Sector/Self Employed",
                    "Private Sector/Self Employed",
                    "Private Sector/Self Employed",
                    "Private Sector/Self Employed",
                    "Private Sector/Self Employed",
                    "Government Sector",
                    "Private Sector/Self Employed",
                    "Government Sector",
                    "Private Sector/Self Employed",
                    "Private Sector/Self Employed",
                    "Private Sector/Self Employed",
                    "Private Sector/Self Employed",
                    "Private Sector/Self Employed",
                    "Private Sector/Self Employed",
                    "Private Sector/Self Employed",
                    "Private Sector/Self Employed",
                    "Private Sector/Self Employed",
                    "Government Sector",
                    "Private Sector/Self Employed",
                    "Private Sector/Self Employed",
                    "Private Sector/Self Employed",
                    "Private Sector/Self Employed",
                    "Private Sector/Self Employed",
                    "Government Sector",
                    "Government Sector",
                    "Private Sector/Self Employed",
                    "Private Sector/Self Employed",
                    "Private Sector/Self Employed",
                    "Government Sector",
                    "Government Sector",
                    "Private Sector/Self Employed",
                    "Private Sector/Self Employed",
                    "Private Sector/Self Employed",
                    "Private Sector/Self Employed",
                    "Private Sector/Self Employed",
                    "Government Sector",
                    "Government Sector",
                    "Government Sector",
                    "Government Sector",
                    "Private Sector/Self Employed",
                    "Private Sector/Self Employed",
                    "Government Sector",
                    "Private Sector/Self Employed",
                    "Government Sector",
                    "Government Sector",
                    "Private Sector/Self Employed",
                    "Private Sector/Self Employed",
                    "Private Sector/Self Employed",
                    "Private Sector/Self Employed",
                    "Private Sector/Self Employed",
                    "Private Sector/Self Employed",
                    "Private Sector/Self Employed",
                    "Government Sector",
                    "Government Sector",
                    "Private Sector/Self Employed",
                    "Private Sector/Self Employed",
                    "Private Sector/Self Employed",
                    "Private Sector/Self Employed",
                    "Private Sector/Self Employed",
                    "Private Sector/Self Employed",
                    "Private Sector/Self Employed",
                    "Private Sector/Self Employed",
                    "Private Sector/Self Employed",
                    "Private Sector/Self Employed",
                    "Private Sector/Self Employed",
                    "Private Sector/Self Employed",
                    "Government Sector",
                    "Private Sector/Self Employed",
                    "Private Sector/Self Employed",
                    "Private Sector/Self Employed",
                    "Government Sector",
                    "Private Sector/Self Employed",
                    "Private Sector/Self Employed",
                    "Private Sector/Self Employed",
                    "Private Sector/Self Employed",
                    "Private Sector/Self Employed",
                    "Private Sector/Self Employed",
                    "Private Sector/Self Employed",
                    "Government Sector",
                    "Private Sector/Self Employed",
                    "Private Sector/Self Employed",
                    "Private Sector/Self Employed",
                    "Government Sector",
                    "Private Sector/Self Employed",
                    "Private Sector/Self Employed",
                    "Government Sector",
                    "Private Sector/Self Employed",
                    "Government Sector",
                    "Private Sector/Self Employed",
                    "Private Sector/Self Employed",
                    "Government Sector",
                    "Private Sector/Self Employed",
                    "Private Sector/Self Employed",
                    "Private Sector/Self Employed",
                    "Private Sector/Self Employed",
                    "Private Sector/Self Employed",
                    "Private Sector/Self Employed",
                    "Government Sector",
                    "Private Sector/Self Employed",
                    "Private Sector/Self Employed",
                    "Private Sector/Self Employed",
                    "Government Sector",
                    "Private Sector/Self Employed",
                    "Private Sector/Self Employed",
                    "Private Sector/Self Employed",
                    "Government Sector",
                    "Private Sector/Self Employed",
                    "Private Sector/Self Employed",
                    "Private Sector/Self Employed",
                    "Private Sector/Self Employed",
                    "Government Sector",
                    "Private Sector/Self Employed",
                    "Private Sector/Self Employed",
                    "Private Sector/Self Employed",
                    "Private Sector/Self Employed",
                    "Private Sector/Self Employed",
                    "Private Sector/Self Employed",
                    "Government Sector",
                    "Private Sector/Self Employed",
                    "Private Sector/Self Employed",
                    "Private Sector/Self Employed",
                    "Private Sector/Self Employed",
                    "Government Sector",
                    "Private Sector/Self Employed",
                    "Private Sector/Self Employed",
                    "Private Sector/Self Employed",
                    "Government Sector",
                    "Private Sector/Self Employed",
                    "Private Sector/Self Employed",
                    "Private Sector/Self Employed",
                    "Private Sector/Self Employed",
                    "Private Sector/Self Employed",
                    "Government Sector",
                    "Private Sector/Self Employed",
                    "Government Sector",
                    "Private Sector/Self Employed",
                    "Private Sector/Self Employed",
                    "Private Sector/Self Employed",
                    "Private Sector/Self Employed",
                    "Private Sector/Self Employed",
                    "Private Sector/Self Employed",
                    "Government Sector",
                    "Private Sector/Self Employed",
                    "Private Sector/Self Employed",
                    "Private Sector/Self Employed",
                    "Private Sector/Self Employed",
                    "Government Sector",
                    "Government Sector",
                    "Government Sector",
                    "Private Sector/Self Employed",
                    "Private Sector/Self Employed",
                    "Private Sector/Self Employed",
                    "Private Sector/Self Employed",
                    "Private Sector/Self Employed",
                    "Private Sector/Self Employed",
                    "Private Sector/Self Employed",
                    "Private Sector/Self Employed",
                    "Private Sector/Self Employed",
                    "Private Sector/Self Employed",
                    "Private Sector/Self Employed",
                    "Private Sector/Self Employed",
                    "Private Sector/Self Employed",
                    "Private Sector/Self Employed",
                    "Private Sector/Self Employed",
                    "Private Sector/Self Employed",
                    "Private Sector/Self Employed",
                    "Private Sector/Self Employed",
                    "Private Sector/Self Employed",
                    "Government Sector",
                    "Private Sector/Self Employed",
                    "Private Sector/Self Employed",
                    "Private Sector/Self Employed",
                    "Private Sector/Self Employed",
                    "Government Sector",
                    "Government Sector",
                    "Private Sector/Self Employed",
                    "Private Sector/Self Employed",
                    "Private Sector/Self Employed",
                    "Government Sector",
                    "Private Sector/Self Employed",
                    "Private Sector/Self Employed",
                    "Private Sector/Self Employed",
                    "Private Sector/Self Employed",
                    "Private Sector/Self Employed",
                    "Private Sector/Self Employed",
                    "Private Sector/Self Employed",
                    "Private Sector/Self Employed",
                    "Private Sector/Self Employed",
                    "Government Sector",
                    "Private Sector/Self Employed",
                    "Private Sector/Self Employed",
                    "Private Sector/Self Employed",
                    "Private Sector/Self Employed",
                    "Private Sector/Self Employed",
                    "Private Sector/Self Employed",
                    "Private Sector/Self Employed",
                    "Private Sector/Self Employed",
                    "Private Sector/Self Employed",
                    "Government Sector",
                    "Private Sector/Self Employed",
                    "Private Sector/Self Employed",
                    "Private Sector/Self Employed",
                    "Private Sector/Self Employed",
                    "Government Sector",
                    "Private Sector/Self Employed",
                    "Private Sector/Self Employed",
                    "Private Sector/Self Employed",
                    "Private Sector/Self Employed",
                    "Private Sector/Self Employed",
                    "Private Sector/Self Employed",
                    "Private Sector/Self Employed",
                    "Private Sector/Self Employed",
                    "Private Sector/Self Employed",
                    "Private Sector/Self Employed",
                    "Private Sector/Self Employed",
                    "Government Sector",
                    "Private Sector/Self Employed",
                    "Private Sector/Self Employed",
                    "Private Sector/Self Employed",
                    "Government Sector",
                    "Private Sector/Self Employed",
                    "Private Sector/Self Employed",
                    "Private Sector/Self Employed",
                    "Private Sector/Self Employed",
                    "Private Sector/Self Employed",
                    "Private Sector/Self Employed",
                    "Government Sector",
                    "Private Sector/Self Employed",
                    "Private Sector/Self Employed",
                    "Private Sector/Self Employed",
                    "Private Sector/Self Employed",
                    "Private Sector/Self Employed",
                    "Private Sector/Self Employed",
                    "Private Sector/Self Employed",
                    "Government Sector",
                    "Private Sector/Self Employed",
                    "Government Sector",
                    "Private Sector/Self Employed",
                    "Private Sector/Self Employed",
                    "Private Sector/Self Employed",
                    "Private Sector/Self Employed",
                    "Private Sector/Self Employed",
                    "Private Sector/Self Employed",
                    "Private Sector/Self Employed",
                    "Government Sector",
                    "Private Sector/Self Employed",
                    "Private Sector/Self Employed",
                    "Government Sector",
                    "Private Sector/Self Employed",
                    "Government Sector",
                    "Private Sector/Self Employed",
                    "Private Sector/Self Employed",
                    "Government Sector",
                    "Private Sector/Self Employed",
                    "Private Sector/Self Employed",
                    "Private Sector/Self Employed",
                    "Government Sector",
                    "Private Sector/Self Employed",
                    "Private Sector/Self Employed",
                    "Private Sector/Self Employed",
                    "Private Sector/Self Employed",
                    "Private Sector/Self Employed",
                    "Government Sector",
                    "Private Sector/Self Employed",
                    "Private Sector/Self Employed",
                    "Government Sector",
                    "Private Sector/Self Employed",
                    "Private Sector/Self Employed",
                    "Government Sector",
                    "Government Sector",
                    "Private Sector/Self Employed",
                    "Private Sector/Self Employed",
                    "Private Sector/Self Employed",
                    "Private Sector/Self Employed",
                    "Private Sector/Self Employed",
                    "Private Sector/Self Employed",
                    "Private Sector/Self Employed",
                    "Private Sector/Self Employed",
                    "Government Sector",
                    "Private Sector/Self Employed",
                    "Private Sector/Self Employed",
                    "Private Sector/Self Employed",
                    "Private Sector/Self Employed",
                    "Government Sector",
                    "Private Sector/Self Employed",
                    "Private Sector/Self Employed",
                    "Government Sector",
                    "Government Sector",
                    "Government Sector",
                    "Government Sector",
                    "Government Sector",
                    "Private Sector/Self Employed",
                    "Private Sector/Self Employed",
                    "Private Sector/Self Employed",
                    "Private Sector/Self Employed",
                    "Private Sector/Self Employed",
                    "Private Sector/Self Employed",
                    "Government Sector",
                    "Private Sector/Self Employed",
                    "Private Sector/Self Employed"
                  ],
                  "xaxis": "x",
                  "yaxis": "y"
                }
              ],
              "layout": {
                "barmode": "relative",
                "legend": {
                  "title": {
                    "text": "TravelInsurance"
                  },
                  "tracegroupgap": 0
                },
                "template": {
                  "data": {
                    "bar": [
                      {
                        "error_x": {
                          "color": "#2a3f5f"
                        },
                        "error_y": {
                          "color": "#2a3f5f"
                        },
                        "marker": {
                          "line": {
                            "color": "#E5ECF6",
                            "width": 0.5
                          },
                          "pattern": {
                            "fillmode": "overlay",
                            "size": 10,
                            "solidity": 0.2
                          }
                        },
                        "type": "bar"
                      }
                    ],
                    "barpolar": [
                      {
                        "marker": {
                          "line": {
                            "color": "#E5ECF6",
                            "width": 0.5
                          },
                          "pattern": {
                            "fillmode": "overlay",
                            "size": 10,
                            "solidity": 0.2
                          }
                        },
                        "type": "barpolar"
                      }
                    ],
                    "carpet": [
                      {
                        "aaxis": {
                          "endlinecolor": "#2a3f5f",
                          "gridcolor": "white",
                          "linecolor": "white",
                          "minorgridcolor": "white",
                          "startlinecolor": "#2a3f5f"
                        },
                        "baxis": {
                          "endlinecolor": "#2a3f5f",
                          "gridcolor": "white",
                          "linecolor": "white",
                          "minorgridcolor": "white",
                          "startlinecolor": "#2a3f5f"
                        },
                        "type": "carpet"
                      }
                    ],
                    "choropleth": [
                      {
                        "colorbar": {
                          "outlinewidth": 0,
                          "ticks": ""
                        },
                        "type": "choropleth"
                      }
                    ],
                    "contour": [
                      {
                        "colorbar": {
                          "outlinewidth": 0,
                          "ticks": ""
                        },
                        "colorscale": [
                          [
                            0,
                            "#0d0887"
                          ],
                          [
                            0.1111111111111111,
                            "#46039f"
                          ],
                          [
                            0.2222222222222222,
                            "#7201a8"
                          ],
                          [
                            0.3333333333333333,
                            "#9c179e"
                          ],
                          [
                            0.4444444444444444,
                            "#bd3786"
                          ],
                          [
                            0.5555555555555556,
                            "#d8576b"
                          ],
                          [
                            0.6666666666666666,
                            "#ed7953"
                          ],
                          [
                            0.7777777777777778,
                            "#fb9f3a"
                          ],
                          [
                            0.8888888888888888,
                            "#fdca26"
                          ],
                          [
                            1,
                            "#f0f921"
                          ]
                        ],
                        "type": "contour"
                      }
                    ],
                    "contourcarpet": [
                      {
                        "colorbar": {
                          "outlinewidth": 0,
                          "ticks": ""
                        },
                        "type": "contourcarpet"
                      }
                    ],
                    "heatmap": [
                      {
                        "colorbar": {
                          "outlinewidth": 0,
                          "ticks": ""
                        },
                        "colorscale": [
                          [
                            0,
                            "#0d0887"
                          ],
                          [
                            0.1111111111111111,
                            "#46039f"
                          ],
                          [
                            0.2222222222222222,
                            "#7201a8"
                          ],
                          [
                            0.3333333333333333,
                            "#9c179e"
                          ],
                          [
                            0.4444444444444444,
                            "#bd3786"
                          ],
                          [
                            0.5555555555555556,
                            "#d8576b"
                          ],
                          [
                            0.6666666666666666,
                            "#ed7953"
                          ],
                          [
                            0.7777777777777778,
                            "#fb9f3a"
                          ],
                          [
                            0.8888888888888888,
                            "#fdca26"
                          ],
                          [
                            1,
                            "#f0f921"
                          ]
                        ],
                        "type": "heatmap"
                      }
                    ],
                    "histogram": [
                      {
                        "marker": {
                          "pattern": {
                            "fillmode": "overlay",
                            "size": 10,
                            "solidity": 0.2
                          }
                        },
                        "type": "histogram"
                      }
                    ],
                    "histogram2d": [
                      {
                        "colorbar": {
                          "outlinewidth": 0,
                          "ticks": ""
                        },
                        "colorscale": [
                          [
                            0,
                            "#0d0887"
                          ],
                          [
                            0.1111111111111111,
                            "#46039f"
                          ],
                          [
                            0.2222222222222222,
                            "#7201a8"
                          ],
                          [
                            0.3333333333333333,
                            "#9c179e"
                          ],
                          [
                            0.4444444444444444,
                            "#bd3786"
                          ],
                          [
                            0.5555555555555556,
                            "#d8576b"
                          ],
                          [
                            0.6666666666666666,
                            "#ed7953"
                          ],
                          [
                            0.7777777777777778,
                            "#fb9f3a"
                          ],
                          [
                            0.8888888888888888,
                            "#fdca26"
                          ],
                          [
                            1,
                            "#f0f921"
                          ]
                        ],
                        "type": "histogram2d"
                      }
                    ],
                    "histogram2dcontour": [
                      {
                        "colorbar": {
                          "outlinewidth": 0,
                          "ticks": ""
                        },
                        "colorscale": [
                          [
                            0,
                            "#0d0887"
                          ],
                          [
                            0.1111111111111111,
                            "#46039f"
                          ],
                          [
                            0.2222222222222222,
                            "#7201a8"
                          ],
                          [
                            0.3333333333333333,
                            "#9c179e"
                          ],
                          [
                            0.4444444444444444,
                            "#bd3786"
                          ],
                          [
                            0.5555555555555556,
                            "#d8576b"
                          ],
                          [
                            0.6666666666666666,
                            "#ed7953"
                          ],
                          [
                            0.7777777777777778,
                            "#fb9f3a"
                          ],
                          [
                            0.8888888888888888,
                            "#fdca26"
                          ],
                          [
                            1,
                            "#f0f921"
                          ]
                        ],
                        "type": "histogram2dcontour"
                      }
                    ],
                    "mesh3d": [
                      {
                        "colorbar": {
                          "outlinewidth": 0,
                          "ticks": ""
                        },
                        "type": "mesh3d"
                      }
                    ],
                    "parcoords": [
                      {
                        "line": {
                          "colorbar": {
                            "outlinewidth": 0,
                            "ticks": ""
                          }
                        },
                        "type": "parcoords"
                      }
                    ],
                    "pie": [
                      {
                        "automargin": true,
                        "type": "pie"
                      }
                    ],
                    "scatter": [
                      {
                        "fillpattern": {
                          "fillmode": "overlay",
                          "size": 10,
                          "solidity": 0.2
                        },
                        "type": "scatter"
                      }
                    ],
                    "scatter3d": [
                      {
                        "line": {
                          "colorbar": {
                            "outlinewidth": 0,
                            "ticks": ""
                          }
                        },
                        "marker": {
                          "colorbar": {
                            "outlinewidth": 0,
                            "ticks": ""
                          }
                        },
                        "type": "scatter3d"
                      }
                    ],
                    "scattercarpet": [
                      {
                        "marker": {
                          "colorbar": {
                            "outlinewidth": 0,
                            "ticks": ""
                          }
                        },
                        "type": "scattercarpet"
                      }
                    ],
                    "scattergeo": [
                      {
                        "marker": {
                          "colorbar": {
                            "outlinewidth": 0,
                            "ticks": ""
                          }
                        },
                        "type": "scattergeo"
                      }
                    ],
                    "scattergl": [
                      {
                        "marker": {
                          "colorbar": {
                            "outlinewidth": 0,
                            "ticks": ""
                          }
                        },
                        "type": "scattergl"
                      }
                    ],
                    "scattermap": [
                      {
                        "marker": {
                          "colorbar": {
                            "outlinewidth": 0,
                            "ticks": ""
                          }
                        },
                        "type": "scattermap"
                      }
                    ],
                    "scattermapbox": [
                      {
                        "marker": {
                          "colorbar": {
                            "outlinewidth": 0,
                            "ticks": ""
                          }
                        },
                        "type": "scattermapbox"
                      }
                    ],
                    "scatterpolar": [
                      {
                        "marker": {
                          "colorbar": {
                            "outlinewidth": 0,
                            "ticks": ""
                          }
                        },
                        "type": "scatterpolar"
                      }
                    ],
                    "scatterpolargl": [
                      {
                        "marker": {
                          "colorbar": {
                            "outlinewidth": 0,
                            "ticks": ""
                          }
                        },
                        "type": "scatterpolargl"
                      }
                    ],
                    "scatterternary": [
                      {
                        "marker": {
                          "colorbar": {
                            "outlinewidth": 0,
                            "ticks": ""
                          }
                        },
                        "type": "scatterternary"
                      }
                    ],
                    "surface": [
                      {
                        "colorbar": {
                          "outlinewidth": 0,
                          "ticks": ""
                        },
                        "colorscale": [
                          [
                            0,
                            "#0d0887"
                          ],
                          [
                            0.1111111111111111,
                            "#46039f"
                          ],
                          [
                            0.2222222222222222,
                            "#7201a8"
                          ],
                          [
                            0.3333333333333333,
                            "#9c179e"
                          ],
                          [
                            0.4444444444444444,
                            "#bd3786"
                          ],
                          [
                            0.5555555555555556,
                            "#d8576b"
                          ],
                          [
                            0.6666666666666666,
                            "#ed7953"
                          ],
                          [
                            0.7777777777777778,
                            "#fb9f3a"
                          ],
                          [
                            0.8888888888888888,
                            "#fdca26"
                          ],
                          [
                            1,
                            "#f0f921"
                          ]
                        ],
                        "type": "surface"
                      }
                    ],
                    "table": [
                      {
                        "cells": {
                          "fill": {
                            "color": "#EBF0F8"
                          },
                          "line": {
                            "color": "white"
                          }
                        },
                        "header": {
                          "fill": {
                            "color": "#C8D4E3"
                          },
                          "line": {
                            "color": "white"
                          }
                        },
                        "type": "table"
                      }
                    ]
                  },
                  "layout": {
                    "annotationdefaults": {
                      "arrowcolor": "#2a3f5f",
                      "arrowhead": 0,
                      "arrowwidth": 1
                    },
                    "autotypenumbers": "strict",
                    "coloraxis": {
                      "colorbar": {
                        "outlinewidth": 0,
                        "ticks": ""
                      }
                    },
                    "colorscale": {
                      "diverging": [
                        [
                          0,
                          "#8e0152"
                        ],
                        [
                          0.1,
                          "#c51b7d"
                        ],
                        [
                          0.2,
                          "#de77ae"
                        ],
                        [
                          0.3,
                          "#f1b6da"
                        ],
                        [
                          0.4,
                          "#fde0ef"
                        ],
                        [
                          0.5,
                          "#f7f7f7"
                        ],
                        [
                          0.6,
                          "#e6f5d0"
                        ],
                        [
                          0.7,
                          "#b8e186"
                        ],
                        [
                          0.8,
                          "#7fbc41"
                        ],
                        [
                          0.9,
                          "#4d9221"
                        ],
                        [
                          1,
                          "#276419"
                        ]
                      ],
                      "sequential": [
                        [
                          0,
                          "#0d0887"
                        ],
                        [
                          0.1111111111111111,
                          "#46039f"
                        ],
                        [
                          0.2222222222222222,
                          "#7201a8"
                        ],
                        [
                          0.3333333333333333,
                          "#9c179e"
                        ],
                        [
                          0.4444444444444444,
                          "#bd3786"
                        ],
                        [
                          0.5555555555555556,
                          "#d8576b"
                        ],
                        [
                          0.6666666666666666,
                          "#ed7953"
                        ],
                        [
                          0.7777777777777778,
                          "#fb9f3a"
                        ],
                        [
                          0.8888888888888888,
                          "#fdca26"
                        ],
                        [
                          1,
                          "#f0f921"
                        ]
                      ],
                      "sequentialminus": [
                        [
                          0,
                          "#0d0887"
                        ],
                        [
                          0.1111111111111111,
                          "#46039f"
                        ],
                        [
                          0.2222222222222222,
                          "#7201a8"
                        ],
                        [
                          0.3333333333333333,
                          "#9c179e"
                        ],
                        [
                          0.4444444444444444,
                          "#bd3786"
                        ],
                        [
                          0.5555555555555556,
                          "#d8576b"
                        ],
                        [
                          0.6666666666666666,
                          "#ed7953"
                        ],
                        [
                          0.7777777777777778,
                          "#fb9f3a"
                        ],
                        [
                          0.8888888888888888,
                          "#fdca26"
                        ],
                        [
                          1,
                          "#f0f921"
                        ]
                      ]
                    },
                    "colorway": [
                      "#636efa",
                      "#EF553B",
                      "#00cc96",
                      "#ab63fa",
                      "#FFA15A",
                      "#19d3f3",
                      "#FF6692",
                      "#B6E880",
                      "#FF97FF",
                      "#FECB52"
                    ],
                    "font": {
                      "color": "#2a3f5f"
                    },
                    "geo": {
                      "bgcolor": "white",
                      "lakecolor": "white",
                      "landcolor": "#E5ECF6",
                      "showlakes": true,
                      "showland": true,
                      "subunitcolor": "white"
                    },
                    "hoverlabel": {
                      "align": "left"
                    },
                    "hovermode": "closest",
                    "mapbox": {
                      "style": "light"
                    },
                    "paper_bgcolor": "white",
                    "plot_bgcolor": "#E5ECF6",
                    "polar": {
                      "angularaxis": {
                        "gridcolor": "white",
                        "linecolor": "white",
                        "ticks": ""
                      },
                      "bgcolor": "#E5ECF6",
                      "radialaxis": {
                        "gridcolor": "white",
                        "linecolor": "white",
                        "ticks": ""
                      }
                    },
                    "scene": {
                      "xaxis": {
                        "backgroundcolor": "#E5ECF6",
                        "gridcolor": "white",
                        "gridwidth": 2,
                        "linecolor": "white",
                        "showbackground": true,
                        "ticks": "",
                        "zerolinecolor": "white"
                      },
                      "yaxis": {
                        "backgroundcolor": "#E5ECF6",
                        "gridcolor": "white",
                        "gridwidth": 2,
                        "linecolor": "white",
                        "showbackground": true,
                        "ticks": "",
                        "zerolinecolor": "white"
                      },
                      "zaxis": {
                        "backgroundcolor": "#E5ECF6",
                        "gridcolor": "white",
                        "gridwidth": 2,
                        "linecolor": "white",
                        "showbackground": true,
                        "ticks": "",
                        "zerolinecolor": "white"
                      }
                    },
                    "shapedefaults": {
                      "line": {
                        "color": "#2a3f5f"
                      }
                    },
                    "ternary": {
                      "aaxis": {
                        "gridcolor": "white",
                        "linecolor": "white",
                        "ticks": ""
                      },
                      "baxis": {
                        "gridcolor": "white",
                        "linecolor": "white",
                        "ticks": ""
                      },
                      "bgcolor": "#E5ECF6",
                      "caxis": {
                        "gridcolor": "white",
                        "linecolor": "white",
                        "ticks": ""
                      }
                    },
                    "title": {
                      "x": 0.05
                    },
                    "xaxis": {
                      "automargin": true,
                      "gridcolor": "white",
                      "linecolor": "white",
                      "ticks": "",
                      "title": {
                        "standoff": 15
                      },
                      "zerolinecolor": "white",
                      "zerolinewidth": 2
                    },
                    "yaxis": {
                      "automargin": true,
                      "gridcolor": "white",
                      "linecolor": "white",
                      "ticks": "",
                      "title": {
                        "standoff": 15
                      },
                      "zerolinecolor": "white",
                      "zerolinewidth": 2
                    }
                  }
                },
                "title": {
                  "text": "Factors Affecting Purchase of Travel Insurance: Employment Type"
                },
                "xaxis": {
                  "anchor": "y",
                  "domain": [
                    0,
                    1
                  ],
                  "title": {
                    "text": "Employment Type"
                  }
                },
                "yaxis": {
                  "anchor": "x",
                  "domain": [
                    0,
                    1
                  ],
                  "title": {
                    "text": "count"
                  }
                }
              }
            }
          },
          "metadata": {},
          "output_type": "display_data"
        }
      ],
      "source": [
        "figure = px.histogram(df, x = \"Employment Type\",color = \"TravelInsurance\",title = \"Factors Affecting Purchase of Travel Insurance: Employment Type\")\n",
        "figure.show()"
      ]
    },
    {
      "cell_type": "markdown",
      "metadata": {
        "id": "DPc4WwOpM8za"
      },
      "source": [
        "According to the visualization above, people working in the private sector or who are self-employed are more likely to have an insurance policy.\n",
        "\n",
        " Now, let's examine how a person's annual income influences their decision to purchase an insurance policy."
      ]
    },
    {
      "cell_type": "code",
      "execution_count": 140,
      "metadata": {
        "colab": {
          "base_uri": "https://localhost:8080/",
          "height": 542
        },
        "id": "opBEC7VNHFxt",
        "outputId": "d76a3329-88d1-4e32-80b4-8692db11dcad"
      },
      "outputs": [
        {
          "data": {
            "application/vnd.plotly.v1+json": {
              "config": {
                "plotlyServerURL": "https://plot.ly"
              },
              "data": [
                {
                  "bingroup": "x",
                  "hovertemplate": "TravelInsurance=Not Purchased<br>AnnualIncome=%{x}<br>count=%{y}<extra></extra>",
                  "legendgroup": "Not Purchased",
                  "marker": {
                    "color": "#636efa",
                    "pattern": {
                      "shape": ""
                    }
                  },
                  "name": "Not Purchased",
                  "orientation": "v",
                  "showlegend": true,
                  "type": "histogram",
                  "x": {
                    "bdata": "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",
                    "dtype": "i4"
                  },
                  "xaxis": "x",
                  "yaxis": "y"
                },
                {
                  "bingroup": "x",
                  "hovertemplate": "TravelInsurance=Purchased<br>AnnualIncome=%{x}<br>count=%{y}<extra></extra>",
                  "legendgroup": "Purchased",
                  "marker": {
                    "color": "#EF553B",
                    "pattern": {
                      "shape": ""
                    }
                  },
                  "name": "Purchased",
                  "orientation": "v",
                  "showlegend": true,
                  "type": "histogram",
                  "x": {
                    "bdata": "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",
                    "dtype": "i4"
                  },
                  "xaxis": "x",
                  "yaxis": "y"
                }
              ],
              "layout": {
                "barmode": "relative",
                "legend": {
                  "title": {
                    "text": "TravelInsurance"
                  },
                  "tracegroupgap": 0
                },
                "template": {
                  "data": {
                    "bar": [
                      {
                        "error_x": {
                          "color": "#2a3f5f"
                        },
                        "error_y": {
                          "color": "#2a3f5f"
                        },
                        "marker": {
                          "line": {
                            "color": "#E5ECF6",
                            "width": 0.5
                          },
                          "pattern": {
                            "fillmode": "overlay",
                            "size": 10,
                            "solidity": 0.2
                          }
                        },
                        "type": "bar"
                      }
                    ],
                    "barpolar": [
                      {
                        "marker": {
                          "line": {
                            "color": "#E5ECF6",
                            "width": 0.5
                          },
                          "pattern": {
                            "fillmode": "overlay",
                            "size": 10,
                            "solidity": 0.2
                          }
                        },
                        "type": "barpolar"
                      }
                    ],
                    "carpet": [
                      {
                        "aaxis": {
                          "endlinecolor": "#2a3f5f",
                          "gridcolor": "white",
                          "linecolor": "white",
                          "minorgridcolor": "white",
                          "startlinecolor": "#2a3f5f"
                        },
                        "baxis": {
                          "endlinecolor": "#2a3f5f",
                          "gridcolor": "white",
                          "linecolor": "white",
                          "minorgridcolor": "white",
                          "startlinecolor": "#2a3f5f"
                        },
                        "type": "carpet"
                      }
                    ],
                    "choropleth": [
                      {
                        "colorbar": {
                          "outlinewidth": 0,
                          "ticks": ""
                        },
                        "type": "choropleth"
                      }
                    ],
                    "contour": [
                      {
                        "colorbar": {
                          "outlinewidth": 0,
                          "ticks": ""
                        },
                        "colorscale": [
                          [
                            0,
                            "#0d0887"
                          ],
                          [
                            0.1111111111111111,
                            "#46039f"
                          ],
                          [
                            0.2222222222222222,
                            "#7201a8"
                          ],
                          [
                            0.3333333333333333,
                            "#9c179e"
                          ],
                          [
                            0.4444444444444444,
                            "#bd3786"
                          ],
                          [
                            0.5555555555555556,
                            "#d8576b"
                          ],
                          [
                            0.6666666666666666,
                            "#ed7953"
                          ],
                          [
                            0.7777777777777778,
                            "#fb9f3a"
                          ],
                          [
                            0.8888888888888888,
                            "#fdca26"
                          ],
                          [
                            1,
                            "#f0f921"
                          ]
                        ],
                        "type": "contour"
                      }
                    ],
                    "contourcarpet": [
                      {
                        "colorbar": {
                          "outlinewidth": 0,
                          "ticks": ""
                        },
                        "type": "contourcarpet"
                      }
                    ],
                    "heatmap": [
                      {
                        "colorbar": {
                          "outlinewidth": 0,
                          "ticks": ""
                        },
                        "colorscale": [
                          [
                            0,
                            "#0d0887"
                          ],
                          [
                            0.1111111111111111,
                            "#46039f"
                          ],
                          [
                            0.2222222222222222,
                            "#7201a8"
                          ],
                          [
                            0.3333333333333333,
                            "#9c179e"
                          ],
                          [
                            0.4444444444444444,
                            "#bd3786"
                          ],
                          [
                            0.5555555555555556,
                            "#d8576b"
                          ],
                          [
                            0.6666666666666666,
                            "#ed7953"
                          ],
                          [
                            0.7777777777777778,
                            "#fb9f3a"
                          ],
                          [
                            0.8888888888888888,
                            "#fdca26"
                          ],
                          [
                            1,
                            "#f0f921"
                          ]
                        ],
                        "type": "heatmap"
                      }
                    ],
                    "histogram": [
                      {
                        "marker": {
                          "pattern": {
                            "fillmode": "overlay",
                            "size": 10,
                            "solidity": 0.2
                          }
                        },
                        "type": "histogram"
                      }
                    ],
                    "histogram2d": [
                      {
                        "colorbar": {
                          "outlinewidth": 0,
                          "ticks": ""
                        },
                        "colorscale": [
                          [
                            0,
                            "#0d0887"
                          ],
                          [
                            0.1111111111111111,
                            "#46039f"
                          ],
                          [
                            0.2222222222222222,
                            "#7201a8"
                          ],
                          [
                            0.3333333333333333,
                            "#9c179e"
                          ],
                          [
                            0.4444444444444444,
                            "#bd3786"
                          ],
                          [
                            0.5555555555555556,
                            "#d8576b"
                          ],
                          [
                            0.6666666666666666,
                            "#ed7953"
                          ],
                          [
                            0.7777777777777778,
                            "#fb9f3a"
                          ],
                          [
                            0.8888888888888888,
                            "#fdca26"
                          ],
                          [
                            1,
                            "#f0f921"
                          ]
                        ],
                        "type": "histogram2d"
                      }
                    ],
                    "histogram2dcontour": [
                      {
                        "colorbar": {
                          "outlinewidth": 0,
                          "ticks": ""
                        },
                        "colorscale": [
                          [
                            0,
                            "#0d0887"
                          ],
                          [
                            0.1111111111111111,
                            "#46039f"
                          ],
                          [
                            0.2222222222222222,
                            "#7201a8"
                          ],
                          [
                            0.3333333333333333,
                            "#9c179e"
                          ],
                          [
                            0.4444444444444444,
                            "#bd3786"
                          ],
                          [
                            0.5555555555555556,
                            "#d8576b"
                          ],
                          [
                            0.6666666666666666,
                            "#ed7953"
                          ],
                          [
                            0.7777777777777778,
                            "#fb9f3a"
                          ],
                          [
                            0.8888888888888888,
                            "#fdca26"
                          ],
                          [
                            1,
                            "#f0f921"
                          ]
                        ],
                        "type": "histogram2dcontour"
                      }
                    ],
                    "mesh3d": [
                      {
                        "colorbar": {
                          "outlinewidth": 0,
                          "ticks": ""
                        },
                        "type": "mesh3d"
                      }
                    ],
                    "parcoords": [
                      {
                        "line": {
                          "colorbar": {
                            "outlinewidth": 0,
                            "ticks": ""
                          }
                        },
                        "type": "parcoords"
                      }
                    ],
                    "pie": [
                      {
                        "automargin": true,
                        "type": "pie"
                      }
                    ],
                    "scatter": [
                      {
                        "fillpattern": {
                          "fillmode": "overlay",
                          "size": 10,
                          "solidity": 0.2
                        },
                        "type": "scatter"
                      }
                    ],
                    "scatter3d": [
                      {
                        "line": {
                          "colorbar": {
                            "outlinewidth": 0,
                            "ticks": ""
                          }
                        },
                        "marker": {
                          "colorbar": {
                            "outlinewidth": 0,
                            "ticks": ""
                          }
                        },
                        "type": "scatter3d"
                      }
                    ],
                    "scattercarpet": [
                      {
                        "marker": {
                          "colorbar": {
                            "outlinewidth": 0,
                            "ticks": ""
                          }
                        },
                        "type": "scattercarpet"
                      }
                    ],
                    "scattergeo": [
                      {
                        "marker": {
                          "colorbar": {
                            "outlinewidth": 0,
                            "ticks": ""
                          }
                        },
                        "type": "scattergeo"
                      }
                    ],
                    "scattergl": [
                      {
                        "marker": {
                          "colorbar": {
                            "outlinewidth": 0,
                            "ticks": ""
                          }
                        },
                        "type": "scattergl"
                      }
                    ],
                    "scattermap": [
                      {
                        "marker": {
                          "colorbar": {
                            "outlinewidth": 0,
                            "ticks": ""
                          }
                        },
                        "type": "scattermap"
                      }
                    ],
                    "scattermapbox": [
                      {
                        "marker": {
                          "colorbar": {
                            "outlinewidth": 0,
                            "ticks": ""
                          }
                        },
                        "type": "scattermapbox"
                      }
                    ],
                    "scatterpolar": [
                      {
                        "marker": {
                          "colorbar": {
                            "outlinewidth": 0,
                            "ticks": ""
                          }
                        },
                        "type": "scatterpolar"
                      }
                    ],
                    "scatterpolargl": [
                      {
                        "marker": {
                          "colorbar": {
                            "outlinewidth": 0,
                            "ticks": ""
                          }
                        },
                        "type": "scatterpolargl"
                      }
                    ],
                    "scatterternary": [
                      {
                        "marker": {
                          "colorbar": {
                            "outlinewidth": 0,
                            "ticks": ""
                          }
                        },
                        "type": "scatterternary"
                      }
                    ],
                    "surface": [
                      {
                        "colorbar": {
                          "outlinewidth": 0,
                          "ticks": ""
                        },
                        "colorscale": [
                          [
                            0,
                            "#0d0887"
                          ],
                          [
                            0.1111111111111111,
                            "#46039f"
                          ],
                          [
                            0.2222222222222222,
                            "#7201a8"
                          ],
                          [
                            0.3333333333333333,
                            "#9c179e"
                          ],
                          [
                            0.4444444444444444,
                            "#bd3786"
                          ],
                          [
                            0.5555555555555556,
                            "#d8576b"
                          ],
                          [
                            0.6666666666666666,
                            "#ed7953"
                          ],
                          [
                            0.7777777777777778,
                            "#fb9f3a"
                          ],
                          [
                            0.8888888888888888,
                            "#fdca26"
                          ],
                          [
                            1,
                            "#f0f921"
                          ]
                        ],
                        "type": "surface"
                      }
                    ],
                    "table": [
                      {
                        "cells": {
                          "fill": {
                            "color": "#EBF0F8"
                          },
                          "line": {
                            "color": "white"
                          }
                        },
                        "header": {
                          "fill": {
                            "color": "#C8D4E3"
                          },
                          "line": {
                            "color": "white"
                          }
                        },
                        "type": "table"
                      }
                    ]
                  },
                  "layout": {
                    "annotationdefaults": {
                      "arrowcolor": "#2a3f5f",
                      "arrowhead": 0,
                      "arrowwidth": 1
                    },
                    "autotypenumbers": "strict",
                    "coloraxis": {
                      "colorbar": {
                        "outlinewidth": 0,
                        "ticks": ""
                      }
                    },
                    "colorscale": {
                      "diverging": [
                        [
                          0,
                          "#8e0152"
                        ],
                        [
                          0.1,
                          "#c51b7d"
                        ],
                        [
                          0.2,
                          "#de77ae"
                        ],
                        [
                          0.3,
                          "#f1b6da"
                        ],
                        [
                          0.4,
                          "#fde0ef"
                        ],
                        [
                          0.5,
                          "#f7f7f7"
                        ],
                        [
                          0.6,
                          "#e6f5d0"
                        ],
                        [
                          0.7,
                          "#b8e186"
                        ],
                        [
                          0.8,
                          "#7fbc41"
                        ],
                        [
                          0.9,
                          "#4d9221"
                        ],
                        [
                          1,
                          "#276419"
                        ]
                      ],
                      "sequential": [
                        [
                          0,
                          "#0d0887"
                        ],
                        [
                          0.1111111111111111,
                          "#46039f"
                        ],
                        [
                          0.2222222222222222,
                          "#7201a8"
                        ],
                        [
                          0.3333333333333333,
                          "#9c179e"
                        ],
                        [
                          0.4444444444444444,
                          "#bd3786"
                        ],
                        [
                          0.5555555555555556,
                          "#d8576b"
                        ],
                        [
                          0.6666666666666666,
                          "#ed7953"
                        ],
                        [
                          0.7777777777777778,
                          "#fb9f3a"
                        ],
                        [
                          0.8888888888888888,
                          "#fdca26"
                        ],
                        [
                          1,
                          "#f0f921"
                        ]
                      ],
                      "sequentialminus": [
                        [
                          0,
                          "#0d0887"
                        ],
                        [
                          0.1111111111111111,
                          "#46039f"
                        ],
                        [
                          0.2222222222222222,
                          "#7201a8"
                        ],
                        [
                          0.3333333333333333,
                          "#9c179e"
                        ],
                        [
                          0.4444444444444444,
                          "#bd3786"
                        ],
                        [
                          0.5555555555555556,
                          "#d8576b"
                        ],
                        [
                          0.6666666666666666,
                          "#ed7953"
                        ],
                        [
                          0.7777777777777778,
                          "#fb9f3a"
                        ],
                        [
                          0.8888888888888888,
                          "#fdca26"
                        ],
                        [
                          1,
                          "#f0f921"
                        ]
                      ]
                    },
                    "colorway": [
                      "#636efa",
                      "#EF553B",
                      "#00cc96",
                      "#ab63fa",
                      "#FFA15A",
                      "#19d3f3",
                      "#FF6692",
                      "#B6E880",
                      "#FF97FF",
                      "#FECB52"
                    ],
                    "font": {
                      "color": "#2a3f5f"
                    },
                    "geo": {
                      "bgcolor": "white",
                      "lakecolor": "white",
                      "landcolor": "#E5ECF6",
                      "showlakes": true,
                      "showland": true,
                      "subunitcolor": "white"
                    },
                    "hoverlabel": {
                      "align": "left"
                    },
                    "hovermode": "closest",
                    "mapbox": {
                      "style": "light"
                    },
                    "paper_bgcolor": "white",
                    "plot_bgcolor": "#E5ECF6",
                    "polar": {
                      "angularaxis": {
                        "gridcolor": "white",
                        "linecolor": "white",
                        "ticks": ""
                      },
                      "bgcolor": "#E5ECF6",
                      "radialaxis": {
                        "gridcolor": "white",
                        "linecolor": "white",
                        "ticks": ""
                      }
                    },
                    "scene": {
                      "xaxis": {
                        "backgroundcolor": "#E5ECF6",
                        "gridcolor": "white",
                        "gridwidth": 2,
                        "linecolor": "white",
                        "showbackground": true,
                        "ticks": "",
                        "zerolinecolor": "white"
                      },
                      "yaxis": {
                        "backgroundcolor": "#E5ECF6",
                        "gridcolor": "white",
                        "gridwidth": 2,
                        "linecolor": "white",
                        "showbackground": true,
                        "ticks": "",
                        "zerolinecolor": "white"
                      },
                      "zaxis": {
                        "backgroundcolor": "#E5ECF6",
                        "gridcolor": "white",
                        "gridwidth": 2,
                        "linecolor": "white",
                        "showbackground": true,
                        "ticks": "",
                        "zerolinecolor": "white"
                      }
                    },
                    "shapedefaults": {
                      "line": {
                        "color": "#2a3f5f"
                      }
                    },
                    "ternary": {
                      "aaxis": {
                        "gridcolor": "white",
                        "linecolor": "white",
                        "ticks": ""
                      },
                      "baxis": {
                        "gridcolor": "white",
                        "linecolor": "white",
                        "ticks": ""
                      },
                      "bgcolor": "#E5ECF6",
                      "caxis": {
                        "gridcolor": "white",
                        "linecolor": "white",
                        "ticks": ""
                      }
                    },
                    "title": {
                      "x": 0.05
                    },
                    "xaxis": {
                      "automargin": true,
                      "gridcolor": "white",
                      "linecolor": "white",
                      "ticks": "",
                      "title": {
                        "standoff": 15
                      },
                      "zerolinecolor": "white",
                      "zerolinewidth": 2
                    },
                    "yaxis": {
                      "automargin": true,
                      "gridcolor": "white",
                      "linecolor": "white",
                      "ticks": "",
                      "title": {
                        "standoff": 15
                      },
                      "zerolinecolor": "white",
                      "zerolinewidth": 2
                    }
                  }
                },
                "title": {
                  "text": "Factors Affecting Purchase of Travel Insurance: Income"
                },
                "xaxis": {
                  "anchor": "y",
                  "domain": [
                    0,
                    1
                  ],
                  "title": {
                    "text": "AnnualIncome"
                  }
                },
                "yaxis": {
                  "anchor": "x",
                  "domain": [
                    0,
                    1
                  ],
                  "title": {
                    "text": "count"
                  }
                }
              }
            }
          },
          "metadata": {},
          "output_type": "display_data"
        }
      ],
      "source": [
        "figure = px.histogram(df, x = \"AnnualIncome\",color = \"TravelInsurance\",title = \"Factors Affecting Purchase of Travel Insurance: Income\")\n",
        "figure.show()"
      ]
    },
    {
      "cell_type": "markdown",
      "metadata": {
        "id": "s5lr8U29NBvz"
      },
      "source": [
        "The visualization above indicates that individuals earning more than 1,400,000 annually are more likely to purchase an insurance policy."
      ]
    },
    {
      "cell_type": "code",
      "execution_count": 141,
      "metadata": {},
      "outputs": [
        {
          "data": {
            "text/plain": [
              "<seaborn.axisgrid.PairGrid at 0x244ce42b4c0>"
            ]
          },
          "execution_count": 141,
          "metadata": {},
          "output_type": "execute_result"
        },
        {
          "data": {
            "image/png": "[encoded data removed]",
            "text/plain": [
              "<Figure size 1000x1000 with 20 Axes>"
            ]
          },
          "metadata": {},
          "output_type": "display_data"
        }
      ],
      "source": [
        "sns.pairplot(df)"
      ]
    },
    {
      "cell_type": "code",
      "execution_count": 142,
      "metadata": {},
      "outputs": [
        {
          "data": {
            "image/png": "[encoded data removed]",
            "text/plain": [
              "<Figure size 1500x1200 with 4 Axes>"
            ]
          },
          "metadata": {},
          "output_type": "display_data"
        }
      ],
      "source": [
        "# feature distribution of the dataset\n",
        "\n",
        "# plot all features present in the dataset\n",
        "df.hist(bins=50,figsize=(15,12))\n",
        "\n",
        "# add title with size and position\n",
        "plt.suptitle('Feature Distribution',x=0.5,y=1.02,ha='center',fontsize='large')\n",
        "\n",
        "# maintain perfect gaps between all plots\n",
        "plt.tight_layout()"
      ]
    },
    {
      "cell_type": "markdown",
      "metadata": {
        "id": "2b3TaQxqNX7g"
      },
      "source": [
        "\n",
        "Since all columns are important for training the insurance prediction model, I will begin by converting all categorical variables into binary values (1 and 0)."
      ]
    },
    {
      "cell_type": "code",
      "execution_count": 143,
      "metadata": {
        "id": "xtIWsf9SHitJ"
      },
      "outputs": [],
      "source": [
        "df[\"Employment Type\"] = df[\"Employment Type\"].map({\"Government Sector\": 0, \"Private Sector/Self Employed\": 1})\n",
        "df[\"GraduateOrNot\"] = df[\"GraduateOrNot\"].map({\"No\": 0, \"Yes\": 1})\n",
        "df[\"FrequentFlyer\"] = df[\"FrequentFlyer\"].map({\"No\": 0, \"Yes\": 1})\n",
        "df[\"EverTravelledAbroad\"] = df[\"EverTravelledAbroad\"].map({\"No\": 0, \"Yes\": 1})\n",
        "df[\"TravelInsurance\"] = df[\"TravelInsurance\"].map({\"Not Purchased\":0, \"Purchased\":1})"
      ]
    },
    {
      "cell_type": "code",
      "execution_count": 144,
      "metadata": {
        "colab": {
          "base_uri": "https://localhost:8080/",
          "height": 349
        },
        "id": "xaNEMvm5b9hm",
        "outputId": "71118a1c-bed3-4e60-ac63-0b565d825fe7"
      },
      "outputs": [
        {
          "data": {
            "text/html": [
              "<div>\n",
              "<style scoped>\n",
              "    .dataframe tbody tr th:only-of-type {\n",
              "        vertical-align: middle;\n",
              "    }\n",
              "\n",
              "    .dataframe tbody tr th {\n",
              "        vertical-align: top;\n",
              "    }\n",
              "\n",
              "    .dataframe thead th {\n",
              "        text-align: right;\n",
              "    }\n",
              "</style>\n",
              "<table border=\"1\" class=\"dataframe\">\n",
              "  <thead>\n",
              "    <tr style=\"text-align: right;\">\n",
              "      <th></th>\n",
              "      <th>Age</th>\n",
              "      <th>Employment Type</th>\n",
              "      <th>GraduateOrNot</th>\n",
              "      <th>AnnualIncome</th>\n",
              "      <th>FamilyMembers</th>\n",
              "      <th>ChronicDiseases</th>\n",
              "      <th>FrequentFlyer</th>\n",
              "      <th>EverTravelledAbroad</th>\n",
              "      <th>TravelInsurance</th>\n",
              "    </tr>\n",
              "  </thead>\n",
              "  <tbody>\n",
              "    <tr>\n",
              "      <th>Age</th>\n",
              "      <td>1.000000</td>\n",
              "      <td>-0.115134</td>\n",
              "      <td>0.027125</td>\n",
              "      <td>-0.020101</td>\n",
              "      <td>0.027409</td>\n",
              "      <td>0.007359</td>\n",
              "      <td>-0.033159</td>\n",
              "      <td>-0.012779</td>\n",
              "      <td>0.061060</td>\n",
              "    </tr>\n",
              "    <tr>\n",
              "      <th>Employment Type</th>\n",
              "      <td>-0.115134</td>\n",
              "      <td>1.000000</td>\n",
              "      <td>-0.127133</td>\n",
              "      <td>0.349157</td>\n",
              "      <td>-0.003354</td>\n",
              "      <td>-0.011553</td>\n",
              "      <td>0.143790</td>\n",
              "      <td>0.181098</td>\n",
              "      <td>0.147847</td>\n",
              "    </tr>\n",
              "    <tr>\n",
              "      <th>GraduateOrNot</th>\n",
              "      <td>0.027125</td>\n",
              "      <td>-0.127133</td>\n",
              "      <td>1.000000</td>\n",
              "      <td>0.108066</td>\n",
              "      <td>0.021201</td>\n",
              "      <td>0.018811</td>\n",
              "      <td>-0.028120</td>\n",
              "      <td>0.062683</td>\n",
              "      <td>0.018934</td>\n",
              "    </tr>\n",
              "    <tr>\n",
              "      <th>AnnualIncome</th>\n",
              "      <td>-0.020101</td>\n",
              "      <td>0.349157</td>\n",
              "      <td>0.108066</td>\n",
              "      <td>1.000000</td>\n",
              "      <td>-0.015367</td>\n",
              "      <td>-0.001149</td>\n",
              "      <td>0.353087</td>\n",
              "      <td>0.486043</td>\n",
              "      <td>0.396763</td>\n",
              "    </tr>\n",
              "    <tr>\n",
              "      <th>FamilyMembers</th>\n",
              "      <td>0.027409</td>\n",
              "      <td>-0.003354</td>\n",
              "      <td>0.021201</td>\n",
              "      <td>-0.015367</td>\n",
              "      <td>1.000000</td>\n",
              "      <td>0.028209</td>\n",
              "      <td>-0.023775</td>\n",
              "      <td>-0.020755</td>\n",
              "      <td>0.079909</td>\n",
              "    </tr>\n",
              "    <tr>\n",
              "      <th>ChronicDiseases</th>\n",
              "      <td>0.007359</td>\n",
              "      <td>-0.011553</td>\n",
              "      <td>0.018811</td>\n",
              "      <td>-0.001149</td>\n",
              "      <td>0.028209</td>\n",
              "      <td>1.000000</td>\n",
              "      <td>-0.043720</td>\n",
              "      <td>0.021238</td>\n",
              "      <td>0.018190</td>\n",
              "    </tr>\n",
              "    <tr>\n",
              "      <th>FrequentFlyer</th>\n",
              "      <td>-0.033159</td>\n",
              "      <td>0.143790</td>\n",
              "      <td>-0.028120</td>\n",
              "      <td>0.353087</td>\n",
              "      <td>-0.023775</td>\n",
              "      <td>-0.043720</td>\n",
              "      <td>1.000000</td>\n",
              "      <td>0.277334</td>\n",
              "      <td>0.232103</td>\n",
              "    </tr>\n",
              "    <tr>\n",
              "      <th>EverTravelledAbroad</th>\n",
              "      <td>-0.012779</td>\n",
              "      <td>0.181098</td>\n",
              "      <td>0.062683</td>\n",
              "      <td>0.486043</td>\n",
              "      <td>-0.020755</td>\n",
              "      <td>0.021238</td>\n",
              "      <td>0.277334</td>\n",
              "      <td>1.000000</td>\n",
              "      <td>0.433183</td>\n",
              "    </tr>\n",
              "    <tr>\n",
              "      <th>TravelInsurance</th>\n",
              "      <td>0.061060</td>\n",
              "      <td>0.147847</td>\n",
              "      <td>0.018934</td>\n",
              "      <td>0.396763</td>\n",
              "      <td>0.079909</td>\n",
              "      <td>0.018190</td>\n",
              "      <td>0.232103</td>\n",
              "      <td>0.433183</td>\n",
              "      <td>1.000000</td>\n",
              "    </tr>\n",
              "  </tbody>\n",
              "</table>\n",
              "</div>"
            ],
            "text/plain": [
              "                          Age  Employment Type  GraduateOrNot  AnnualIncome  \\\n",
              "Age                  1.000000        -0.115134       0.027125     -0.020101   \n",
              "Employment Type     -0.115134         1.000000      -0.127133      0.349157   \n",
              "GraduateOrNot        0.027125        -0.127133       1.000000      0.108066   \n",
              "AnnualIncome        -0.020101         0.349157       0.108066      1.000000   \n",
              "FamilyMembers        0.027409        -0.003354       0.021201     -0.015367   \n",
              "ChronicDiseases      0.007359        -0.011553       0.018811     -0.001149   \n",
              "FrequentFlyer       -0.033159         0.143790      -0.028120      0.353087   \n",
              "EverTravelledAbroad -0.012779         0.181098       0.062683      0.486043   \n",
              "TravelInsurance      0.061060         0.147847       0.018934      0.396763   \n",
              "\n",
              "                     FamilyMembers  ChronicDiseases  FrequentFlyer  \\\n",
              "Age                       0.027409         0.007359      -0.033159   \n",
              "Employment Type          -0.003354        -0.011553       0.143790   \n",
              "GraduateOrNot             0.021201         0.018811      -0.028120   \n",
              "AnnualIncome             -0.015367        -0.001149       0.353087   \n",
              "FamilyMembers             1.000000         0.028209      -0.023775   \n",
              "ChronicDiseases           0.028209         1.000000      -0.043720   \n",
              "FrequentFlyer            -0.023775        -0.043720       1.000000   \n",
              "EverTravelledAbroad      -0.020755         0.021238       0.277334   \n",
              "TravelInsurance           0.079909         0.018190       0.232103   \n",
              "\n",
              "                     EverTravelledAbroad  TravelInsurance  \n",
              "Age                            -0.012779         0.061060  \n",
              "Employment Type                 0.181098         0.147847  \n",
              "GraduateOrNot                   0.062683         0.018934  \n",
              "AnnualIncome                    0.486043         0.396763  \n",
              "FamilyMembers                  -0.020755         0.079909  \n",
              "ChronicDiseases                 0.021238         0.018190  \n",
              "FrequentFlyer                   0.277334         0.232103  \n",
              "EverTravelledAbroad             1.000000         0.433183  \n",
              "TravelInsurance                 0.433183         1.000000  "
            ]
          },
          "execution_count": 144,
          "metadata": {},
          "output_type": "execute_result"
        }
      ],
      "source": [
        "df.corr()"
      ]
    },
    {
      "cell_type": "code",
      "execution_count": 145,
      "metadata": {},
      "outputs": [
        {
          "data": {
            "text/plain": [
              "<Axes: >"
            ]
          },
          "execution_count": 145,
          "metadata": {},
          "output_type": "execute_result"
        },
        {
          "data": {
            "image/png": "[encoded data removed]",
            "text/plain": [
              "<Figure size 640x480 with 2 Axes>"
            ]
          },
          "metadata": {},
          "output_type": "display_data"
        }
      ],
      "source": [
        "sns.heatmap(df.corr(),annot=True)"
      ]
    },
    {
      "cell_type": "code",
      "execution_count": 146,
      "metadata": {},
      "outputs": [
        {
          "data": {
            "text/plain": [
              "Text(0.5, 1.0, 'Correlation Plot of All Features')"
            ]
          },
          "execution_count": 146,
          "metadata": {},
          "output_type": "execute_result"
        },
        {
          "data": {
            "image/png": "[encoded data removed]",
            "text/plain": [
              "<Figure size 1200x500 with 1 Axes>"
            ]
          },
          "metadata": {},
          "output_type": "display_data"
        }
      ],
      "source": [
        "# checking all the features correlation with respect to target variable\n",
        "\n",
        "plt.figure(figsize=(12,5))\n",
        "\n",
        "df.corr()['TravelInsurance'][0:].plot(kind='bar')\n",
        "\n",
        "plt.xlabel('Features')\n",
        "\n",
        "plt.ylabel('Correlation Value')\n",
        "\n",
        "# create a title for the plot\n",
        "plt.title('Correlation Plot of All Features')"
      ]
    },
    {
      "cell_type": "code",
      "execution_count": 147,
      "metadata": {},
      "outputs": [
        {
          "name": "stdout",
          "output_type": "stream",
          "text": [
            "Age 0\n",
            "Employment Type 0\n",
            "GraduateOrNot 295\n",
            "AnnualIncome 0\n",
            "FamilyMembers 0\n",
            "ChronicDiseases 0\n",
            "FrequentFlyer 417\n",
            "EverTravelledAbroad 380\n"
          ]
        }
      ],
      "source": [
        "# checking the outliers in dataframe\n",
        "def detect_Outliers(df):\n",
        "\n",
        "    for feature in df.drop(\"TravelInsurance\", axis=1).columns:\n",
        "        Q1 = df[feature].quantile(0.25)\n",
        "        Q3 = df[feature].quantile(0.75)\n",
        "        IQR = Q3 - Q1\n",
        "        lower_limit = Q1 - 1.5 * IQR\n",
        "        upper_limit = Q3 + 1.5 * IQR\n",
        "\n",
        "        outliers = df.loc[(df[feature] < lower_limit) | (df[feature] > upper_limit), feature]\n",
        "\n",
        "        print(feature, outliers.shape[0])\n",
        "\n",
        "detect_Outliers(df)"
      ]
    },
    {
      "cell_type": "code",
      "execution_count": 148,
      "metadata": {
        "colab": {
          "base_uri": "https://localhost:8080/",
          "height": 424
        },
        "id": "tF7btkHDJ6wY",
        "outputId": "dcb7f7d6-5b42-4d10-8e05-44d6e9768b1c"
      },
      "outputs": [
        {
          "data": {
            "text/html": [
              "<div>\n",
              "<style scoped>\n",
              "    .dataframe tbody tr th:only-of-type {\n",
              "        vertical-align: middle;\n",
              "    }\n",
              "\n",
              "    .dataframe tbody tr th {\n",
              "        vertical-align: top;\n",
              "    }\n",
              "\n",
              "    .dataframe thead th {\n",
              "        text-align: right;\n",
              "    }\n",
              "</style>\n",
              "<table border=\"1\" class=\"dataframe\">\n",
              "  <thead>\n",
              "    <tr style=\"text-align: right;\">\n",
              "      <th></th>\n",
              "      <th>Age</th>\n",
              "      <th>Employment Type</th>\n",
              "      <th>GraduateOrNot</th>\n",
              "      <th>AnnualIncome</th>\n",
              "      <th>FamilyMembers</th>\n",
              "      <th>ChronicDiseases</th>\n",
              "      <th>FrequentFlyer</th>\n",
              "      <th>EverTravelledAbroad</th>\n",
              "    </tr>\n",
              "  </thead>\n",
              "  <tbody>\n",
              "    <tr>\n",
              "      <th>0</th>\n",
              "      <td>31</td>\n",
              "      <td>0</td>\n",
              "      <td>1</td>\n",
              "      <td>400000</td>\n",
              "      <td>6</td>\n",
              "      <td>1</td>\n",
              "      <td>0</td>\n",
              "      <td>0</td>\n",
              "    </tr>\n",
              "    <tr>\n",
              "      <th>1</th>\n",
              "      <td>31</td>\n",
              "      <td>1</td>\n",
              "      <td>1</td>\n",
              "      <td>1250000</td>\n",
              "      <td>7</td>\n",
              "      <td>0</td>\n",
              "      <td>0</td>\n",
              "      <td>0</td>\n",
              "    </tr>\n",
              "    <tr>\n",
              "      <th>2</th>\n",
              "      <td>34</td>\n",
              "      <td>1</td>\n",
              "      <td>1</td>\n",
              "      <td>500000</td>\n",
              "      <td>4</td>\n",
              "      <td>1</td>\n",
              "      <td>0</td>\n",
              "      <td>0</td>\n",
              "    </tr>\n",
              "    <tr>\n",
              "      <th>3</th>\n",
              "      <td>28</td>\n",
              "      <td>1</td>\n",
              "      <td>1</td>\n",
              "      <td>700000</td>\n",
              "      <td>3</td>\n",
              "      <td>1</td>\n",
              "      <td>0</td>\n",
              "      <td>0</td>\n",
              "    </tr>\n",
              "    <tr>\n",
              "      <th>4</th>\n",
              "      <td>28</td>\n",
              "      <td>1</td>\n",
              "      <td>1</td>\n",
              "      <td>700000</td>\n",
              "      <td>8</td>\n",
              "      <td>1</td>\n",
              "      <td>1</td>\n",
              "      <td>0</td>\n",
              "    </tr>\n",
              "    <tr>\n",
              "      <th>...</th>\n",
              "      <td>...</td>\n",
              "      <td>...</td>\n",
              "      <td>...</td>\n",
              "      <td>...</td>\n",
              "      <td>...</td>\n",
              "      <td>...</td>\n",
              "      <td>...</td>\n",
              "      <td>...</td>\n",
              "    </tr>\n",
              "    <tr>\n",
              "      <th>1982</th>\n",
              "      <td>33</td>\n",
              "      <td>1</td>\n",
              "      <td>1</td>\n",
              "      <td>1500000</td>\n",
              "      <td>4</td>\n",
              "      <td>0</td>\n",
              "      <td>1</td>\n",
              "      <td>1</td>\n",
              "    </tr>\n",
              "    <tr>\n",
              "      <th>1983</th>\n",
              "      <td>28</td>\n",
              "      <td>1</td>\n",
              "      <td>1</td>\n",
              "      <td>1750000</td>\n",
              "      <td>5</td>\n",
              "      <td>1</td>\n",
              "      <td>0</td>\n",
              "      <td>1</td>\n",
              "    </tr>\n",
              "    <tr>\n",
              "      <th>1984</th>\n",
              "      <td>28</td>\n",
              "      <td>1</td>\n",
              "      <td>1</td>\n",
              "      <td>1150000</td>\n",
              "      <td>6</td>\n",
              "      <td>1</td>\n",
              "      <td>0</td>\n",
              "      <td>0</td>\n",
              "    </tr>\n",
              "    <tr>\n",
              "      <th>1985</th>\n",
              "      <td>34</td>\n",
              "      <td>1</td>\n",
              "      <td>1</td>\n",
              "      <td>1000000</td>\n",
              "      <td>6</td>\n",
              "      <td>0</td>\n",
              "      <td>1</td>\n",
              "      <td>1</td>\n",
              "    </tr>\n",
              "    <tr>\n",
              "      <th>1986</th>\n",
              "      <td>34</td>\n",
              "      <td>1</td>\n",
              "      <td>1</td>\n",
              "      <td>500000</td>\n",
              "      <td>4</td>\n",
              "      <td>0</td>\n",
              "      <td>0</td>\n",
              "      <td>0</td>\n",
              "    </tr>\n",
              "  </tbody>\n",
              "</table>\n",
              "<p>1987 rows × 8 columns</p>\n",
              "</div>"
            ],
            "text/plain": [
              "      Age  Employment Type  GraduateOrNot  AnnualIncome  FamilyMembers  \\\n",
              "0      31                0              1        400000              6   \n",
              "1      31                1              1       1250000              7   \n",
              "2      34                1              1        500000              4   \n",
              "3      28                1              1        700000              3   \n",
              "4      28                1              1        700000              8   \n",
              "...   ...              ...            ...           ...            ...   \n",
              "1982   33                1              1       1500000              4   \n",
              "1983   28                1              1       1750000              5   \n",
              "1984   28                1              1       1150000              6   \n",
              "1985   34                1              1       1000000              6   \n",
              "1986   34                1              1        500000              4   \n",
              "\n",
              "      ChronicDiseases  FrequentFlyer  EverTravelledAbroad  \n",
              "0                   1              0                    0  \n",
              "1                   0              0                    0  \n",
              "2                   1              0                    0  \n",
              "3                   1              0                    0  \n",
              "4                   1              1                    0  \n",
              "...               ...            ...                  ...  \n",
              "1982                0              1                    1  \n",
              "1983                1              0                    1  \n",
              "1984                1              0                    0  \n",
              "1985                0              1                    1  \n",
              "1986                0              0                    0  \n",
              "\n",
              "[1987 rows x 8 columns]"
            ]
          },
          "execution_count": 148,
          "metadata": {},
          "output_type": "execute_result"
        }
      ],
      "source": [
        "x = df.iloc[:,:-1]\n",
        "x"
      ]
    },
    {
      "cell_type": "code",
      "execution_count": 149,
      "metadata": {
        "colab": {
          "base_uri": "https://localhost:8080/"
        },
        "id": "QCvqXVB3J8KS",
        "outputId": "f6f12410-7b15-4788-9b6c-64d8d0b8f05a"
      },
      "outputs": [
        {
          "data": {
            "text/plain": [
              "0       0\n",
              "1       0\n",
              "2       1\n",
              "3       0\n",
              "4       0\n",
              "       ..\n",
              "1982    1\n",
              "1983    0\n",
              "1984    0\n",
              "1985    1\n",
              "1986    0\n",
              "Name: TravelInsurance, Length: 1987, dtype: int64"
            ]
          },
          "execution_count": 149,
          "metadata": {},
          "output_type": "execute_result"
        }
      ],
      "source": [
        "y = df.iloc[:,-1]\n",
        "y"
      ]
    },
    {
      "cell_type": "code",
      "execution_count": 150,
      "metadata": {
        "colab": {
          "base_uri": "https://localhost:8080/"
        },
        "id": "OR0LCQnZZTRi",
        "outputId": "b3b2ba6b-7f64-4ac9-d170-9f3b477ec98e"
      },
      "outputs": [
        {
          "data": {
            "text/plain": [
              "TravelInsurance\n",
              "0    1277\n",
              "1     710\n",
              "Name: count, dtype: int64"
            ]
          },
          "execution_count": 150,
          "metadata": {},
          "output_type": "execute_result"
        }
      ],
      "source": [
        "y.value_counts()"
      ]
    },
    {
      "cell_type": "markdown",
      "metadata": {
        "id": "y23qbY8dNgXe"
      },
      "source": [
        "Now let's split the data and train the model"
      ]
    },
    {
      "cell_type": "code",
      "execution_count": 151,
      "metadata": {
        "id": "yaPmPHpgKD5L"
      },
      "outputs": [],
      "source": [
        "from sklearn.model_selection import train_test_split\n",
        "from imblearn.over_sampling import SMOTE\n",
        "\n",
        "# Step 1: Split your data\n",
        "x_train, x_test, y_train, y_test = train_test_split(x, y, test_size=0.2, random_state=42, stratify=y)\n",
        "\n",
        "# Step 2: Apply SMOTE on the training data only\n",
        "from imblearn.combine import SMOTETomek\n",
        "smk = SMOTETomek(random_state=42)\n",
        "x_train_resampled, y_train_resampled = smk.fit_resample(x_train, y_train)\n"
      ]
    },
    {
      "cell_type": "markdown",
      "metadata": {},
      "source": [
        "### Normalisation"
      ]
    },
    {
      "cell_type": "code",
      "execution_count": 152,
      "metadata": {},
      "outputs": [],
      "source": [
        "\n",
        "#Scaling\n",
        "from sklearn.preprocessing import MinMaxScaler\n",
        "scaler = MinMaxScaler()   #Object creation\n",
        "scaler.fit(x_train_resampled)\n",
        "x_train_resampled = scaler.fit_transform(x_train_resampled)\n",
        "x_test = scaler.transform(x_test)\n"
      ]
    },
    {
      "cell_type": "code",
      "execution_count": 153,
      "metadata": {
        "colab": {
          "base_uri": "https://localhost:8080/"
        },
        "id": "BNwMi6Ah7DO9",
        "outputId": "62116a8d-f8ec-4221-f9c1-c04e1be620c1"
      },
      "outputs": [
        {
          "data": {
            "text/plain": [
              "((2008, 8), (398, 8))"
            ]
          },
          "execution_count": 153,
          "metadata": {},
          "output_type": "execute_result"
        }
      ],
      "source": [
        "x_train_resampled.shape, x_test.shape"
      ]
    },
    {
      "cell_type": "code",
      "execution_count": 154,
      "metadata": {
        "colab": {
          "base_uri": "https://localhost:8080/"
        },
        "id": "M2MD0DA57E25",
        "outputId": "a6135e25-d571-4f45-9a42-18e40980ebac"
      },
      "outputs": [
        {
          "data": {
            "text/plain": [
              "((2008,), (398,))"
            ]
          },
          "execution_count": 154,
          "metadata": {},
          "output_type": "execute_result"
        }
      ],
      "source": [
        "y_train_resampled.shape, y_test.shape"
      ]
    },
    {
      "cell_type": "code",
      "execution_count": 155,
      "metadata": {
        "colab": {
          "base_uri": "https://localhost:8080/"
        },
        "id": "LUIIspQUIOZH",
        "outputId": "da008dbc-e8c2-4195-b37e-dd8f4d0b55ee"
      },
      "outputs": [
        {
          "name": "stdout",
          "output_type": "stream",
          "text": [
            "KNeighborsClassifier()\n",
            "              precision    recall  f1-score   support\n",
            "\n",
            "           0       0.78      0.74      0.76       256\n",
            "           1       0.57      0.63      0.60       142\n",
            "\n",
            "    accuracy                           0.70       398\n",
            "   macro avg       0.68      0.68      0.68       398\n",
            "weighted avg       0.71      0.70      0.70       398\n",
            "\n",
            "SVC()\n",
            "              precision    recall  f1-score   support\n",
            "\n",
            "           0       0.79      0.86      0.82       256\n",
            "           1       0.70      0.58      0.64       142\n",
            "\n",
            "    accuracy                           0.76       398\n",
            "   macro avg       0.74      0.72      0.73       398\n",
            "weighted avg       0.76      0.76      0.76       398\n",
            "\n",
            "GaussianNB()\n",
            "              precision    recall  f1-score   support\n",
            "\n",
            "           0       0.77      0.83      0.80       256\n",
            "           1       0.65      0.56      0.60       142\n",
            "\n",
            "    accuracy                           0.73       398\n",
            "   macro avg       0.71      0.69      0.70       398\n",
            "weighted avg       0.73      0.73      0.73       398\n",
            "\n",
            "RandomForestClassifier()\n",
            "              precision    recall  f1-score   support\n",
            "\n",
            "           0       0.79      0.79      0.79       256\n",
            "           1       0.62      0.61      0.61       142\n",
            "\n",
            "    accuracy                           0.73       398\n",
            "   macro avg       0.70      0.70      0.70       398\n",
            "weighted avg       0.73      0.73      0.73       398\n",
            "\n",
            "AdaBoostClassifier()\n",
            "              precision    recall  f1-score   support\n",
            "\n",
            "           0       0.78      0.87      0.82       256\n",
            "           1       0.70      0.56      0.62       142\n",
            "\n",
            "    accuracy                           0.76       398\n",
            "   macro avg       0.74      0.72      0.72       398\n",
            "weighted avg       0.75      0.76      0.75       398\n",
            "\n",
            "XGBClassifier(base_score=None, booster=None, callbacks=None,\n",
            "              colsample_bylevel=None, colsample_bynode=None,\n",
            "              colsample_bytree=None, device=None, early_stopping_rounds=None,\n",
            "              enable_categorical=False, eval_metric=None, feature_types=None,\n",
            "              gamma=None, grow_policy=None, importance_type=None,\n",
            "              interaction_constraints=None, learning_rate=None, max_bin=None,\n",
            "              max_cat_threshold=None, max_cat_to_onehot=None,\n",
            "              max_delta_step=None, max_depth=None, max_leaves=None,\n",
            "              min_child_weight=None, missing=nan, monotone_constraints=None,\n",
            "              multi_strategy=None, n_estimators=None, n_jobs=None,\n",
            "              num_parallel_tree=None, random_state=None, ...)\n",
            "              precision    recall  f1-score   support\n",
            "\n",
            "           0       0.80      0.83      0.82       256\n",
            "           1       0.68      0.63      0.65       142\n",
            "\n",
            "    accuracy                           0.76       398\n",
            "   macro avg       0.74      0.73      0.74       398\n",
            "weighted avg       0.76      0.76      0.76       398\n",
            "\n",
            "DecisionTreeClassifier()\n",
            "              precision    recall  f1-score   support\n",
            "\n",
            "           0       0.77      0.79      0.78       256\n",
            "           1       0.61      0.58      0.59       142\n",
            "\n",
            "    accuracy                           0.72       398\n",
            "   macro avg       0.69      0.69      0.69       398\n",
            "weighted avg       0.71      0.72      0.71       398\n",
            "\n"
          ]
        }
      ],
      "source": [
        "from sklearn.neighbors import KNeighborsClassifier\n",
        "from sklearn.svm import SVC\n",
        "from sklearn.naive_bayes import GaussianNB\n",
        "from sklearn.ensemble import RandomForestClassifier\n",
        "from sklearn.ensemble import AdaBoostClassifier\n",
        "from xgboost import XGBClassifier\n",
        "from sklearn.tree import DecisionTreeClassifier\n",
        "\n",
        "knn = KNeighborsClassifier()\n",
        "sv = SVC()\n",
        "nbs = GaussianNB()\n",
        "rb = RandomForestClassifier()\n",
        "ad = AdaBoostClassifier()\n",
        "xg = XGBClassifier()\n",
        "dtc = DecisionTreeClassifier()\n",
        "\n",
        "models=[knn,sv,nbs,rb,ad,xg,dtc]\n",
        "for model in models:\n",
        "  print(model)\n",
        "  model.fit(x_train_resampled,y_train_resampled)\n",
        "  ypred=model.predict(x_test)\n",
        "  print(classification_report(y_test,ypred))"
      ]
    },
    {
      "cell_type": "code",
      "execution_count": 156,
      "metadata": {},
      "outputs": [],
      "source": [
        "\n",
        "from sklearn.model_selection import GridSearchCV\n",
        "# Define parameter grids for each model\n",
        "\n",
        "param_grid_svc = {\n",
        "    'C': [0.1, 1, 10],\n",
        "    'kernel': ['linear', 'rbf'],\n",
        "    'gamma': ['scale', 'auto']\n",
        "}\n",
        "\n",
        "param_grid_ada = {\n",
        "    'n_estimators': [50, 100, 200],\n",
        "    'learning_rate': [0.01, 0.1, 1],\n",
        "    'algorithm': ['SAMME', 'SAMME.R']\n",
        "}\n",
        "\n",
        "param_grid_xgb = {\n",
        "    'n_estimators': [50, 100, 200],\n",
        "    'max_depth': [3, 5, 7],\n",
        "    'learning_rate': [0.01, 0.1, 0.2],\n",
        "    'subsample': [0.7, 1],\n",
        "    'colsample_bytree': [0.7, 1]\n",
        "}"
      ]
    },
    {
      "cell_type": "code",
      "execution_count": 157,
      "metadata": {},
      "outputs": [
        {
          "name": "stdout",
          "output_type": "stream",
          "text": [
            "Fitting 5 folds for each of 12 candidates, totalling 60 fits\n",
            "Best parameters for SVC: {'C': 10, 'gamma': 'scale', 'kernel': 'rbf'}\n",
            "Fitting 5 folds for each of 18 candidates, totalling 90 fits\n",
            "Best parameters for AdaBoost: {'algorithm': 'SAMME', 'learning_rate': 1, 'n_estimators': 200}\n",
            "Fitting 5 folds for each of 108 candidates, totalling 540 fits\n",
            "Best parameters for XGB: {'colsample_bytree': 1, 'learning_rate': 0.2, 'max_depth': 7, 'n_estimators': 200, 'subsample': 0.7}\n"
          ]
        }
      ],
      "source": [
        "#  Define models and run GridSearchCV:\n",
        "\n",
        "# SVC tuning\n",
        "svc = SVC()\n",
        "grid_svc = GridSearchCV(svc, param_grid_svc, cv=5, scoring='f1', n_jobs=-1, verbose=2)\n",
        "grid_svc.fit(x_train_resampled, y_train_resampled)\n",
        "print(\"Best parameters for SVC:\", grid_svc.best_params_)\n",
        "\n",
        "# AdaBoost tuning\n",
        "ada = AdaBoostClassifier()\n",
        "grid_ada = GridSearchCV(ada, param_grid_ada, cv=5, scoring='f1', n_jobs=-1, verbose=2)\n",
        "grid_ada.fit(x_train_resampled, y_train_resampled)\n",
        "print(\"Best parameters for AdaBoost:\", grid_ada.best_params_)\n",
        "\n",
        "# XGB tuning\n",
        "xgb = XGBClassifier(eval_metric='logloss')\n",
        "grid_xgb = GridSearchCV(xgb, param_grid_xgb, cv=5, scoring='f1', n_jobs=-1, verbose=2)\n",
        "grid_xgb.fit(x_train_resampled, y_train_resampled)\n",
        "print(\"Best parameters for XGB:\", grid_xgb.best_params_)\n",
        "\n"
      ]
    },
    {
      "cell_type": "code",
      "execution_count": 158,
      "metadata": {},
      "outputs": [
        {
          "name": "stdout",
          "output_type": "stream",
          "text": [
            "SVC Classification Report:\n",
            "               precision    recall  f1-score   support\n",
            "\n",
            "           0       0.79      0.89      0.84       256\n",
            "           1       0.74      0.56      0.64       142\n",
            "\n",
            "    accuracy                           0.77       398\n",
            "   macro avg       0.76      0.73      0.74       398\n",
            "weighted avg       0.77      0.77      0.77       398\n",
            "\n",
            "AdaBoost Classification Report:\n",
            "               precision    recall  f1-score   support\n",
            "\n",
            "           0       0.79      0.83      0.81       256\n",
            "           1       0.66      0.61      0.63       142\n",
            "\n",
            "    accuracy                           0.75       398\n",
            "   macro avg       0.73      0.72      0.72       398\n",
            "weighted avg       0.74      0.75      0.75       398\n",
            "\n",
            "XGBoost Classification Report:\n",
            "               precision    recall  f1-score   support\n",
            "\n",
            "           0       0.79      0.80      0.80       256\n",
            "           1       0.63      0.63      0.63       142\n",
            "\n",
            "    accuracy                           0.74       398\n",
            "   macro avg       0.71      0.71      0.71       398\n",
            "weighted avg       0.74      0.74      0.74       398\n",
            "\n"
          ]
        }
      ],
      "source": [
        "\n",
        "\n",
        "# Create models with best params\n",
        "svc_best = SVC(**grid_svc.best_params_)\n",
        "ada_best = AdaBoostClassifier(**grid_ada.best_params_)\n",
        "xgb_best = XGBClassifier(**grid_xgb.best_params_, eval_metric='logloss')\n",
        "\n",
        "# Train models on resampled training data\n",
        "svc_best.fit(x_train_resampled, y_train_resampled)\n",
        "ada_best.fit(x_train_resampled, y_train_resampled)\n",
        "xgb_best.fit(x_train_resampled, y_train_resampled)\n",
        "\n",
        "# Predict on test data\n",
        "svc_pred = svc_best.predict(x_test)\n",
        "ada_pred = ada_best.predict(x_test)\n",
        "xgb_pred = xgb_best.predict(x_test)\n",
        "\n",
        "# Print classification reports\n",
        "print(\"SVC Classification Report:\\n\", classification_report(y_test, svc_pred))\n",
        "print(\"AdaBoost Classification Report:\\n\", classification_report(y_test, ada_pred))\n",
        "print(\"XGBoost Classification Report:\\n\", classification_report(y_test, xgb_pred))\n"
      ]
    },
    {
      "cell_type": "markdown",
      "metadata": {},
      "source": [
        "\n",
        "- SVC has the highest overall accuracy and best weighted average F1-score.\n",
        "\n",
        "- XGBoost performs slightly better than AdaBoost in terms of recall and F1-score for class 1.\n",
        "\n",
        "- SVC shows better precision for identifying positive class (buyers), but slightly lower recall.\n",
        "\n"
      ]
    },
    {
      "cell_type": "code",
      "execution_count": 159,
      "metadata": {
        "colab": {
          "base_uri": "https://localhost:8080/"
        },
        "id": "O6zTrYRovXvd",
        "outputId": "4feed97f-e99d-41a8-95a2-1b3314cae39d"
      },
      "outputs": [
        {
          "name": "stdout",
          "output_type": "stream",
          "text": [
            "              precision    recall  f1-score   support\n",
            "\n",
            "           0       0.79      0.89      0.84       256\n",
            "           1       0.74      0.56      0.64       142\n",
            "\n",
            "    accuracy                           0.77       398\n",
            "   macro avg       0.76      0.73      0.74       398\n",
            "weighted avg       0.77      0.77      0.77       398\n",
            "\n"
          ]
        }
      ],
      "source": [
        "svc_model = SVC(C= 10, gamma= 'scale' ,kernel = 'rbf')\n",
        "svc_model.fit(x_train_resampled,y_train_resampled)\n",
        "ypred=svc_model.predict(x_test)\n",
        "print(classification_report(y_test,ypred))"
      ]
    },
    {
      "cell_type": "code",
      "execution_count": 160,
      "metadata": {
        "colab": {
          "base_uri": "https://localhost:8080/"
        },
        "id": "GptmUF1v2asO",
        "outputId": "7e9390a9-38fa-432a-be31-a804a4e70ee9"
      },
      "outputs": [
        {
          "data": {
            "text/plain": [
              "array([1], dtype=int64)"
            ]
          },
          "execution_count": 160,
          "metadata": {},
          "output_type": "execute_result"
        }
      ],
      "source": [
        "y_new = svc_model.predict([[33,1,1,1500000,4,0,1,1]])\n",
        "y_new"
      ]
    },
    {
      "cell_type": "code",
      "execution_count": 161,
      "metadata": {},
      "outputs": [
        {
          "name": "stdout",
          "output_type": "stream",
          "text": [
            "Prediction: [1]\n"
          ]
        }
      ],
      "source": [
        "test_sample = [[22, 0, 0, 300000, 5, 1, 0, 0]] \n",
        "prediction = svc_model.predict(test_sample)\n",
        "print(\"Prediction:\", prediction)\n"
      ]
    },
    {
      "cell_type": "markdown",
      "metadata": {
        "id": "Gvi6GGOiNu-C"
      },
      "source": [
        "The model gives a score of over 77% which is not bad for this kind of problem. So this is how you can train a machine learning model for the task of insurance prediction using Python."
      ]
    },
    {
      "cell_type": "code",
      "execution_count": 162,
      "metadata": {
        "id": "-Alyd76GO3Vt"
      },
      "outputs": [],
      "source": [
        "pickle.dump(model, open('svc_model.sav', 'wb'))\n",
        "pickle.dump(scaler, open('scaler.sav', 'wb'))"
      ]
    }
  ],
  "metadata": {
    "colab": {
      "provenance": []
    },
    "kernelspec": {
      "display_name": "Python 3",
      "name": "python3"
    },
    "language_info": {
      "codemirror_mode": {
        "name": "ipython",
        "version": 3
      },
      "file_extension": ".py",
      "mimetype": "text/x-python",
      "name": "python",
      "nbconvert_exporter": "python",
      "pygments_lexer": "ipython3",
      "version": "3.8.10"
    }
  },
  "nbformat": 4,
  "nbformat_minor": 0
}
